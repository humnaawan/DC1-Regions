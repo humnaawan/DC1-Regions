{
 "cells": [
  {
   "cell_type": "code",
   "execution_count": 1,
   "metadata": {
    "collapsed": true
   },
   "outputs": [],
   "source": [
    "import matplotlib.pyplot as plt\n",
    "%matplotlib inline\n",
    "import numpy as np\n",
    "import os\n",
    "import time\n",
    "import pandas as pd\n",
    "from findDC1Chips import findDC1Chips"
   ]
  },
  {
   "cell_type": "code",
   "execution_count": 2,
   "metadata": {
    "collapsed": false
   },
   "outputs": [
    {
     "name": "stdout",
     "output_type": "stream",
     "text": [
      "Help on function findDC1Chips in module findDC1Chips:\n",
      "\n",
      "findDC1Chips(dbpath, fiducialDither, fiducialID, filterBand='r', disc=True, FOV_radius=0.0305, saveData=True, outputPath=None)\n",
      "    Find the chips in each visit that come into play in the region based on \n",
      "    the given fieldID.\n",
      "    \n",
      "    Required Parameters\n",
      "    -------------------\n",
      "    * dbpath: str: path to the OpSim database.\n",
      "    * fiducialDither: str: observing strategy to base the chips on. \n",
      "                           Optional: 'NoDither', 'SequentialHexDitherPerNight'\n",
      "    * fiducialID: int: fieldID for the FOV on which to base the region.\n",
      "    \n",
      "    Optional Parameters\n",
      "    -------------------\n",
      "    * filterBand: str: filter to consider. Default: 'r'\n",
      "    * disc: bool: set to False if don't want disc-like region; will implement the one\n",
      "                  in intermediates.enclosingRegion. Default: True.\n",
      "    * FOV_radius: float: radius of the FOV (radians). Default: 0.0305\n",
      "    * saveData: bool: set to False if don't want to save the output data (includes\n",
      "                      obsIDsList, expDatesList, fIDsList, chipNamesList; saved as a\n",
      "                      pickle). Default: True\n",
      "    * outputPath: str: path to the output directory where the data should be saved.\n",
      "                       If None given, will save in the current working directory.\n",
      "                       Default: None\n",
      "    \n",
      "    Outputs\n",
      "    -------\n",
      "    obsIDsList, expDatesList, fIDsList, chipNamesList\n",
      "    Default parameters save the output data as a pickle. See above.\n",
      "\n"
     ]
    }
   ],
   "source": [
    "help(findDC1Chips)"
   ]
  },
  {
   "cell_type": "code",
   "execution_count": 3,
   "metadata": {
    "collapsed": true
   },
   "outputs": [],
   "source": [
    "dbpath= '/Volumes/Transcend/minion_1016_sqlite.db'"
   ]
  },
  {
   "cell_type": "code",
   "execution_count": 4,
   "metadata": {
    "collapsed": false,
    "scrolled": false
   },
   "outputs": [
    {
     "name": "stdout",
     "output_type": "stream",
     "text": [
      "\n",
      "############################################\n",
      "## Getting simData ... \n",
      "\n",
      "############################################\n",
      "## Finding region pixels ... \n",
      "\n",
      "## Total number of pixels in the region: 4568\n",
      "Healpix slicer using NSIDE=512, approximate resolution 6.870973 arcminutes\n"
     ]
    },
    {
     "name": "stderr",
     "output_type": "stream",
     "text": [
      "WARNING: ErfaWarning: ERFA function \"taiutc\" yielded 1 of \"dubious year (Note 4)\" [astropy._erfa.core]\n",
      "/Users/Humna/lsst/DarwinX86/sims_utils/12.0-13-g6534730/python/lsst/sims/utils/ModifiedJulianDate.py:188: UTCtoUT1Warning: UTC is outside of IERS table for UT1-UTC.\n",
      "Returning UT1 = UTC for lack of a better idea\n",
      "This warning was caused by calling ModifiedJulianDate.dut1\n",
      "\n",
      "  category=UTCtoUT1Warning)\n"
     ]
    },
    {
     "name": "stdout",
     "output_type": "stream",
     "text": [
      "## Percent pixels done: 5.013135 \n",
      " Time passed (min): 10.922062\n"
     ]
    },
    {
     "name": "stderr",
     "output_type": "stream",
     "text": [
      "/Users/Humna/lsst/DarwinX86/sims_coordUtils/12.0-4-g7de6cfa+29/python/lsst/sims/coordUtils/CameraUtils.py:325: MultipleChipWarning: An object has landed on multiple chips.  You asked for this not to happen.\n",
      "We will return only one of the chip names.  If you want both, try re-running with the kwarg allow_multiple_chips=True.\n",
      "Offending chip names were ['R:4,0 S:0,2,A', 'R:4,0 S:0,2,B']\n",
      "Offending pupil coordinate point was 0.019390737213 -0.020521799440\n",
      "\n",
      "  category=MultipleChipWarning)\n"
     ]
    },
    {
     "name": "stdout",
     "output_type": "stream",
     "text": [
      "## Percent pixels done: 10.026270 \n",
      " Time passed (min): 23.108499\n",
      "## Percent pixels done: 15.039405 \n",
      " Time passed (min): 35.334911\n",
      "## Percent pixels done: 20.052539 \n",
      " Time passed (min): 47.426811\n",
      "## Percent pixels done: 25.065674 \n",
      " Time passed (min): 61.797919\n",
      "## Percent pixels done: 30.078809 \n",
      " Time passed (min): 79.845343\n",
      "## Percent pixels done: 35.091944 \n",
      " Time passed (min): 89.329948\n",
      "## Percent pixels done: 40.105079 \n",
      " Time passed (min): 100.195181\n",
      "## Percent pixels done: 45.118214 \n",
      " Time passed (min): 113.680428\n",
      "## Percent pixels done: 50.131349 \n",
      " Time passed (min): 125.509783\n",
      "## Percent pixels done: 55.144483 \n",
      " Time passed (min): 137.966244\n",
      "## Percent pixels done: 60.157618 \n",
      " Time passed (min): 150.799623\n",
      "## Percent pixels done: 65.170753 \n",
      " Time passed (min): 160.535221\n",
      "## Percent pixels done: 70.183888 \n",
      " Time passed (min): 170.016198\n"
     ]
    },
    {
     "name": "stderr",
     "output_type": "stream",
     "text": [
      "/Users/Humna/lsst/DarwinX86/sims_coordUtils/12.0-4-g7de6cfa+29/python/lsst/sims/coordUtils/CameraUtils.py:325: MultipleChipWarning: An object has landed on multiple chips.  You asked for this not to happen.\n",
      "We will return only one of the chip names.  If you want both, try re-running with the kwarg allow_multiple_chips=True.\n",
      "Offending chip names were ['R:4,0 S:0,2,A', 'R:4,0 S:0,2,B']\n",
      "Offending pupil coordinate point was 0.021111644894 -0.020519322438\n",
      "\n",
      "  category=MultipleChipWarning)\n"
     ]
    },
    {
     "name": "stdout",
     "output_type": "stream",
     "text": [
      "## Percent pixels done: 75.197023 \n",
      " Time passed (min): 179.444383\n",
      "## Percent pixels done: 80.210158 \n",
      " Time passed (min): 188.897053\n",
      "## Percent pixels done: 85.223292 \n",
      " Time passed (min): 198.421659\n",
      "## Percent pixels done: 90.236427 \n",
      " Time passed (min): 208.150651\n",
      "## Percent pixels done: 95.249562 \n",
      " Time passed (min): 217.968016\n",
      "## Unique obsHistIDs: 2779 \n",
      " Unique expDates: 2779 \n",
      " Unique chipNames: 205 \n",
      "\n",
      "\n",
      "############################################\n",
      "## Consolidating the data ... \n",
      "\n",
      "############################################\n",
      "## Saving the data ... \n",
      "\n",
      "############################################\n",
      "## Saved the data as 2017-01-22_chipPerVisitData_fID1447_SequentialHexDitherPerNight_discRegion.pickle: \n"
     ]
    }
   ],
   "source": [
    "output= findDC1Chips(dbpath, 'SequentialHexDitherPerNight',  1447, \n",
    "                     outputPath= os.getcwd()+ '/chipsPerVisitData')\n",
    "obsIDsList, expDatesList, fIDsList, chipNamesList= output"
   ]
  },
  {
   "cell_type": "code",
   "execution_count": 5,
   "metadata": {
    "collapsed": false
   },
   "outputs": [
    {
     "data": {
      "text/html": [
       "<div>\n",
       "<table border=\"1\" class=\"dataframe\">\n",
       "  <thead>\n",
       "    <tr style=\"text-align: right;\">\n",
       "      <th></th>\n",
       "      <th>0</th>\n",
       "      <th>1</th>\n",
       "      <th>2</th>\n",
       "      <th>3</th>\n",
       "      <th>4</th>\n",
       "      <th>5</th>\n",
       "      <th>6</th>\n",
       "      <th>7</th>\n",
       "      <th>8</th>\n",
       "      <th>9</th>\n",
       "      <th>...</th>\n",
       "      <th>2769</th>\n",
       "      <th>2770</th>\n",
       "      <th>2771</th>\n",
       "      <th>2772</th>\n",
       "      <th>2773</th>\n",
       "      <th>2774</th>\n",
       "      <th>2775</th>\n",
       "      <th>2776</th>\n",
       "      <th>2777</th>\n",
       "      <th>2778</th>\n",
       "    </tr>\n",
       "  </thead>\n",
       "  <tbody>\n",
       "    <tr>\n",
       "      <th>obsHistID</th>\n",
       "      <td>40336</td>\n",
       "      <td>40337</td>\n",
       "      <td>40338</td>\n",
       "      <td>40345</td>\n",
       "      <td>40366</td>\n",
       "      <td>40367</td>\n",
       "      <td>40368</td>\n",
       "      <td>40375</td>\n",
       "      <td>193115</td>\n",
       "      <td>193156</td>\n",
       "      <td>...</td>\n",
       "      <td>2440035</td>\n",
       "      <td>2440067</td>\n",
       "      <td>2440068</td>\n",
       "      <td>2440082</td>\n",
       "      <td>2440083</td>\n",
       "      <td>2440095</td>\n",
       "      <td>2441917</td>\n",
       "      <td>2441931</td>\n",
       "      <td>2441963</td>\n",
       "      <td>2441975</td>\n",
       "    </tr>\n",
       "    <tr>\n",
       "      <th>expDate</th>\n",
       "      <td>[4673449]</td>\n",
       "      <td>[4673487]</td>\n",
       "      <td>[4673526]</td>\n",
       "      <td>[4673806]</td>\n",
       "      <td>[4674632]</td>\n",
       "      <td>[4674670]</td>\n",
       "      <td>[4674709]</td>\n",
       "      <td>[4674986]</td>\n",
       "      <td>[22405149]</td>\n",
       "      <td>[22406794]</td>\n",
       "      <td>...</td>\n",
       "      <td>[314253049]</td>\n",
       "      <td>[314254567]</td>\n",
       "      <td>[314254614]</td>\n",
       "      <td>[314255232]</td>\n",
       "      <td>[314255281]</td>\n",
       "      <td>[314256084]</td>\n",
       "      <td>[314506587]</td>\n",
       "      <td>[314507151]</td>\n",
       "      <td>[314508445]</td>\n",
       "      <td>[314508970]</td>\n",
       "    </tr>\n",
       "    <tr>\n",
       "      <th>fIDs</th>\n",
       "      <td>[1305]</td>\n",
       "      <td>[1323]</td>\n",
       "      <td>[1333]</td>\n",
       "      <td>[1212]</td>\n",
       "      <td>[1305]</td>\n",
       "      <td>[1323]</td>\n",
       "      <td>[1333]</td>\n",
       "      <td>[1212]</td>\n",
       "      <td>[1305]</td>\n",
       "      <td>[1305]</td>\n",
       "      <td>...</td>\n",
       "      <td>[1212]</td>\n",
       "      <td>[1564]</td>\n",
       "      <td>[1568]</td>\n",
       "      <td>[1234]</td>\n",
       "      <td>[1220]</td>\n",
       "      <td>[1212]</td>\n",
       "      <td>[1542]</td>\n",
       "      <td>[1305]</td>\n",
       "      <td>[1542]</td>\n",
       "      <td>[1305]</td>\n",
       "    </tr>\n",
       "    <tr>\n",
       "      <th>Chips</th>\n",
       "      <td>[R:1,1 S:2,1, R:1,1 S:2,2, R:1,2 S:2,0, R:2,1 ...</td>\n",
       "      <td>[R:1,0 S:2,1, R:1,0 S:2,2, R:1,1 S:2,0, R:1,1 ...</td>\n",
       "      <td>[R:1,0 S:2,0, R:1,0 S:2,1, R:1,0 S:2,2, R:1,1 ...</td>\n",
       "      <td>[R:3,3 S:1,0, R:3,3 S:1,1, R:3,3 S:1,2, R:3,3 ...</td>\n",
       "      <td>[R:1,1 S:2,2, R:1,2 S:2,0, R:2,1 S:0,1, R:2,1 ...</td>\n",
       "      <td>[R:1,0 S:2,1, R:1,0 S:2,2, R:1,1 S:2,0, R:1,1 ...</td>\n",
       "      <td>[R:1,0 S:2,1, R:1,0 S:2,2, R:1,1 S:2,0, R:1,1 ...</td>\n",
       "      <td>[R:3,3 S:1,0, R:3,3 S:1,1, R:3,3 S:1,2, R:3,3 ...</td>\n",
       "      <td>[R:0,0 S:2,1, R:1,0 S:0,0, R:1,0 S:0,1, R:1,0 ...</td>\n",
       "      <td>[R:0,0 S:2,1, R:1,0 S:0,0, R:1,0 S:0,1, R:1,0 ...</td>\n",
       "      <td>...</td>\n",
       "      <td>[R:0,1 S:0,1, R:0,1 S:0,2, R:0,1 S:1,1, R:0,1 ...</td>\n",
       "      <td>[R:2,0 S:2,0, R:2,0 S:2,1, R:3,0 S:0,0, R:3,0 ...</td>\n",
       "      <td>[R:3,0 S:0,0, R:3,0 S:0,1, R:3,0 S:1,0, R:3,0 ...</td>\n",
       "      <td>[R:1,3 S:2,0, R:1,3 S:2,1, R:1,3 S:2,2, R:2,1 ...</td>\n",
       "      <td>[R:0,2 S:0,2, R:0,2 S:1,0, R:0,2 S:1,1, R:0,2 ...</td>\n",
       "      <td>[R:2,1 S:1,2, R:2,1 S:2,1, R:2,1 S:2,2, R:2,2 ...</td>\n",
       "      <td>[R:4,3 S:2,2]</td>\n",
       "      <td>[R:1,1 S:0,2, R:1,1 S:1,1, R:1,1 S:1,2, R:1,1 ...</td>\n",
       "      <td>[R:4,3 S:2,2, R:4,4 S:1,0]</td>\n",
       "      <td>[R:0,2 S:2,0, R:1,1 S:0,2, R:1,1 S:1,1, R:1,1 ...</td>\n",
       "    </tr>\n",
       "  </tbody>\n",
       "</table>\n",
       "<p>4 rows × 2779 columns</p>\n",
       "</div>"
      ],
      "text/plain": [
       "                                                        0     \\\n",
       "obsHistID                                              40336   \n",
       "expDate                                            [4673449]   \n",
       "fIDs                                                  [1305]   \n",
       "Chips      [R:1,1 S:2,1, R:1,1 S:2,2, R:1,2 S:2,0, R:2,1 ...   \n",
       "\n",
       "                                                        1     \\\n",
       "obsHistID                                              40337   \n",
       "expDate                                            [4673487]   \n",
       "fIDs                                                  [1323]   \n",
       "Chips      [R:1,0 S:2,1, R:1,0 S:2,2, R:1,1 S:2,0, R:1,1 ...   \n",
       "\n",
       "                                                        2     \\\n",
       "obsHistID                                              40338   \n",
       "expDate                                            [4673526]   \n",
       "fIDs                                                  [1333]   \n",
       "Chips      [R:1,0 S:2,0, R:1,0 S:2,1, R:1,0 S:2,2, R:1,1 ...   \n",
       "\n",
       "                                                        3     \\\n",
       "obsHistID                                              40345   \n",
       "expDate                                            [4673806]   \n",
       "fIDs                                                  [1212]   \n",
       "Chips      [R:3,3 S:1,0, R:3,3 S:1,1, R:3,3 S:1,2, R:3,3 ...   \n",
       "\n",
       "                                                        4     \\\n",
       "obsHistID                                              40366   \n",
       "expDate                                            [4674632]   \n",
       "fIDs                                                  [1305]   \n",
       "Chips      [R:1,1 S:2,2, R:1,2 S:2,0, R:2,1 S:0,1, R:2,1 ...   \n",
       "\n",
       "                                                        5     \\\n",
       "obsHistID                                              40367   \n",
       "expDate                                            [4674670]   \n",
       "fIDs                                                  [1323]   \n",
       "Chips      [R:1,0 S:2,1, R:1,0 S:2,2, R:1,1 S:2,0, R:1,1 ...   \n",
       "\n",
       "                                                        6     \\\n",
       "obsHistID                                              40368   \n",
       "expDate                                            [4674709]   \n",
       "fIDs                                                  [1333]   \n",
       "Chips      [R:1,0 S:2,1, R:1,0 S:2,2, R:1,1 S:2,0, R:1,1 ...   \n",
       "\n",
       "                                                        7     \\\n",
       "obsHistID                                              40375   \n",
       "expDate                                            [4674986]   \n",
       "fIDs                                                  [1212]   \n",
       "Chips      [R:3,3 S:1,0, R:3,3 S:1,1, R:3,3 S:1,2, R:3,3 ...   \n",
       "\n",
       "                                                        8     \\\n",
       "obsHistID                                             193115   \n",
       "expDate                                           [22405149]   \n",
       "fIDs                                                  [1305]   \n",
       "Chips      [R:0,0 S:2,1, R:1,0 S:0,0, R:1,0 S:0,1, R:1,0 ...   \n",
       "\n",
       "                                                        9     \\\n",
       "obsHistID                                             193156   \n",
       "expDate                                           [22406794]   \n",
       "fIDs                                                  [1305]   \n",
       "Chips      [R:0,0 S:2,1, R:1,0 S:0,0, R:1,0 S:0,1, R:1,0 ...   \n",
       "\n",
       "                                 ...                          \\\n",
       "obsHistID                        ...                           \n",
       "expDate                          ...                           \n",
       "fIDs                             ...                           \n",
       "Chips                            ...                           \n",
       "\n",
       "                                                        2769  \\\n",
       "obsHistID                                            2440035   \n",
       "expDate                                          [314253049]   \n",
       "fIDs                                                  [1212]   \n",
       "Chips      [R:0,1 S:0,1, R:0,1 S:0,2, R:0,1 S:1,1, R:0,1 ...   \n",
       "\n",
       "                                                        2770  \\\n",
       "obsHistID                                            2440067   \n",
       "expDate                                          [314254567]   \n",
       "fIDs                                                  [1564]   \n",
       "Chips      [R:2,0 S:2,0, R:2,0 S:2,1, R:3,0 S:0,0, R:3,0 ...   \n",
       "\n",
       "                                                        2771  \\\n",
       "obsHistID                                            2440068   \n",
       "expDate                                          [314254614]   \n",
       "fIDs                                                  [1568]   \n",
       "Chips      [R:3,0 S:0,0, R:3,0 S:0,1, R:3,0 S:1,0, R:3,0 ...   \n",
       "\n",
       "                                                        2772  \\\n",
       "obsHistID                                            2440082   \n",
       "expDate                                          [314255232]   \n",
       "fIDs                                                  [1234]   \n",
       "Chips      [R:1,3 S:2,0, R:1,3 S:2,1, R:1,3 S:2,2, R:2,1 ...   \n",
       "\n",
       "                                                        2773  \\\n",
       "obsHistID                                            2440083   \n",
       "expDate                                          [314255281]   \n",
       "fIDs                                                  [1220]   \n",
       "Chips      [R:0,2 S:0,2, R:0,2 S:1,0, R:0,2 S:1,1, R:0,2 ...   \n",
       "\n",
       "                                                        2774           2775  \\\n",
       "obsHistID                                            2440095        2441917   \n",
       "expDate                                          [314256084]    [314506587]   \n",
       "fIDs                                                  [1212]         [1542]   \n",
       "Chips      [R:2,1 S:1,2, R:2,1 S:2,1, R:2,1 S:2,2, R:2,2 ...  [R:4,3 S:2,2]   \n",
       "\n",
       "                                                        2776  \\\n",
       "obsHistID                                            2441931   \n",
       "expDate                                          [314507151]   \n",
       "fIDs                                                  [1305]   \n",
       "Chips      [R:1,1 S:0,2, R:1,1 S:1,1, R:1,1 S:1,2, R:1,1 ...   \n",
       "\n",
       "                                 2777  \\\n",
       "obsHistID                     2441963   \n",
       "expDate                   [314508445]   \n",
       "fIDs                           [1542]   \n",
       "Chips      [R:4,3 S:2,2, R:4,4 S:1,0]   \n",
       "\n",
       "                                                        2778  \n",
       "obsHistID                                            2441975  \n",
       "expDate                                          [314508970]  \n",
       "fIDs                                                  [1305]  \n",
       "Chips      [R:0,2 S:2,0, R:1,1 S:0,2, R:1,1 S:1,1, R:1,1 ...  \n",
       "\n",
       "[4 rows x 2779 columns]"
      ]
     },
     "execution_count": 5,
     "metadata": {},
     "output_type": "execute_result"
    }
   ],
   "source": [
    "pd.DataFrame([obsIDsList, expDatesList, fIDsList, chipNamesList], ['obsHistID', 'expDate', 'fIDs', 'Chips'])"
   ]
  },
  {
   "cell_type": "code",
   "execution_count": 6,
   "metadata": {
    "collapsed": false
   },
   "outputs": [
    {
     "name": "stdout",
     "output_type": "stream",
     "text": [
      "1\n",
      "184\n"
     ]
    }
   ],
   "source": [
    "numChips= []\n",
    "for i in range(len(obsIDsList)):\n",
    "    numChips.append(len(chipNamesList[i]))\n",
    "print min(numChips)\n",
    "print max(numChips)"
   ]
  },
  {
   "cell_type": "markdown",
   "metadata": {},
   "source": [
    "#### Run the thing with NoDither for the same fID"
   ]
  },
  {
   "cell_type": "code",
   "execution_count": 7,
   "metadata": {
    "collapsed": false
   },
   "outputs": [
    {
     "name": "stdout",
     "output_type": "stream",
     "text": [
      "\n",
      "############################################\n",
      "## Getting simData ... \n",
      "\n",
      "############################################\n",
      "## Finding region pixels ... \n",
      "\n",
      "## Total number of pixels in the region: 4568\n",
      "Healpix slicer using NSIDE=512, approximate resolution 6.870973 arcminutes\n",
      "## Percent pixels done: 5.013135 \n",
      " Time passed (min): 9.207300\n",
      "## Percent pixels done: 10.026270 \n",
      " Time passed (min): 18.942749\n"
     ]
    },
    {
     "name": "stderr",
     "output_type": "stream",
     "text": [
      "/Users/Humna/lsst/DarwinX86/sims_coordUtils/12.0-4-g7de6cfa+29/python/lsst/sims/coordUtils/CameraUtils.py:325: MultipleChipWarning: An object has landed on multiple chips.  You asked for this not to happen.\n",
      "We will return only one of the chip names.  If you want both, try re-running with the kwarg allow_multiple_chips=True.\n",
      "Offending chip names were ['R:4,0 S:0,2,A', 'R:4,0 S:0,2,B']\n",
      "Offending pupil coordinate point was 0.021911544065 -0.020520858165\n",
      "\n",
      "  category=MultipleChipWarning)\n"
     ]
    },
    {
     "name": "stdout",
     "output_type": "stream",
     "text": [
      "## Percent pixels done: 15.039405 \n",
      " Time passed (min): 28.718453\n"
     ]
    },
    {
     "name": "stderr",
     "output_type": "stream",
     "text": [
      "/Users/Humna/lsst/DarwinX86/sims_coordUtils/12.0-4-g7de6cfa+29/python/lsst/sims/coordUtils/CameraUtils.py:325: MultipleChipWarning: An object has landed on multiple chips.  You asked for this not to happen.\n",
      "We will return only one of the chip names.  If you want both, try re-running with the kwarg allow_multiple_chips=True.\n",
      "Offending chip names were ['R:0,4 S:2,0,A', 'R:0,4 S:2,0,B']\n",
      "Offending pupil coordinate point was -0.021985260166 0.020509509316\n",
      "\n",
      "  category=MultipleChipWarning)\n"
     ]
    },
    {
     "name": "stdout",
     "output_type": "stream",
     "text": [
      "## Percent pixels done: 20.052539 \n",
      " Time passed (min): 38.355134\n",
      "## Percent pixels done: 25.065674 \n",
      " Time passed (min): 47.422465\n",
      "## Percent pixels done: 30.078809 \n",
      " Time passed (min): 56.633917\n"
     ]
    },
    {
     "name": "stderr",
     "output_type": "stream",
     "text": [
      "/Users/Humna/lsst/DarwinX86/sims_coordUtils/12.0-4-g7de6cfa+29/python/lsst/sims/coordUtils/CameraUtils.py:325: MultipleChipWarning: An object has landed on multiple chips.  You asked for this not to happen.\n",
      "We will return only one of the chip names.  If you want both, try re-running with the kwarg allow_multiple_chips=True.\n",
      "Offending chip names were ['R:0,4 S:2,0,A', 'R:0,4 S:2,0,B']\n",
      "Offending pupil coordinate point was -0.020636071158 0.020511454670\n",
      "\n",
      "  category=MultipleChipWarning)\n",
      "/Users/Humna/lsst/DarwinX86/sims_coordUtils/12.0-4-g7de6cfa+29/python/lsst/sims/coordUtils/CameraUtils.py:325: MultipleChipWarning: An object has landed on multiple chips.  You asked for this not to happen.\n",
      "We will return only one of the chip names.  If you want both, try re-running with the kwarg allow_multiple_chips=True.\n",
      "Offending chip names were ['R:4,0 S:0,2,A', 'R:4,0 S:0,2,B']\n",
      "Offending pupil coordinate point was 0.021514838363 -0.020520053649\n",
      "\n",
      "  category=MultipleChipWarning)\n"
     ]
    },
    {
     "name": "stdout",
     "output_type": "stream",
     "text": [
      "## Percent pixels done: 35.091944 \n",
      " Time passed (min): 66.070235\n"
     ]
    },
    {
     "name": "stderr",
     "output_type": "stream",
     "text": [
      "/Users/Humna/lsst/DarwinX86/sims_coordUtils/12.0-4-g7de6cfa+29/python/lsst/sims/coordUtils/CameraUtils.py:325: MultipleChipWarning: An object has landed on multiple chips.  You asked for this not to happen.\n",
      "We will return only one of the chip names.  If you want both, try re-running with the kwarg allow_multiple_chips=True.\n",
      "Offending chip names were ['R:4,0 S:0,2,A', 'R:4,0 S:0,2,B']\n",
      "Offending pupil coordinate point was 0.018953615801 -0.020521896881\n",
      "\n",
      "  category=MultipleChipWarning)\n",
      "/Users/Humna/lsst/DarwinX86/sims_coordUtils/12.0-4-g7de6cfa+29/python/lsst/sims/coordUtils/CameraUtils.py:325: MultipleChipWarning: An object has landed on multiple chips.  You asked for this not to happen.\n",
      "We will return only one of the chip names.  If you want both, try re-running with the kwarg allow_multiple_chips=True.\n",
      "Offending chip names were ['R:4,0 S:0,2,A', 'R:4,0 S:0,2,B']\n",
      "Offending pupil coordinate point was 0.021639153820 -0.020520246661\n",
      "\n",
      "  category=MultipleChipWarning)\n"
     ]
    },
    {
     "name": "stdout",
     "output_type": "stream",
     "text": [
      "## Percent pixels done: 40.105079 \n",
      " Time passed (min): 75.673392\n"
     ]
    },
    {
     "name": "stderr",
     "output_type": "stream",
     "text": [
      "/Users/Humna/lsst/DarwinX86/sims_coordUtils/12.0-4-g7de6cfa+29/python/lsst/sims/coordUtils/CameraUtils.py:325: MultipleChipWarning: An object has landed on multiple chips.  You asked for this not to happen.\n",
      "We will return only one of the chip names.  If you want both, try re-running with the kwarg allow_multiple_chips=True.\n",
      "Offending chip names were ['R:4,0 S:0,2,A', 'R:4,0 S:0,2,B']\n",
      "Offending pupil coordinate point was 0.019501267870 -0.020523507992\n",
      "\n",
      "  category=MultipleChipWarning)\n"
     ]
    },
    {
     "name": "stdout",
     "output_type": "stream",
     "text": [
      "## Percent pixels done: 45.118214 \n",
      " Time passed (min): 85.709976\n"
     ]
    },
    {
     "name": "stderr",
     "output_type": "stream",
     "text": [
      "/Users/Humna/lsst/DarwinX86/sims_coordUtils/12.0-4-g7de6cfa+29/python/lsst/sims/coordUtils/CameraUtils.py:325: MultipleChipWarning: An object has landed on multiple chips.  You asked for this not to happen.\n",
      "We will return only one of the chip names.  If you want both, try re-running with the kwarg allow_multiple_chips=True.\n",
      "Offending chip names were ['R:4,0 S:0,2,A', 'R:4,0 S:0,2,B']\n",
      "Offending pupil coordinate point was 0.018988763351 -0.020522786981\n",
      "\n",
      "  category=MultipleChipWarning)\n"
     ]
    },
    {
     "name": "stdout",
     "output_type": "stream",
     "text": [
      "## Percent pixels done: 50.131349 \n",
      " Time passed (min): 94.986691\n",
      "## Percent pixels done: 55.144483 \n",
      " Time passed (min): 104.712228\n"
     ]
    },
    {
     "name": "stderr",
     "output_type": "stream",
     "text": [
      "/Users/Humna/lsst/DarwinX86/sims_coordUtils/12.0-4-g7de6cfa+29/python/lsst/sims/coordUtils/CameraUtils.py:325: MultipleChipWarning: An object has landed on multiple chips.  You asked for this not to happen.\n",
      "We will return only one of the chip names.  If you want both, try re-running with the kwarg allow_multiple_chips=True.\n",
      "Offending chip names were ['R:0,4 S:2,0,A', 'R:0,4 S:2,0,B']\n",
      "Offending pupil coordinate point was -0.019678413833 0.020511815344\n",
      "\n",
      "  category=MultipleChipWarning)\n"
     ]
    },
    {
     "name": "stdout",
     "output_type": "stream",
     "text": [
      "## Percent pixels done: 60.157618 \n",
      " Time passed (min): 114.683310\n",
      "## Percent pixels done: 65.170753 \n",
      " Time passed (min): 123.890449\n",
      "## Percent pixels done: 70.183888 \n",
      " Time passed (min): 133.274222\n"
     ]
    },
    {
     "name": "stderr",
     "output_type": "stream",
     "text": [
      "/Users/Humna/lsst/DarwinX86/sims_coordUtils/12.0-4-g7de6cfa+29/python/lsst/sims/coordUtils/CameraUtils.py:325: MultipleChipWarning: An object has landed on multiple chips.  You asked for this not to happen.\n",
      "We will return only one of the chip names.  If you want both, try re-running with the kwarg allow_multiple_chips=True.\n",
      "Offending chip names were ['R:0,4 S:2,0,A', 'R:0,4 S:2,0,B']\n",
      "Offending pupil coordinate point was -0.020364309421 0.020511715513\n",
      "\n",
      "  category=MultipleChipWarning)\n"
     ]
    },
    {
     "name": "stdout",
     "output_type": "stream",
     "text": [
      "## Percent pixels done: 75.197023 \n",
      " Time passed (min): 142.585866\n"
     ]
    },
    {
     "name": "stderr",
     "output_type": "stream",
     "text": [
      "/Users/Humna/lsst/DarwinX86/sims_coordUtils/12.0-4-g7de6cfa+29/python/lsst/sims/coordUtils/CameraUtils.py:325: MultipleChipWarning: An object has landed on multiple chips.  You asked for this not to happen.\n",
      "We will return only one of the chip names.  If you want both, try re-running with the kwarg allow_multiple_chips=True.\n",
      "Offending chip names were ['R:4,0 S:0,2,A', 'R:4,0 S:0,2,B']\n",
      "Offending pupil coordinate point was 0.019565102742 -0.020522545256\n",
      "\n",
      "  category=MultipleChipWarning)\n"
     ]
    },
    {
     "name": "stdout",
     "output_type": "stream",
     "text": [
      "## Percent pixels done: 80.210158 \n",
      " Time passed (min): 152.022848\n"
     ]
    },
    {
     "name": "stderr",
     "output_type": "stream",
     "text": [
      "/Users/Humna/lsst/DarwinX86/sims_coordUtils/12.0-4-g7de6cfa+29/python/lsst/sims/coordUtils/CameraUtils.py:325: MultipleChipWarning: An object has landed on multiple chips.  You asked for this not to happen.\n",
      "We will return only one of the chip names.  If you want both, try re-running with the kwarg allow_multiple_chips=True.\n",
      "Offending chip names were ['R:0,4 S:2,0,A', 'R:0,4 S:2,0,B']\n",
      "Offending pupil coordinate point was -0.021334242960 0.020510171812\n",
      "\n",
      "  category=MultipleChipWarning)\n",
      "/Users/Humna/lsst/DarwinX86/sims_coordUtils/12.0-4-g7de6cfa+29/python/lsst/sims/coordUtils/CameraUtils.py:325: MultipleChipWarning: An object has landed on multiple chips.  You asked for this not to happen.\n",
      "We will return only one of the chip names.  If you want both, try re-running with the kwarg allow_multiple_chips=True.\n",
      "Offending chip names were ['R:0,4 S:2,0,A', 'R:0,4 S:2,0,B']\n",
      "Offending pupil coordinate point was -0.021334084224 0.020510418639\n",
      "\n",
      "  category=MultipleChipWarning)\n"
     ]
    },
    {
     "name": "stdout",
     "output_type": "stream",
     "text": [
      "## Percent pixels done: 85.223292 \n",
      " Time passed (min): 161.538938\n"
     ]
    },
    {
     "name": "stderr",
     "output_type": "stream",
     "text": [
      "/Users/Humna/lsst/DarwinX86/sims_coordUtils/12.0-4-g7de6cfa+29/python/lsst/sims/coordUtils/CameraUtils.py:325: MultipleChipWarning: An object has landed on multiple chips.  You asked for this not to happen.\n",
      "We will return only one of the chip names.  If you want both, try re-running with the kwarg allow_multiple_chips=True.\n",
      "Offending chip names were ['R:4,0 S:0,2,A', 'R:4,0 S:0,2,B']\n",
      "Offending pupil coordinate point was 0.022102336840 -0.020519574211\n",
      "\n",
      "  category=MultipleChipWarning)\n"
     ]
    },
    {
     "name": "stdout",
     "output_type": "stream",
     "text": [
      "## Percent pixels done: 90.236427 \n",
      " Time passed (min): 171.179463\n",
      "## Percent pixels done: 95.249562 \n",
      " Time passed (min): 181.019321\n",
      "## Unique obsHistIDs: 3032 \n",
      " Unique expDates: 3032 \n",
      " Unique chipNames: 205 \n",
      "\n",
      "\n",
      "############################################\n",
      "## Consolidating the data ... \n",
      "\n",
      "############################################\n",
      "## Saving the data ... \n",
      "\n",
      "############################################\n",
      "## Saved the data as 2017-01-22_chipPerVisitData_fID1447_NoDither_discRegion.pickle: \n"
     ]
    }
   ],
   "source": [
    "output2= findDC1Chips(dbpath, 'NoDither',  1447, \n",
    "                     outputPath= os.getcwd()+ '/chipsPerVisitData')\n",
    "obsIDsList, expDatesList, fIDsList, chipNamesList= output2"
   ]
  },
  {
   "cell_type": "code",
   "execution_count": 8,
   "metadata": {
    "collapsed": false
   },
   "outputs": [
    {
     "data": {
      "text/html": [
       "<div>\n",
       "<table border=\"1\" class=\"dataframe\">\n",
       "  <thead>\n",
       "    <tr style=\"text-align: right;\">\n",
       "      <th></th>\n",
       "      <th>0</th>\n",
       "      <th>1</th>\n",
       "      <th>2</th>\n",
       "      <th>3</th>\n",
       "      <th>4</th>\n",
       "      <th>5</th>\n",
       "      <th>6</th>\n",
       "      <th>7</th>\n",
       "      <th>8</th>\n",
       "      <th>9</th>\n",
       "      <th>...</th>\n",
       "      <th>3022</th>\n",
       "      <th>3023</th>\n",
       "      <th>3024</th>\n",
       "      <th>3025</th>\n",
       "      <th>3026</th>\n",
       "      <th>3027</th>\n",
       "      <th>3028</th>\n",
       "      <th>3029</th>\n",
       "      <th>3030</th>\n",
       "      <th>3031</th>\n",
       "    </tr>\n",
       "  </thead>\n",
       "  <tbody>\n",
       "    <tr>\n",
       "      <th>obsHistID</th>\n",
       "      <td>40336</td>\n",
       "      <td>40337</td>\n",
       "      <td>40338</td>\n",
       "      <td>40345</td>\n",
       "      <td>40366</td>\n",
       "      <td>40367</td>\n",
       "      <td>40368</td>\n",
       "      <td>40375</td>\n",
       "      <td>193115</td>\n",
       "      <td>193117</td>\n",
       "      <td>...</td>\n",
       "      <td>2440067</td>\n",
       "      <td>2440068</td>\n",
       "      <td>2440082</td>\n",
       "      <td>2440083</td>\n",
       "      <td>2440084</td>\n",
       "      <td>2440095</td>\n",
       "      <td>2441917</td>\n",
       "      <td>2441931</td>\n",
       "      <td>2441963</td>\n",
       "      <td>2441975</td>\n",
       "    </tr>\n",
       "    <tr>\n",
       "      <th>expDate</th>\n",
       "      <td>[4673449]</td>\n",
       "      <td>[4673487]</td>\n",
       "      <td>[4673526]</td>\n",
       "      <td>[4673806]</td>\n",
       "      <td>[4674632]</td>\n",
       "      <td>[4674670]</td>\n",
       "      <td>[4674709]</td>\n",
       "      <td>[4674986]</td>\n",
       "      <td>[22405149]</td>\n",
       "      <td>[22405227]</td>\n",
       "      <td>...</td>\n",
       "      <td>[314254567]</td>\n",
       "      <td>[314254614]</td>\n",
       "      <td>[314255232]</td>\n",
       "      <td>[314255281]</td>\n",
       "      <td>[314255433]</td>\n",
       "      <td>[314256084]</td>\n",
       "      <td>[314506587]</td>\n",
       "      <td>[314507151]</td>\n",
       "      <td>[314508445]</td>\n",
       "      <td>[314508970]</td>\n",
       "    </tr>\n",
       "    <tr>\n",
       "      <th>fIDs</th>\n",
       "      <td>[1305]</td>\n",
       "      <td>[1323]</td>\n",
       "      <td>[1333]</td>\n",
       "      <td>[1212]</td>\n",
       "      <td>[1305]</td>\n",
       "      <td>[1323]</td>\n",
       "      <td>[1333]</td>\n",
       "      <td>[1212]</td>\n",
       "      <td>[1305]</td>\n",
       "      <td>[1413]</td>\n",
       "      <td>...</td>\n",
       "      <td>[1564]</td>\n",
       "      <td>[1568]</td>\n",
       "      <td>[1234]</td>\n",
       "      <td>[1220]</td>\n",
       "      <td>[1413]</td>\n",
       "      <td>[1212]</td>\n",
       "      <td>[1542]</td>\n",
       "      <td>[1305]</td>\n",
       "      <td>[1542]</td>\n",
       "      <td>[1305]</td>\n",
       "    </tr>\n",
       "    <tr>\n",
       "      <th>Chips</th>\n",
       "      <td>[R:0,2 S:0,2, R:0,2 S:1,2, R:0,2 S:2,1, R:0,2 ...</td>\n",
       "      <td>[R:0,0 S:2,1, R:0,0 S:2,2,A, R:0,0 S:2,2,B, R:...</td>\n",
       "      <td>[R:0,0 S:1,2, R:0,0 S:2,1, R:0,0 S:2,2,A, R:0,...</td>\n",
       "      <td>[R:1,4 S:1,1, R:1,4 S:2,0, R:1,4 S:2,1, R:1,4 ...</td>\n",
       "      <td>[R:0,2 S:0,2, R:0,2 S:1,1, R:0,2 S:1,2, R:0,2 ...</td>\n",
       "      <td>[R:0,0 S:2,2,A, R:0,0 S:2,2,B, R:0,1 S:0,1, R:...</td>\n",
       "      <td>[R:0,0 S:2,1, R:0,0 S:2,2,A, R:0,0 S:2,2,B, R:...</td>\n",
       "      <td>[R:1,4 S:1,1, R:1,4 S:1,2, R:1,4 S:2,0, R:1,4 ...</td>\n",
       "      <td>[R:0,0 S:2,1, R:0,0 S:2,2,A, R:0,0 S:2,2,B, R:...</td>\n",
       "      <td>[R:2,0 S:0,0, R:2,0 S:1,0, R:2,0 S:2,0, R:2,0 ...</td>\n",
       "      <td>...</td>\n",
       "      <td>[R:1,0 S:1,0, R:1,0 S:1,1, R:1,0 S:1,2, R:1,0 ...</td>\n",
       "      <td>[R:2,0 S:1,1, R:2,0 S:2,0, R:2,0 S:2,1, R:2,0 ...</td>\n",
       "      <td>[R:2,3 S:2,2, R:2,4 S:2,1, R:2,4 S:2,2, R:3,2 ...</td>\n",
       "      <td>[R:0,4 S:2,0,A, R:1,2 S:2,1, R:1,2 S:2,2, R:1,...</td>\n",
       "      <td>[R:3,0 S:2,1, R:3,0 S:2,2, R:3,1 S:2,0, R:3,1 ...</td>\n",
       "      <td>[R:2,0 S:2,0, R:2,0 S:2,2, R:3,0 S:0,0, R:3,0 ...</td>\n",
       "      <td>[R:3,4 S:2,1, R:4,1 S:2,2, R:4,2 S:1,1, R:4,2 ...</td>\n",
       "      <td>[R:0,0 S:2,1, R:0,0 S:2,2,A, R:0,0 S:2,2,B, R:...</td>\n",
       "      <td>[R:3,3 S:2,2, R:3,4 S:2,0, R:3,4 S:2,1, R:4,2 ...</td>\n",
       "      <td>[R:0,0 S:2,1, R:0,0 S:2,2,A, R:0,0 S:2,2,B, R:...</td>\n",
       "    </tr>\n",
       "  </tbody>\n",
       "</table>\n",
       "<p>4 rows × 3032 columns</p>\n",
       "</div>"
      ],
      "text/plain": [
       "                                                        0     \\\n",
       "obsHistID                                              40336   \n",
       "expDate                                            [4673449]   \n",
       "fIDs                                                  [1305]   \n",
       "Chips      [R:0,2 S:0,2, R:0,2 S:1,2, R:0,2 S:2,1, R:0,2 ...   \n",
       "\n",
       "                                                        1     \\\n",
       "obsHistID                                              40337   \n",
       "expDate                                            [4673487]   \n",
       "fIDs                                                  [1323]   \n",
       "Chips      [R:0,0 S:2,1, R:0,0 S:2,2,A, R:0,0 S:2,2,B, R:...   \n",
       "\n",
       "                                                        2     \\\n",
       "obsHistID                                              40338   \n",
       "expDate                                            [4673526]   \n",
       "fIDs                                                  [1333]   \n",
       "Chips      [R:0,0 S:1,2, R:0,0 S:2,1, R:0,0 S:2,2,A, R:0,...   \n",
       "\n",
       "                                                        3     \\\n",
       "obsHistID                                              40345   \n",
       "expDate                                            [4673806]   \n",
       "fIDs                                                  [1212]   \n",
       "Chips      [R:1,4 S:1,1, R:1,4 S:2,0, R:1,4 S:2,1, R:1,4 ...   \n",
       "\n",
       "                                                        4     \\\n",
       "obsHistID                                              40366   \n",
       "expDate                                            [4674632]   \n",
       "fIDs                                                  [1305]   \n",
       "Chips      [R:0,2 S:0,2, R:0,2 S:1,1, R:0,2 S:1,2, R:0,2 ...   \n",
       "\n",
       "                                                        5     \\\n",
       "obsHistID                                              40367   \n",
       "expDate                                            [4674670]   \n",
       "fIDs                                                  [1323]   \n",
       "Chips      [R:0,0 S:2,2,A, R:0,0 S:2,2,B, R:0,1 S:0,1, R:...   \n",
       "\n",
       "                                                        6     \\\n",
       "obsHistID                                              40368   \n",
       "expDate                                            [4674709]   \n",
       "fIDs                                                  [1333]   \n",
       "Chips      [R:0,0 S:2,1, R:0,0 S:2,2,A, R:0,0 S:2,2,B, R:...   \n",
       "\n",
       "                                                        7     \\\n",
       "obsHistID                                              40375   \n",
       "expDate                                            [4674986]   \n",
       "fIDs                                                  [1212]   \n",
       "Chips      [R:1,4 S:1,1, R:1,4 S:1,2, R:1,4 S:2,0, R:1,4 ...   \n",
       "\n",
       "                                                        8     \\\n",
       "obsHistID                                             193115   \n",
       "expDate                                           [22405149]   \n",
       "fIDs                                                  [1305]   \n",
       "Chips      [R:0,0 S:2,1, R:0,0 S:2,2,A, R:0,0 S:2,2,B, R:...   \n",
       "\n",
       "                                                        9     \\\n",
       "obsHistID                                             193117   \n",
       "expDate                                           [22405227]   \n",
       "fIDs                                                  [1413]   \n",
       "Chips      [R:2,0 S:0,0, R:2,0 S:1,0, R:2,0 S:2,0, R:2,0 ...   \n",
       "\n",
       "                                 ...                          \\\n",
       "obsHistID                        ...                           \n",
       "expDate                          ...                           \n",
       "fIDs                             ...                           \n",
       "Chips                            ...                           \n",
       "\n",
       "                                                        3022  \\\n",
       "obsHistID                                            2440067   \n",
       "expDate                                          [314254567]   \n",
       "fIDs                                                  [1564]   \n",
       "Chips      [R:1,0 S:1,0, R:1,0 S:1,1, R:1,0 S:1,2, R:1,0 ...   \n",
       "\n",
       "                                                        3023  \\\n",
       "obsHistID                                            2440068   \n",
       "expDate                                          [314254614]   \n",
       "fIDs                                                  [1568]   \n",
       "Chips      [R:2,0 S:1,1, R:2,0 S:2,0, R:2,0 S:2,1, R:2,0 ...   \n",
       "\n",
       "                                                        3024  \\\n",
       "obsHistID                                            2440082   \n",
       "expDate                                          [314255232]   \n",
       "fIDs                                                  [1234]   \n",
       "Chips      [R:2,3 S:2,2, R:2,4 S:2,1, R:2,4 S:2,2, R:3,2 ...   \n",
       "\n",
       "                                                        3025  \\\n",
       "obsHistID                                            2440083   \n",
       "expDate                                          [314255281]   \n",
       "fIDs                                                  [1220]   \n",
       "Chips      [R:0,4 S:2,0,A, R:1,2 S:2,1, R:1,2 S:2,2, R:1,...   \n",
       "\n",
       "                                                        3026  \\\n",
       "obsHistID                                            2440084   \n",
       "expDate                                          [314255433]   \n",
       "fIDs                                                  [1413]   \n",
       "Chips      [R:3,0 S:2,1, R:3,0 S:2,2, R:3,1 S:2,0, R:3,1 ...   \n",
       "\n",
       "                                                        3027  \\\n",
       "obsHistID                                            2440095   \n",
       "expDate                                          [314256084]   \n",
       "fIDs                                                  [1212]   \n",
       "Chips      [R:2,0 S:2,0, R:2,0 S:2,2, R:3,0 S:0,0, R:3,0 ...   \n",
       "\n",
       "                                                        3028  \\\n",
       "obsHistID                                            2441917   \n",
       "expDate                                          [314506587]   \n",
       "fIDs                                                  [1542]   \n",
       "Chips      [R:3,4 S:2,1, R:4,1 S:2,2, R:4,2 S:1,1, R:4,2 ...   \n",
       "\n",
       "                                                        3029  \\\n",
       "obsHistID                                            2441931   \n",
       "expDate                                          [314507151]   \n",
       "fIDs                                                  [1305]   \n",
       "Chips      [R:0,0 S:2,1, R:0,0 S:2,2,A, R:0,0 S:2,2,B, R:...   \n",
       "\n",
       "                                                        3030  \\\n",
       "obsHistID                                            2441963   \n",
       "expDate                                          [314508445]   \n",
       "fIDs                                                  [1542]   \n",
       "Chips      [R:3,3 S:2,2, R:3,4 S:2,0, R:3,4 S:2,1, R:4,2 ...   \n",
       "\n",
       "                                                        3031  \n",
       "obsHistID                                            2441975  \n",
       "expDate                                          [314508970]  \n",
       "fIDs                                                  [1305]  \n",
       "Chips      [R:0,0 S:2,1, R:0,0 S:2,2,A, R:0,0 S:2,2,B, R:...  \n",
       "\n",
       "[4 rows x 3032 columns]"
      ]
     },
     "execution_count": 8,
     "metadata": {},
     "output_type": "execute_result"
    }
   ],
   "source": [
    "pd.DataFrame([obsIDsList, expDatesList, fIDsList, chipNamesList], ['obsHistID', 'expDate', 'fIDs', 'Chips'])"
   ]
  },
  {
   "cell_type": "code",
   "execution_count": 9,
   "metadata": {
    "collapsed": false
   },
   "outputs": [
    {
     "name": "stdout",
     "output_type": "stream",
     "text": [
      "3\n",
      "196\n"
     ]
    }
   ],
   "source": [
    "numChips= []\n",
    "for i in range(len(obsIDsList)):\n",
    "    numChips.append(len(chipNamesList[i]))\n",
    "print min(numChips)\n",
    "print max(numChips)"
   ]
  },
  {
   "cell_type": "code",
   "execution_count": null,
   "metadata": {
    "collapsed": true
   },
   "outputs": [],
   "source": []
  }
 ],
 "metadata": {
  "kernelspec": {
   "display_name": "Python 2",
   "language": "python",
   "name": "python2"
  },
  "language_info": {
   "codemirror_mode": {
    "name": "ipython",
    "version": 2
   },
   "file_extension": ".py",
   "mimetype": "text/x-python",
   "name": "python",
   "nbconvert_exporter": "python",
   "pygments_lexer": "ipython2",
   "version": "2.7.12"
  }
 },
 "nbformat": 4,
 "nbformat_minor": 0
}
