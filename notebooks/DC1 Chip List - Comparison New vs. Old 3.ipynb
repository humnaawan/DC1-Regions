{
 "cells": [
  {
   "cell_type": "markdown",
   "metadata": {},
   "source": [
    "Compare the chip lists from the older and newer runs."
   ]
  },
  {
   "cell_type": "code",
   "execution_count": 1,
   "metadata": {
    "collapsed": false
   },
   "outputs": [],
   "source": [
    "import matplotlib.pyplot as plt\n",
    "%matplotlib inline\n",
    "import numpy as np\n",
    "import os\n",
    "import time\n",
    "import pandas as pd\n",
    "import pickle\n",
    "repoDir= os.getcwd()\n",
    "os.chdir(os.path.join(repoDir , '..' ))\n",
    "repoDir= os.getcwd()"
   ]
  },
  {
   "cell_type": "code",
   "execution_count": 2,
   "metadata": {
    "collapsed": false
   },
   "outputs": [
    {
     "data": {
      "text/plain": [
       "'/Users/Humna/lsstRepos/DC1-Regions'"
      ]
     },
     "execution_count": 2,
     "metadata": {},
     "output_type": "execute_result"
    }
   ],
   "source": [
    "os.getcwd()"
   ]
  },
  {
   "cell_type": "code",
   "execution_count": 3,
   "metadata": {
    "collapsed": false
   },
   "outputs": [],
   "source": [
    "savedData= {}  \n",
    "filenames= ['previously used - bugged/2017-01-29_chipPerVisitData_newAfterburnerOutput_fID1447_RandomDitherFieldPerVisit_randomRotDithered_nonDiscRegion_131052TotChipsToSimulate.pickle']\n",
    "for filename in filenames:\n",
    "    key= 'nside512_old'\n",
    "    with open('chipsPerVisitData/'+filename, 'rb') as handle:\n",
    "        savedData[key]= pickle.load(handle)\n",
    "        \n",
    "        \n",
    "filenames= ['2017-04-10_resaved_chipPerVisitData_newAfterburnerOutput_fID1447_RandomDitherFieldPerVisit_randomRotDithered_nonDiscRegion_nside1024_192103NonWFChipsToSimulate.pickle']\n",
    "for filename in filenames:\n",
    "    key= 'nside1024_new_resaved'\n",
    "    with open('chipsPerVisitData/'+filename, 'rb') as handle:\n",
    "        savedData[key]= pickle.load(handle)"
   ]
  },
  {
   "cell_type": "markdown",
   "metadata": {},
   "source": [
    "All detectors include:\n",
    "- 8 non-science sensors: 'R:0,0 S:1,2', 'R:0,0 S:2,1', 'R:0,4 S:1,0', 'R:0,4 S:2,1', 'R:4,0 S:0,1', 'R:4,0 S:1,2', 'R:4,4 S:0,1', 'R:4,4 S:1,0'\n",
    "- 16 wavefront sensors: 'R:4,0 S:0,2,A', 'R:4,0 S:0,2,B','R:0,4 S:2,0,A', 'R:0,4 S:2,0,B', 'R:0,0 S:2,2,A', 'R:0,0 S:2,2,B', 'R:4,4 S:0,0,A', 'R:4,4 S:0,0,B'\n",
    "           \n",
    "           \n",
    "^ which we are not simulating."
   ]
  },
  {
   "cell_type": "code",
   "execution_count": 4,
   "metadata": {
    "collapsed": true
   },
   "outputs": [],
   "source": [
    "wavefront= ['R:4,0 S:0,2,A', 'R:4,0 S:0,2,B','R:0,4 S:2,0,A', 'R:0,4 S:2,0,B',\n",
    "           'R:0,0 S:2,2,A', 'R:0,0 S:2,2,B','R:4,4 S:0,0,A', 'R:4,4 S:0,0,B']\n",
    "\n",
    "nonScience= ['R:0,0 S:1,2', 'R:0,0 S:2,1', 'R:0,4 S:1,0', 'R:0,4 S:2,1', \n",
    "             'R:4,0 S:0,1', 'R:4,0 S:1,2', 'R:4,4 S:0,1', 'R:4,4 S:1,0']"
   ]
  },
  {
   "cell_type": "code",
   "execution_count": 5,
   "metadata": {
    "collapsed": false,
    "scrolled": true
   },
   "outputs": [
    {
     "name": "stdout",
     "output_type": "stream",
     "text": [
      "nside1024_new_resaved\n",
      "Total visits:  2245\n",
      "\n",
      "nside512_old\n",
      "Total visits:  2395\n",
      "\n"
     ]
    }
   ],
   "source": [
    "for key in savedData:\n",
    "    print key\n",
    "    print 'Total visits: ', len(savedData[key]['chipNames'])\n",
    "    print ''"
   ]
  },
  {
   "cell_type": "markdown",
   "metadata": {},
   "source": [
    "#### Compare the visits/chips that were in the old file but are not in the new file."
   ]
  },
  {
   "cell_type": "code",
   "execution_count": 6,
   "metadata": {
    "collapsed": false,
    "scrolled": false
   },
   "outputs": [
    {
     "name": "stdout",
     "output_type": "stream",
     "text": [
      "193195: 3 Chips: ['R:4,3 S:1,2', 'R:4,3 S:2,1', 'R:4,3 S:2,2']\n",
      "194125: 1 Chips: ['R:4,1 S:2,0']\n",
      "201788: 1 Chips: ['R:3,4 S:2,2']\n",
      "201836: 1 Chips: ['R:1,0 S:0,0']\n",
      "202613: 4 Chips: ['R:2,0 S:2,0', 'R:3,0 S:0,0', 'R:3,0 S:1,0', 'R:3,0 S:2,0']\n",
      "213722: 1 Chips: ['R:2,0 S:0,0']\n",
      "220092: 2 Chips: ['R:4,3 S:2,0', 'R:4,3 S:2,1']\n",
      "225719: 4 Chips: ['R:0,1 S:0,0', 'R:0,1 S:0,1', 'R:0,1 S:0,2', 'R:0,2 S:0,0']\n",
      "237420: 1 Chips: ['R:0,1 S:0,0']\n",
      "237450: 3 Chips: ['R:0,3 S:0,1', 'R:0,3 S:0,2', 'R:0,3 S:1,2']\n",
      "270655: 2 Chips: ['R:1,4 S:0,2', 'R:1,4 S:1,2']\n",
      "271552: 2 Chips: ['R:4,1 S:2,0', 'R:4,1 S:2,1']\n",
      "300309: 1 Chips: ['R:0,3 S:0,2']\n",
      "433251: 2 Chips: ['R:3,0 S:2,0', 'R:3,0 S:2,1']\n",
      "433289: 2 Chips: ['R:4,1 S:2,1', 'R:4,1 S:2,2']\n",
      "433331: 3 Chips: ['R:3,4 S:0,2', 'R:3,4 S:1,2', 'R:3,4 S:2,2']\n",
      "433365: 1 Chips: ['R:1,4 S:0,2']\n",
      "467136: 1 Chips: ['R:1,0 S:0,0']\n",
      "467785: 1 Chips: ['R:3,0 S:2,0']\n",
      "467836: 4 Chips: ['R:1,0 S:0,0', 'R:1,0 S:0,1', 'R:1,0 S:1,0', 'R:1,0 S:2,0']\n",
      "468492: 6 Chips: ['R:0,2 S:0,2', 'R:0,3 S:0,0', 'R:0,3 S:0,1', 'R:0,3 S:0,2', 'R:1,4 S:0,2', 'R:1,4 S:1,2']\n",
      "469231: 3 Chips: ['R:1,0 S:1,0', 'R:1,0 S:2,0', 'R:2,0 S:0,0']\n",
      "482284: 1 Chips: ['R:3,0 S:2,0']\n",
      "482315: 1 Chips: ['R:0,1 S:0,0']\n",
      "489270: 2 Chips: ['R:3,0 S:2,0', 'R:4,1 S:2,0']\n",
      "497498: 3 Chips: ['R:1,0 S:0,0', 'R:1,0 S:0,1', 'R:1,0 S:1,0']\n",
      "497635: 1 Chips: ['R:0,1 S:0,0']\n",
      "676147: 3 Chips: ['R:1,0 S:0,0', 'R:1,0 S:1,0', 'R:1,0 S:2,0']\n",
      "681260: 4 Chips: ['R:4,1 S:1,0', 'R:4,1 S:2,0', 'R:4,1 S:2,1', 'R:4,1 S:2,2']\n",
      "681289: 1 Chips: ['R:4,1 S:2,0']\n",
      "695104: 2 Chips: ['R:1,4 S:1,2', 'R:1,4 S:2,2']\n",
      "695761: 2 Chips: ['R:3,0 S:1,0', 'R:3,0 S:2,0']\n",
      "704490: 3 Chips: ['R:4,3 S:1,2', 'R:4,3 S:2,1', 'R:4,3 S:2,2']\n",
      "715586: 3 Chips: ['R:0,1 S:0,0', 'R:0,1 S:0,1', 'R:0,1 S:0,2']\n",
      "715592: 3 Chips: ['R:0,3 S:0,2', 'R:1,4 S:2,2', 'R:2,4 S:1,2']\n",
      "721799: 1 Chips: ['R:1,0 S:0,0']\n",
      "755250: 4 Chips: ['R:4,1 S:2,0', 'R:4,1 S:2,1', 'R:4,1 S:2,2', 'R:4,2 S:2,0']\n",
      "755255: 0 Chips: []\n",
      "755303: 1 Chips: ['R:4,1 S:2,0']\n",
      "755306: 1 Chips: ['R:2,0 S:1,0']\n",
      "777491: 1 Chips: ['R:4,1 S:2,0']\n",
      "810242: 1 Chips: ['R:3,0 S:2,0']\n",
      "923305: 1 Chips: ['R:3,0 S:0,0']\n",
      "923307: 2 Chips: ['R:4,1 S:2,0', 'R:4,1 S:2,1']\n",
      "931525: 1 Chips: ['R:3,4 S:2,2']\n",
      "943352: 2 Chips: ['R:1,4 S:0,2', 'R:1,4 S:1,2']\n",
      "943386: 3 Chips: ['R:1,4 S:0,2', 'R:1,4 S:1,2', 'R:2,4 S:0,2']\n",
      "943445: 2 Chips: ['R:0,1 S:0,0', 'R:1,0 S:0,0']\n",
      "944325: 0 Chips: []\n",
      "944360: 3 Chips: ['R:3,4 S:1,2', 'R:3,4 S:2,1', 'R:3,4 S:2,2']\n",
      "959789: 2 Chips: ['R:1,0 S:0,0', 'R:1,0 S:0,1']\n",
      "962633: 4 Chips: ['R:1,0 S:0,0', 'R:1,0 S:1,0', 'R:3,0 S:1,0', 'R:3,0 S:2,0']\n",
      "964175: 3 Chips: ['R:4,1 S:1,0', 'R:4,1 S:2,0', 'R:4,1 S:2,1']\n",
      "967944: 1 Chips: ['R:1,4 S:0,2']\n",
      "970071: 2 Chips: ['R:3,4 S:2,2', 'R:4,3 S:2,2']\n",
      "970117: 7 Chips: ['R:0,1 S:0,1', 'R:0,1 S:0,2', 'R:0,2 S:0,0', 'R:0,2 S:0,1', 'R:1,0 S:0,0', 'R:1,0 S:0,1', 'R:1,0 S:1,0']\n",
      "976892: 3 Chips: ['R:1,4 S:0,2', 'R:1,4 S:1,2', 'R:1,4 S:2,2']\n",
      "1014468: 1 Chips: ['R:3,0 S:2,0']\n",
      "1044150: 2 Chips: ['R:4,3 S:2,0', 'R:4,3 S:2,1']\n",
      "1052136: 1 Chips: ['R:3,4 S:2,2']\n",
      "1064963: 2 Chips: ['R:1,4 S:0,2', 'R:1,4 S:1,2']\n",
      "1075946: 2 Chips: ['R:4,1 S:2,0', 'R:4,1 S:2,1']\n",
      "1186002: 0 Chips: []\n",
      "1189228: 0 Chips: []\n",
      "1192345: 2 Chips: ['R:4,3 S:2,1', 'R:4,3 S:2,2']\n",
      "1195462: 2 Chips: ['R:4,3 S:2,1', 'R:4,3 S:2,2']\n",
      "1195465: 1 Chips: ['R:0,1 S:0,0']\n",
      "1218309: 1 Chips: ['R:3,4 S:2,2']\n",
      "1218323: 2 Chips: ['R:0,1 S:0,0', 'R:0,1 S:0,1']\n",
      "1218339: 2 Chips: ['R:3,4 S:1,2', 'R:3,4 S:2,2']\n",
      "1218424: 4 Chips: ['R:4,2 S:2,2', 'R:4,3 S:2,0', 'R:4,3 S:2,1', 'R:4,3 S:2,2']\n",
      "1224087: 2 Chips: ['R:4,1 S:2,0', 'R:4,1 S:2,1']\n",
      "1252367: 1 Chips: ['R:3,4 S:0,2']\n",
      "1273899: 2 Chips: ['R:3,4 S:1,2', 'R:3,4 S:2,2']\n",
      "1273910: 2 Chips: ['R:3,0 S:1,0', 'R:3,0 S:2,0']\n",
      "1273911: 0 Chips: []\n",
      "1287318: 2 Chips: ['R:4,3 S:1,2', 'R:4,3 S:2,2']\n",
      "1287408: 1 Chips: ['R:3,0 S:2,0']\n",
      "1288059: 1 Chips: ['R:1,4 S:0,2']\n",
      "1318837: 1 Chips: ['R:1,4 S:0,2']\n",
      "1318869: 2 Chips: ['R:0,3 S:0,0', 'R:0,3 S:0,2']\n",
      "1322818: 3 Chips: ['R:1,0 S:0,0', 'R:1,0 S:0,1', 'R:1,0 S:1,0']\n",
      "1330819: 2 Chips: ['R:3,0 S:1,0', 'R:3,0 S:2,0']\n",
      "1422918: 4 Chips: ['R:0,3 S:0,0', 'R:0,3 S:0,1', 'R:0,3 S:0,2', 'R:0,3 S:1,2']\n",
      "1424510: 2 Chips: ['R:0,1 S:0,1', 'R:0,1 S:0,2']\n",
      "1434092: 1 Chips: ['R:0,3 S:0,2']\n",
      "1439969: 1 Chips: ['R:0,1 S:0,0']\n",
      "1440009: 1 Chips: ['R:0,1 S:0,0']\n",
      "1451614: 1 Chips: ['R:3,4 S:2,2']\n",
      "1456966: 1 Chips: ['R:4,3 S:2,2']\n",
      "1486736: 0 Chips: []\n",
      "1486800: 2 Chips: ['R:1,4 S:0,2', 'R:1,4 S:1,2']\n",
      "1486808: 3 Chips: ['R:2,4 S:0,2', 'R:2,4 S:1,2', 'R:2,4 S:2,2']\n",
      "1487530: 3 Chips: ['R:0,3 S:0,0', 'R:0,3 S:0,1', 'R:0,3 S:0,2']\n",
      "1487555: 1 Chips: ['R:1,0 S:0,0']\n",
      "1487654: 6 Chips: ['R:0,1 S:0,0', 'R:0,1 S:0,1', 'R:0,1 S:0,2', 'R:0,2 S:0,0', 'R:0,2 S:0,1', 'R:1,0 S:0,0']\n",
      "1515549: 4 Chips: ['R:0,3 S:0,0', 'R:0,3 S:0,1', 'R:0,3 S:0,2', 'R:0,3 S:1,2']\n",
      "1517158: 0 Chips: []\n",
      "1668817: 4 Chips: ['R:0,3 S:0,0', 'R:0,3 S:0,1', 'R:0,3 S:0,2', 'R:0,3 S:1,2']\n",
      "1680361: 1 Chips: ['R:3,4 S:2,2']\n",
      "1708122: 1 Chips: ['R:3,4 S:2,2']\n",
      "1737164: 2 Chips: ['R:0,3 S:0,1', 'R:0,3 S:0,2']\n",
      "1737210: 2 Chips: ['R:1,4 S:0,2', 'R:1,4 S:1,2']\n",
      "1737211: 2 Chips: ['R:2,4 S:1,2', 'R:2,4 S:2,2']\n",
      "1737218: 2 Chips: ['R:1,0 S:0,0', 'R:1,0 S:1,0']\n",
      "1737912: 3 Chips: ['R:0,1 S:0,0', 'R:0,1 S:0,1', 'R:0,1 S:1,0']\n",
      "1750384: 1 Chips: ['R:3,4 S:2,2']\n",
      "1761905: 2 Chips: ['R:3,4 S:1,2', 'R:3,4 S:2,2']\n",
      "1790251: 1 Chips: ['R:0,1 S:0,0']\n",
      "1919393: 1 Chips: ['R:4,3 S:2,2']\n",
      "1924838: 1 Chips: ['R:3,0 S:2,0']\n",
      "1942521: 0 Chips: []\n",
      "1942697: 1 Chips: ['R:0,3 S:0,2']\n",
      "1955918: 3 Chips: ['R:4,3 S:1,2', 'R:4,3 S:2,1', 'R:4,3 S:2,2']\n",
      "1956689: 0 Chips: []\n",
      "1956762: 4 Chips: ['R:4,1 S:2,0', 'R:4,1 S:2,1', 'R:4,3 S:2,1', 'R:4,3 S:2,2']\n",
      "1965013: 0 Chips: []\n",
      "1965071: 2 Chips: ['R:3,0 S:2,0', 'R:4,1 S:2,0']\n",
      "1974423: 2 Chips: ['R:4,1 S:2,1', 'R:4,1 S:2,2']\n",
      "1993891: 1 Chips: ['R:3,4 S:1,2']\n",
      "1993992: 3 Chips: ['R:0,3 S:0,0', 'R:0,3 S:0,1', 'R:0,3 S:0,2']\n",
      "2015336: 2 Chips: ['R:4,3 S:2,1', 'R:4,3 S:2,2']\n",
      "2017864: 2 Chips: ['R:1,0 S:0,0', 'R:1,0 S:1,0']\n",
      "2030595: 2 Chips: ['R:0,3 S:0,1', 'R:0,3 S:0,2']\n",
      "2030651: 1 Chips: ['R:1,0 S:0,0']\n",
      "2039386: 1 Chips: ['R:1,4 S:0,2']\n",
      "2041424: 1 Chips: ['R:0,2 S:0,2']\n",
      "2052694: 1 Chips: ['R:0,3 S:0,2']\n",
      "2170832: 3 Chips: ['R:0,3 S:0,0', 'R:0,3 S:0,1', 'R:0,3 S:0,2']\n",
      "2170965: 1 Chips: ['R:0,1 S:0,0']\n",
      "2170995: 2 Chips: ['R:0,1 S:0,0', 'R:0,1 S:0,1']\n",
      "2184619: 1 Chips: ['R:0,3 S:0,2']\n",
      "2189350: 2 Chips: ['R:0,3 S:0,2', 'R:0,3 S:1,2']\n",
      "2218393: 2 Chips: ['R:1,4 S:0,2', 'R:1,4 S:1,2']\n",
      "2218394: 1 Chips: ['R:1,4 S:0,2']\n",
      "2218435: 1 Chips: ['R:1,4 S:0,2']\n",
      "2228042: 1 Chips: ['R:0,1 S:0,0']\n",
      "2246767: 1 Chips: ['R:1,4 S:0,2']\n",
      "2251743: 2 Chips: ['R:4,1 S:2,0', 'R:4,1 S:2,1']\n",
      "2266451: 3 Chips: ['R:1,4 S:0,1', 'R:1,4 S:0,2', 'R:1,4 S:1,2']\n",
      "2381430: 1 Chips: ['R:0,3 S:0,0']\n",
      "2383118: 1 Chips: ['R:3,4 S:2,2']\n",
      "2383169: 2 Chips: ['R:3,4 S:2,2', 'R:4,3 S:1,2']\n",
      "2396076: 4 Chips: ['R:0,1 S:0,0', 'R:0,1 S:0,1', 'R:0,1 S:0,2', 'R:0,1 S:1,0']\n",
      "2396176: 1 Chips: ['R:3,4 S:2,2']\n",
      "2396177: 2 Chips: ['R:3,4 S:2,1', 'R:4,3 S:2,2']\n",
      "2396218: 1 Chips: ['R:3,4 S:0,2']\n",
      "2396226: 1 Chips: ['R:0,3 S:0,2']\n",
      "2398465: 2 Chips: ['R:3,0 S:1,0', 'R:3,0 S:2,0']\n",
      "2398497: 1 Chips: ['R:4,1 S:2,0']\n",
      "2418947: 3 Chips: ['R:1,4 S:0,2', 'R:1,4 S:1,2', 'R:1,4 S:2,2']\n",
      "2421173: 3 Chips: ['R:0,1 S:0,0', 'R:0,1 S:0,1', 'R:0,1 S:0,2']\n",
      "2422464: 5 Chips: ['R:1,4 S:0,2', 'R:1,4 S:1,2', 'R:1,4 S:2,2', 'R:2,4 S:0,2', 'R:2,4 S:1,2']\n",
      "2423852: 1 Chips: ['R:1,4 S:0,2']\n",
      "2434166: 1 Chips: ['R:1,4 S:0,2']\n",
      "2440031: 3 Chips: ['R:3,0 S:2,0', 'R:3,0 S:2,1', 'R:4,1 S:2,0']\n",
      "\n",
      "Total missing visits:  156\n",
      "Total missing chips:  295\n"
     ]
    }
   ],
   "source": [
    "visitCount= 0\n",
    "chipCount= 0\n",
    "for i, hid in enumerate(savedData['nside512_old']['obsHistID']):\n",
    "    if hid not in savedData['nside1024_new_resaved']['obsHistID']:\n",
    "        visitCount+=1\n",
    "        chips= savedData['nside512_old']['chipNames'][i]\n",
    "        scienceDet= []\n",
    "        \n",
    "        for chip in chips:\n",
    "            if chip not in wavefront:\n",
    "                if chip not in nonScience:\n",
    "                    scienceDet.append(chip)\n",
    "\n",
    "        chipCount+= len(scienceDet)\n",
    "        print '%s: %s Chips: %s'%(hid, len(scienceDet), scienceDet)\n",
    "        \n",
    "print '\\nTotal missing visits: ', visitCount\n",
    "print 'Total missing chips: ', chipCount"
   ]
  },
  {
   "cell_type": "markdown",
   "metadata": {},
   "source": [
    "#### Compare the visits/chips that are in the new file but were not in the old file."
   ]
  },
  {
   "cell_type": "code",
   "execution_count": 7,
   "metadata": {
    "collapsed": false
   },
   "outputs": [
    {
     "name": "stdout",
     "output_type": "stream",
     "text": [
      "270627: 1 Chips: ['R:1,4 S:0,1']\n",
      "715588: 6 Chips: ['R:3,0 S:1,0', 'R:3,0 S:1,1', 'R:3,0 S:2,1', 'R:3,0 S:2,2', 'R:4,1 S:0,0', 'R:4,1 S:1,0']\n",
      "721740: 3 Chips: ['R:2,0 S:1,0', 'R:2,0 S:2,0', 'R:3,0 S:0,0']\n",
      "755253: 1 Chips: ['R:0,1 S:1,0']\n",
      "1743295: 0 Chips: []\n",
      "2271751: 4 Chips: ['R:4,3 S:1,1', 'R:4,3 S:1,2', 'R:4,3 S:2,0', 'R:4,3 S:2,1']\n",
      "\n",
      "Total missing visits:  6\n",
      "Total missing chips:  15\n"
     ]
    }
   ],
   "source": [
    "chipCount= 0\n",
    "visitCount= 0\n",
    "for i, hid in enumerate(savedData['nside1024_new_resaved']['obsHistID']):\n",
    "    if hid not in savedData['nside512_old']['obsHistID']:\n",
    "        visitCount+=1\n",
    "        chips= savedData['nside1024_new_resaved']['chipNames'][i]\n",
    "        scienceDet= []\n",
    "        \n",
    "        for chip in chips:\n",
    "            if chip not in wavefront:\n",
    "                if chip not in nonScience:\n",
    "                    scienceDet.append(chip)\n",
    "\n",
    "        chipCount+= len(scienceDet)\n",
    "        print '%s: %s Chips: %s'%(hid, len(scienceDet), scienceDet)\n",
    "        \n",
    "print '\\nTotal missing visits: ', visitCount\n",
    "print 'Total missing chips: ', chipCount"
   ]
  },
  {
   "cell_type": "code",
   "execution_count": null,
   "metadata": {
    "collapsed": true
   },
   "outputs": [],
   "source": []
  }
 ],
 "metadata": {
  "kernelspec": {
   "display_name": "Python 2",
   "language": "python",
   "name": "python2"
  },
  "language_info": {
   "codemirror_mode": {
    "name": "ipython",
    "version": 2
   },
   "file_extension": ".py",
   "mimetype": "text/x-python",
   "name": "python",
   "nbconvert_exporter": "python",
   "pygments_lexer": "ipython2",
   "version": "2.7.12"
  }
 },
 "nbformat": 4,
 "nbformat_minor": 0
}
