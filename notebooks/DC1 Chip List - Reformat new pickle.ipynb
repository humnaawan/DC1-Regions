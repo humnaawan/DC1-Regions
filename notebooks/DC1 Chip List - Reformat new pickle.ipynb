{
 "cells": [
  {
   "cell_type": "markdown",
   "metadata": {},
   "source": [
    "Reformat the new pickle. New histID order= older histID order with the additional visits appended at the end."
   ]
  },
  {
   "cell_type": "code",
   "execution_count": 1,
   "metadata": {
    "collapsed": false
   },
   "outputs": [],
   "source": [
    "import matplotlib.pyplot as plt\n",
    "%matplotlib inline\n",
    "import numpy as np\n",
    "import os\n",
    "import time\n",
    "import pandas as pd\n",
    "import pickle\n",
    "repoDir= os.getcwd()\n",
    "os.chdir(os.path.join(repoDir , '..' ))\n",
    "repoDir= os.getcwd()"
   ]
  },
  {
   "cell_type": "code",
   "execution_count": 2,
   "metadata": {
    "collapsed": false
   },
   "outputs": [
    {
     "data": {
      "text/plain": [
       "'/Users/Humna/lsstRepos/DC1-Regions'"
      ]
     },
     "execution_count": 2,
     "metadata": {},
     "output_type": "execute_result"
    }
   ],
   "source": [
    "os.getcwd()"
   ]
  },
  {
   "cell_type": "code",
   "execution_count": 3,
   "metadata": {
    "collapsed": false
   },
   "outputs": [],
   "source": [
    "savedData= {}  \n",
    "filenames= ['previously used - bugged/2017-01-29_chipPerVisitData_newAfterburnerOutput_fID1447_RandomDitherFieldPerVisit_randomRotDithered_nonDiscRegion_131052TotChipsToSimulate.pickle']\n",
    "for filename in filenames:\n",
    "    key= 'old'\n",
    "    with open('chipsPerVisitData/'+filename, 'rb') as handle:\n",
    "        savedData[key]= pickle.load(handle)\n",
    "              \n",
    "filenames= ['2017-04-06_chipPerVisitData_newAfterburnerOutput_fID1447_RandomDitherFieldPerVisit_randomRotDithered_nonDiscRegion_nside1024_192103NonWFChipsToSimulate.pickle']\n",
    "for filename in filenames:\n",
    "    key= 'new'\n",
    "    with open('chipsPerVisitData/'+filename, 'rb') as handle:\n",
    "        savedData[key]= pickle.load(handle)"
   ]
  },
  {
   "cell_type": "code",
   "execution_count": 4,
   "metadata": {
    "collapsed": false,
    "scrolled": true
   },
   "outputs": [
    {
     "name": "stdout",
     "output_type": "stream",
     "text": [
      "new\n",
      "Total visits:  2245\n",
      "\n",
      "old\n",
      "Total visits:  2395\n",
      "\n"
     ]
    }
   ],
   "source": [
    "for key in savedData:\n",
    "    print key\n",
    "    print 'Total visits: ', len(savedData[key]['chipNames'])\n",
    "    print ''"
   ]
  },
  {
   "cell_type": "code",
   "execution_count": 5,
   "metadata": {
    "collapsed": false
   },
   "outputs": [
    {
     "data": {
      "text/plain": [
       "['fIDs', 'chipNames', 'obsHistID', 'expDate']"
      ]
     },
     "execution_count": 5,
     "metadata": {},
     "output_type": "execute_result"
    }
   ],
   "source": [
    "savedData[key].keys()"
   ]
  },
  {
   "cell_type": "code",
   "execution_count": 6,
   "metadata": {
    "collapsed": false
   },
   "outputs": [
    {
     "name": "stderr",
     "output_type": "stream",
     "text": [
      "/Users/Humna/lsst/DarwinX86/miniconda2/3.19.0.lsst4/lib/python2.7/site-packages/ipykernel/__main__.py:11: VisibleDeprecationWarning: converting an array with ndim > 0 to an index will result in an error in the future\n",
      "/Users/Humna/lsst/DarwinX86/miniconda2/3.19.0.lsst4/lib/python2.7/site-packages/ipykernel/__main__.py:13: VisibleDeprecationWarning: converting an array with ndim > 0 to an index will result in an error in the future\n",
      "/Users/Humna/lsst/DarwinX86/miniconda2/3.19.0.lsst4/lib/python2.7/site-packages/ipykernel/__main__.py:14: VisibleDeprecationWarning: converting an array with ndim > 0 to an index will result in an error in the future\n",
      "/Users/Humna/lsst/DarwinX86/miniconda2/3.19.0.lsst4/lib/python2.7/site-packages/ipykernel/__main__.py:15: VisibleDeprecationWarning: converting an array with ndim > 0 to an index will result in an error in the future\n",
      "/Users/Humna/lsst/DarwinX86/miniconda2/3.19.0.lsst4/lib/python2.7/site-packages/ipykernel/__main__.py:16: VisibleDeprecationWarning: converting an array with ndim > 0 to an index will result in an error in the future\n"
     ]
    },
    {
     "name": "stdout",
     "output_type": "stream",
     "text": [
      "2395 visits added\n",
      "2239 visits overlapped\n",
      "156 visits are not in the new list \n"
     ]
    }
   ],
   "source": [
    "obsIDsList, expDatesList, fIDsList, chipNamesList, pixNumsList= [], [], [], [], []\n",
    "\n",
    "overlapCount= 0\n",
    "missingCount= 0\n",
    "# run over all the old hIDs and replaces the chipNames, pixNum etc. with the corresponding updates ones.\n",
    "for i, hid in enumerate(savedData['old']['obsHistID']): # run over the old hIDs\n",
    "    if hid in savedData['new']['obsHistID']:   # visit in the new pickle\n",
    "        overlapCount+=1\n",
    "        ind= np.where(savedData['new']['obsHistID']==hid)[0]\n",
    "\n",
    "        obsIDsList.append(savedData['new']['obsHistID'][ind])\n",
    "\n",
    "        expDatesList.append(savedData['new']['expDate'][ind])\n",
    "        fIDsList.append(savedData['new']['obsHistID'][ind])\n",
    "        chipNamesList.append(savedData['new']['chipNames'][ind])\n",
    "        pixNumsList.append(savedData['new']['pixNum'][ind])\n",
    "    \n",
    "    else:\n",
    "        missingCount+=1\n",
    "        obsIDsList.append(hid)\n",
    "        expDatesList.append([])\n",
    "        fIDsList.append([])\n",
    "        chipNamesList.append([])\n",
    "        pixNumsList.append([])\n",
    "        \n",
    "        \n",
    "print '%s visits added'%(overlapCount+missingCount)\n",
    "print '%s visits overlapped'%(overlapCount)\n",
    "print '%s visits are not in the new list '%(missingCount)"
   ]
  },
  {
   "cell_type": "code",
   "execution_count": 7,
   "metadata": {
    "collapsed": false
   },
   "outputs": [
    {
     "name": "stdout",
     "output_type": "stream",
     "text": [
      "6 visits added\n"
     ]
    },
    {
     "name": "stderr",
     "output_type": "stream",
     "text": [
      "/Users/Humna/lsst/DarwinX86/miniconda2/3.19.0.lsst4/lib/python2.7/site-packages/ipykernel/__main__.py:8: VisibleDeprecationWarning: converting an array with ndim > 0 to an index will result in an error in the future\n",
      "/Users/Humna/lsst/DarwinX86/miniconda2/3.19.0.lsst4/lib/python2.7/site-packages/ipykernel/__main__.py:10: VisibleDeprecationWarning: converting an array with ndim > 0 to an index will result in an error in the future\n",
      "/Users/Humna/lsst/DarwinX86/miniconda2/3.19.0.lsst4/lib/python2.7/site-packages/ipykernel/__main__.py:11: VisibleDeprecationWarning: converting an array with ndim > 0 to an index will result in an error in the future\n",
      "/Users/Humna/lsst/DarwinX86/miniconda2/3.19.0.lsst4/lib/python2.7/site-packages/ipykernel/__main__.py:12: VisibleDeprecationWarning: converting an array with ndim > 0 to an index will result in an error in the future\n",
      "/Users/Humna/lsst/DarwinX86/miniconda2/3.19.0.lsst4/lib/python2.7/site-packages/ipykernel/__main__.py:13: VisibleDeprecationWarning: converting an array with ndim > 0 to an index will result in an error in the future\n"
     ]
    }
   ],
   "source": [
    "# run over the new ids, find the ones that were not in the old one, append.\n",
    "count= 0\n",
    "for i, hid in enumerate(savedData['new']['obsHistID']): # run over the new hIDs\n",
    "    if hid not in obsIDsList:\n",
    "        count+=1\n",
    "        ind= np.where(savedData['new']['obsHistID']==hid)[0]\n",
    "\n",
    "        obsIDsList.append(savedData['new']['obsHistID'][ind])\n",
    "\n",
    "        expDatesList.append(savedData['new']['expDate'][ind])\n",
    "        fIDsList.append(savedData['new']['obsHistID'][ind])\n",
    "        chipNamesList.append(savedData['new']['chipNames'][ind])\n",
    "        pixNumsList.append(savedData['new']['pixNum'][ind])  \n",
    "        \n",
    "print '%s visits added'%count"
   ]
  },
  {
   "cell_type": "markdown",
   "metadata": {},
   "source": [
    "Quick checks"
   ]
  },
  {
   "cell_type": "code",
   "execution_count": 8,
   "metadata": {
    "collapsed": false
   },
   "outputs": [
    {
     "name": "stdout",
     "output_type": "stream",
     "text": [
      "2401\n",
      "2401\n"
     ]
    }
   ],
   "source": [
    "print len(obsIDsList)\n",
    "print len(savedData['new']['obsHistID'])+missingCount"
   ]
  },
  {
   "cell_type": "code",
   "execution_count": 9,
   "metadata": {
    "collapsed": false
   },
   "outputs": [
    {
     "name": "stdout",
     "output_type": "stream",
     "text": [
      "192103\n"
     ]
    }
   ],
   "source": [
    "numChips= []\n",
    "for i in range(len(obsIDsList)):\n",
    "    numChips.append(len(chipNamesList[i]))\n",
    "print sum(numChips)"
   ]
  },
  {
   "cell_type": "markdown",
   "metadata": {},
   "source": [
    "^ Ok the total number of chips is the same. good."
   ]
  },
  {
   "cell_type": "markdown",
   "metadata": {},
   "source": [
    "#### Save the data. With and without pixNum"
   ]
  },
  {
   "cell_type": "code",
   "execution_count": 10,
   "metadata": {
    "collapsed": false
   },
   "outputs": [
    {
     "name": "stdout",
     "output_type": "stream",
     "text": [
      "Saved  2017-04-10_reformatted_chipPerVisitData_fID1447_RandomDitherFieldPerVisit_randomRotDithered_nside1024_192103NonWFChipsToSimulate\n"
     ]
    }
   ],
   "source": [
    "dataToSave = {'obsHistID': obsIDsList, 'expDate': expDatesList,\n",
    "                      'fIDs': fIDsList, 'chipNames': chipNamesList,\n",
    "                      'pixNum': pixNumsList}\n",
    "\n",
    "currentDir= os.getcwd()\n",
    "os.chdir('chipsPerVisitData/')\n",
    "\n",
    "filename= '2017-04-10_reformatted_chipPerVisitData_fID1447_RandomDitherFieldPerVisit_randomRotDithered_nside1024_192103NonWFChipsToSimulate'\n",
    "with open(filename+'.pickle', 'wb') as handle:\n",
    "    pickle.dump(dataToSave, handle, protocol=pickle.HIGHEST_PROTOCOL)\n",
    "    \n",
    "print 'Saved ', filename"
   ]
  },
  {
   "cell_type": "code",
   "execution_count": 11,
   "metadata": {
    "collapsed": false
   },
   "outputs": [
    {
     "name": "stdout",
     "output_type": "stream",
     "text": [
      "Saved  2017-04-10_reformatted_nopixNum_chipPerVisitData_fID1447_RandomDitherFieldPerVisit_randomRotDithered_nside1024_192103NonWFChipsToSimulate\n"
     ]
    }
   ],
   "source": [
    "dataToSave = {'obsHistID': obsIDsList, 'expDate': expDatesList,\n",
    "                      'fIDs': fIDsList, 'chipNames': chipNamesList}\n",
    "\n",
    "filename= '2017-04-10_reformatted_nopixNum_chipPerVisitData_fID1447_RandomDitherFieldPerVisit_randomRotDithered_nside1024_192103NonWFChipsToSimulate'\n",
    "with open(filename+'.pickle', 'wb') as handle:\n",
    "    pickle.dump(dataToSave, handle, protocol=pickle.HIGHEST_PROTOCOL)\n",
    "    \n",
    "    \n",
    "print 'Saved ', filename"
   ]
  }
 ],
 "metadata": {
  "kernelspec": {
   "display_name": "Python 2",
   "language": "python",
   "name": "python2"
  },
  "language_info": {
   "codemirror_mode": {
    "name": "ipython",
    "version": 2
   },
   "file_extension": ".py",
   "mimetype": "text/x-python",
   "name": "python",
   "nbconvert_exporter": "python",
   "pygments_lexer": "ipython2",
   "version": "2.7.12"
  }
 },
 "nbformat": 4,
 "nbformat_minor": 0
}
