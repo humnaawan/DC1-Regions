{
 "cells": [
  {
   "cell_type": "code",
   "execution_count": 1,
   "metadata": {},
   "outputs": [],
   "source": [
    "import matplotlib.pyplot as plt\n",
    "%matplotlib inline"
   ]
  },
  {
   "cell_type": "code",
   "execution_count": 2,
   "metadata": {},
   "outputs": [],
   "source": [
    "import os\n",
    "repoDir= os.getcwd()\n",
    "os.chdir(os.path.join(repoDir , '..' )) # notebook is in repoDir/notebooks/\n",
    "repoDir= os.getcwd()"
   ]
  },
  {
   "cell_type": "code",
   "execution_count": 3,
   "metadata": {},
   "outputs": [],
   "source": [
    "from GIFproduction import GIFproduction"
   ]
  },
  {
   "cell_type": "code",
   "execution_count": 4,
   "metadata": {},
   "outputs": [
    {
     "name": "stdout",
     "output_type": "stream",
     "text": [
      "Help on function GIFproduction in module GIFproduction:\n",
      "\n",
      "GIFproduction(dbpath, filepath, nside, fIDmovie, histIDmovie, dataTag, transDithered, rotDithered, outputDir, testRun=False, obsHistIndMin=50, obsHistIndMax=150)\n",
      "     Method to produce GIFs for either the timeseries wrt objHistIDs or the visit for each fID.\n",
      "    \n",
      "     Required Inputs:\n",
      "     ---------------\n",
      "     * dbpath: str: path to the OpSim database. MUST contain dithered rotational and translational\n",
      "                    dither columns.\n",
      "    * filepath: str: path to the file containing the pickled dictionary with chipNames, obsHistIDs, etc.\n",
      "    * nside: int: HEALpix resolution parameter used to produce the file in filepath.\n",
      "    * fIDmovie: bool: True if want the GIF to be w.r.t fID, i.e. all the visits corresponding to a given FOV\n",
      "                      will be plotted sequentially.\n",
      "    * histIDmovie: bool: True if want the GIF to be w.r.t objsID, i.e. visits for a set of histIDs will be plotted.\n",
      "    * dataTag: str: tag to identify the saved GIF; will also appear in the title.\n",
      "    * transDithered: bool: True if want output with translational dithers (randomFieldPerVisit rn).\n",
      "                           Else will have undithered pointings.\n",
      "    * rotDithered: bool: True if want output for pointings with rotational dithers (random dithers).\n",
      "                         Else will have undithered pointings.\n",
      "    * outputDir: str: path where the GIF will be saved.\n",
      "    \n",
      "    Optional Inputs:\n",
      "    ---------------\n",
      "     * testRun: bool: set to run if just want to check the method runs. If histIDmovie= False, will only\n",
      "                      only consider 2-3 visits; if fIDmovie= True, will only run for one fID.\n",
      "                     Default: False\n",
      "     * obsHistIndMin, obsHistIndMax: int, int: index of the obsHistID to consider. If histIDmovie= True,\n",
      "                                                 obsHistIndMin:obsHistIndMax will be plotted.\n",
      "                                                 Default: 50, 150 (arbitrarily chosen).\n",
      "\n"
     ]
    }
   ],
   "source": [
    "help(GIFproduction)"
   ]
  },
  {
   "cell_type": "code",
   "execution_count": 5,
   "metadata": {},
   "outputs": [],
   "source": [
    "from os.path import expanduser\n",
    "home = expanduser(\"~\")\n",
    "# simdata datapath\n",
    "datapath= home+'/lsstData/'\n",
    "datapath+='minion_1016_sqlite_new_dithers.db'   # new afterburner output"
   ]
  },
  {
   "cell_type": "code",
   "execution_count": 6,
   "metadata": {},
   "outputs": [],
   "source": [
    "filepath= repoDir+'/chipsPerVisitData/2017-04-06_chipPerVisitData_newAfterburnerOutput_fID1447_RandomDitherFieldPerVisit_randomRotDithered_nonDiscRegion_nside1024_192103NonWFChipsToSimulate.pickle'\n",
    "nside= 1024\n",
    "dataTag= '2017-04-06Data_nside%s'%nside"
   ]
  },
  {
   "cell_type": "code",
   "execution_count": 7,
   "metadata": {},
   "outputs": [
    {
     "name": "stderr",
     "output_type": "stream",
     "text": [
      "WARNING: ErfaWarning: ERFA function \"taiutc\" yielded 1 of \"dubious year (Note 4)\" [astropy._erfa.core]\n",
      "Exception ignored in: <bound method SqlRegistry.__del__ of <lsst.daf.persistence.registries.SqliteRegistry object at 0x14f45a470>>\n",
      "Traceback (most recent call last):\n",
      "  File \"/Users/humnaawan/lsst/stack/miniconda3-4.3.21-10a4fa6/DarwinX86/daf_persistence/u.danielsf.2.3.7.1.sims-g674f0d60ff/python/lsst/daf/persistence/registries.py\", line 320, in __del__\n",
      "    super(SqlRegistry, self).__del__()\n",
      "AttributeError: 'super' object has no attribute '__del__'\n",
      "WARNING: ErfaWarning: ERFA function \"taiutc\" yielded 1 of \"dubious year (Note 4)\" [astropy._erfa.core]\n"
     ]
    },
    {
     "name": "stdout",
     "output_type": "stream",
     "text": [
      "Saved  hIDs_50-150Index_2017-04-06Data_nside1024.gif\n",
      "Saved  fID1190_2017-04-06Data_nside1024.gif\n",
      "Saved  fID1212_2017-04-06Data_nside1024.gif\n",
      "Saved  fID1220_2017-04-06Data_nside1024.gif\n",
      "Saved  fID1234_2017-04-06Data_nside1024.gif\n",
      "Saved  fID1285_2017-04-06Data_nside1024.gif\n",
      "Saved  fID1293_2017-04-06Data_nside1024.gif\n",
      "Saved  fID1305_2017-04-06Data_nside1024.gif\n",
      "Saved  fID1323_2017-04-06Data_nside1024.gif\n",
      "Saved  fID1333_2017-04-06Data_nside1024.gif\n",
      "Saved  fID1365_2017-04-06Data_nside1024.gif\n",
      "Saved  fID1413_2017-04-06Data_nside1024.gif\n",
      "Saved  fID1431_2017-04-06Data_nside1024.gif\n",
      "Saved  fID1447_2017-04-06Data_nside1024.gif\n",
      "Saved  fID1464_2017-04-06Data_nside1024.gif\n",
      "Saved  fID1506_2017-04-06Data_nside1024.gif\n",
      "Saved  fID1542_2017-04-06Data_nside1024.gif\n",
      "Saved  fID1564_2017-04-06Data_nside1024.gif\n",
      "Saved  fID1568_2017-04-06Data_nside1024.gif\n",
      "All done.\n"
     ]
    }
   ],
   "source": [
    "GIFproduction(dbpath= datapath, filepath= filepath, nside= nside,\n",
    "              fIDmovie= True, histIDmovie= True,\n",
    "              dataTag= dataTag,\n",
    "              transDithered= True, rotDithered= True, outputDir= repoDir, testRun= False)"
   ]
  },
  {
   "cell_type": "code",
   "execution_count": 8,
   "metadata": {},
   "outputs": [
    {
     "name": "stderr",
     "output_type": "stream",
     "text": [
      "WARNING: ErfaWarning: ERFA function \"taiutc\" yielded 1 of \"dubious year (Note 4)\" [astropy._erfa.core]\n"
     ]
    },
    {
     "name": "stdout",
     "output_type": "stream",
     "text": [
      "Saved  hIDs_550-650Index_2017-04-06Data_nside1024.gif\n",
      "All done.\n"
     ]
    }
   ],
   "source": [
    "GIFproduction(dbpath= datapath, filepath= filepath, nside= nside,\n",
    "              fIDmovie= False, histIDmovie= True,\n",
    "              dataTag= dataTag,\n",
    "              transDithered= True, rotDithered= True, outputDir= repoDir, testRun= False,\n",
    "             obsHistIndMin=550, obsHistIndMax=650)"
   ]
  },
  {
   "cell_type": "code",
   "execution_count": null,
   "metadata": {},
   "outputs": [],
   "source": []
  }
 ],
 "metadata": {
  "kernelspec": {
   "display_name": "Python 3",
   "language": "python",
   "name": "python3"
  },
  "language_info": {
   "codemirror_mode": {
    "name": "ipython",
    "version": 3
   },
   "file_extension": ".py",
   "mimetype": "text/x-python",
   "name": "python",
   "nbconvert_exporter": "python",
   "pygments_lexer": "ipython3",
   "version": "3.6.2"
  }
 },
 "nbformat": 4,
 "nbformat_minor": 2
}
