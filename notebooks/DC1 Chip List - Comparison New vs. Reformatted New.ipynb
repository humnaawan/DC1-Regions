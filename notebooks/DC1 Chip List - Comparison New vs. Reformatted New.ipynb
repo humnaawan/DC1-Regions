{
 "cells": [
  {
   "cell_type": "markdown",
   "metadata": {},
   "source": [
    "See how the chip lists differs between newer (Nside 1024) vs. the reformatted file."
   ]
  },
  {
   "cell_type": "code",
   "execution_count": 1,
   "metadata": {
    "collapsed": false
   },
   "outputs": [],
   "source": [
    "import matplotlib.pyplot as plt\n",
    "%matplotlib inline\n",
    "import numpy as np\n",
    "import os\n",
    "import time\n",
    "import pandas as pd\n",
    "import pickle\n",
    "repoDir= os.getcwd()\n",
    "os.chdir(os.path.join(repoDir , '..' ))\n",
    "repoDir= os.getcwd()"
   ]
  },
  {
   "cell_type": "code",
   "execution_count": 2,
   "metadata": {
    "collapsed": false
   },
   "outputs": [],
   "source": [
    "savedData= {}\n",
    "filenames= ['2017-04-10_reformatted_nopixNum_chipPerVisitData_fID1447_RandomDitherFieldPerVisit_randomRotDithered_nside1024_192103NonWFChipsToSimulate.pickle']\n",
    "for filename in filenames:\n",
    "    key= 'Reformatted_nside1024_new'\n",
    "    with open('chipsPerVisitData/'+filename, 'rb') as handle:\n",
    "        savedData[key]= pickle.load(handle)\n",
    "        \n",
    "filenames= ['2017-04-06_chipPerVisitData_newAfterburnerOutput_fID1447_RandomDitherFieldPerVisit_randomRotDithered_nonDiscRegion_nside1024_192103NonWFChipsToSimulate.pickle']\n",
    "for filename in filenames:\n",
    "    key= 'nside1024_new'\n",
    "    with open('chipsPerVisitData/'+filename, 'rb') as handle:\n",
    "        savedData[key]= pickle.load(handle)"
   ]
  },
  {
   "cell_type": "markdown",
   "metadata": {},
   "source": [
    "All detectors include:\n",
    "- 8 non-science sensors: 'R:0,0 S:1,2', 'R:0,0 S:2,1', 'R:0,4 S:1,0', 'R:0,4 S:2,1', 'R:4,0 S:0,1', 'R:4,0 S:1,2', 'R:4,4 S:0,1', 'R:4,4 S:1,0'\n",
    "- 16 wavefront sensors: 'R:4,0 S:0,2,A', 'R:4,0 S:0,2,B','R:0,4 S:2,0,A', 'R:0,4 S:2,0,B', 'R:0,0 S:2,2,A', 'R:0,0 S:2,2,B', 'R:4,4 S:0,0,A', 'R:4,4 S:0,0,B'\n",
    "           \n",
    "           \n",
    "^ which we are not simulating."
   ]
  },
  {
   "cell_type": "code",
   "execution_count": 3,
   "metadata": {
    "collapsed": true
   },
   "outputs": [],
   "source": [
    "wavefront= ['R:4,0 S:0,2,A', 'R:4,0 S:0,2,B','R:0,4 S:2,0,A', 'R:0,4 S:2,0,B',\n",
    "           'R:0,0 S:2,2,A', 'R:0,0 S:2,2,B','R:4,4 S:0,0,A', 'R:4,4 S:0,0,B']\n",
    "\n",
    "nonScience= ['R:0,0 S:1,2', 'R:0,0 S:2,1', 'R:0,4 S:1,0', 'R:0,4 S:2,1', \n",
    "             'R:4,0 S:0,1', 'R:4,0 S:1,2', 'R:4,4 S:0,1', 'R:4,4 S:1,0']"
   ]
  },
  {
   "cell_type": "code",
   "execution_count": 4,
   "metadata": {
    "collapsed": true
   },
   "outputs": [],
   "source": [
    "from intermediates import getSimData"
   ]
  },
  {
   "cell_type": "code",
   "execution_count": 5,
   "metadata": {
    "collapsed": true
   },
   "outputs": [],
   "source": [
    "# read in simdata\n",
    "path= '/Volumes/Transcend/'\n",
    "dbpath = path+'minion_1016_sqlite_new_dithers.db'   # new afterburner output\n",
    "extraCols= ['expDate', 'obsHistID', 'ditheredRotTelPos', 'rotTelPos']\n",
    "simdata= getSimData(dbpath, 'r', newAfterburner= True, extraCols= extraCols)"
   ]
  },
  {
   "cell_type": "code",
   "execution_count": 6,
   "metadata": {
    "collapsed": false
   },
   "outputs": [
    {
     "name": "stderr",
     "output_type": "stream",
     "text": [
      "/Users/Humna/lsst/DarwinX86/miniconda2/3.19.0.lsst4/lib/python2.7/site-packages/ipykernel/__main__.py:14: VisibleDeprecationWarning: converting an array with ndim > 0 to an index will result in an error in the future\n",
      "/Users/Humna/lsst/DarwinX86/miniconda2/3.19.0.lsst4/lib/python2.7/site-packages/ipykernel/__main__.py:18: VisibleDeprecationWarning: converting an array with ndim > 0 to an index will result in an error in the future\n"
     ]
    }
   ],
   "source": [
    "oldData= 'nside1024_new'\n",
    "newData= 'Reformatted_nside1024_new'\n",
    "\n",
    "hIDs= []\n",
    "missingList= []\n",
    "missingCount= []\n",
    "extraChipsList= []\n",
    "extraChipsCounts= []\n",
    "for hID in np.unique(simdata['obsHistID']):  # visit id in the new pickle\n",
    "    i= np.where(savedData[newData]['obsHistID']==hID)[0]\n",
    "    k= np.where(savedData[oldData]['obsHistID']==hID)[0]\n",
    "    \n",
    "    if (len(i)>0): # visit in the new list\n",
    "        allNewChips= savedData[newData]['chipNames'][i]\n",
    "        nonWFNewChips= list(set(allNewChips)-set(wavefront))\n",
    "        goodNewChips= list(set(nonWFNewChips)-set(nonScience))\n",
    "        if (len(k)>0): # visit was detected before\n",
    "            allOldChips= savedData[oldData]['chipNames'][k]\n",
    "            nonWFOldChips= list(set(allOldChips)-set(wavefront))\n",
    "            goodOldChips= list(set(nonWFOldChips)-set(nonScience))\n",
    "\n",
    "            missingChips= list(set(goodNewChips)-set(goodOldChips))\n",
    "            extraChips= list(set(goodOldChips)-set(goodNewChips))\n",
    "        else: # visit was never detected\n",
    "            missingChips= goodNewChips\n",
    "            extraChips= []\n",
    "        \n",
    "        hIDs.append(hID)\n",
    "        missingList.append(missingChips)\n",
    "        missingCount.append(len(missingChips))\n",
    "\n",
    "        extraChipsList.append(extraChips)\n",
    "        extraChipsCounts.append(len(extraChips))\n",
    "        \n",
    "    elif (len(k)>0):  # visit in the previous list but not in new \n",
    "        allOldChips= savedData[oldData]['chipNames'][k]\n",
    "        nonWFOldChips= list(set(allOldChips)-set(wavefront))\n",
    "        goodOldChips= list(set(nonWFOldChips)-set(nonScience))\n",
    "        \n",
    "        if (len(i)>0): # visit in the new list\n",
    "            allNewChips= savedData[newData]['chipNames'][i]\n",
    "            nonWFNewChips= list(set(allNewChips)-set(wavefront))\n",
    "            goodNewChips= list(set(nonWFNewChips)-set(nonScience))\n",
    "\n",
    "            missingChips= list(set(goodNewChips)-set(goodOldChips))\n",
    "            extraChips= list(set(goodOldChips)-set(goodNewChips))\n",
    "\n",
    "        else: # visit was never detected\n",
    "            missingChips= []\n",
    "            extraChips= goodOldChips\n",
    "        hIDs.append(hID)\n",
    "        missingList.append(missingChips)\n",
    "        missingCount.append(len(missingChips)) \n",
    "        extraChipsList.append(extraChips)\n",
    "        extraChipsCounts.append(len(extraChips))"
   ]
  },
  {
   "cell_type": "code",
   "execution_count": 7,
   "metadata": {
    "collapsed": false
   },
   "outputs": [
    {
     "data": {
      "image/png": "[encoded data removed]",
      "text/plain": [
       "<matplotlib.figure.Figure at 0x1110ba310>"
      ]
     },
     "metadata": {},
     "output_type": "display_data"
    }
   ],
   "source": [
    "plt.plot(hIDs, missingCount, '.', color= 'b', label= 'Chips in New, not in Old. Total: %s'%(sum(missingCount)))\n",
    "plt.plot(hIDs, -np.array(extraChipsCounts), '.', color= 'r', \n",
    "            label= 'Chips in Old, not in New. Total: %s'%(sum(extraChipsCounts)))\n",
    "plt.legend()\n",
    "plt.xlabel('histIDs', fontsize= 14)\n",
    "plt.ylabel('Number of Missing Chips', fontsize= 14)\n",
    "plt.title('New (Reformatted; Nside1024) - Old (Original; Nide1024)', fontsize= 14)\n",
    "\n",
    "fig= plt.gcf()\n",
    "fig.set_size_inches(12,8)\n",
    "plt.show()"
   ]
  },
  {
   "cell_type": "markdown",
   "metadata": {
    "collapsed": true
   },
   "source": [
    "#### ^ Good: do not expect the two files to contain different non-null visits."
   ]
  },
  {
   "cell_type": "code",
   "execution_count": null,
   "metadata": {
    "collapsed": true
   },
   "outputs": [],
   "source": []
  }
 ],
 "metadata": {
  "kernelspec": {
   "display_name": "Python 2",
   "language": "python",
   "name": "python2"
  },
  "language_info": {
   "codemirror_mode": {
    "name": "ipython",
    "version": 2
   },
   "file_extension": ".py",
   "mimetype": "text/x-python",
   "name": "python",
   "nbconvert_exporter": "python",
   "pygments_lexer": "ipython2",
   "version": "2.7.12"
  }
 },
 "nbformat": 4,
 "nbformat_minor": 0
}
