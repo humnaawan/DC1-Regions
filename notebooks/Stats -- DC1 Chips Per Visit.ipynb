{
 "cells": [
  {
   "cell_type": "code",
   "execution_count": 1,
   "metadata": {
    "collapsed": false
   },
   "outputs": [],
   "source": [
    "import matplotlib.pyplot as plt\n",
    "%matplotlib inline\n",
    "import numpy as np\n",
    "import os\n",
    "import time\n",
    "import pandas as pd\n",
    "import pickle\n",
    "os.chdir(os.path.join(os.getcwd() , '..' ))"
   ]
  },
  {
   "cell_type": "code",
   "execution_count": 2,
   "metadata": {
    "collapsed": false
   },
   "outputs": [],
   "source": [
    "savedData= {}\n",
    "with open('chipsPerVisitData/2017-01-23_chipPerVisitData_newAfterburnerOutput_fID1447_RandomDitherFieldPerVisit_discRegion.pickle', 'rb') as handle:\n",
    "    savedData['RandomDitherFieldPerVisit']= pickle.load(handle)\n",
    "    \n",
    "with open('chipsPerVisitData/2017-01-24_chipPerVisitData_newAfterburnerOutput_fID1447_NoDither_discRegion.pickle', 'rb') as handle:\n",
    "    savedData['NoDither']= pickle.load(handle)"
   ]
  },
  {
   "cell_type": "code",
   "execution_count": 3,
   "metadata": {
    "collapsed": false
   },
   "outputs": [
    {
     "name": "stdout",
     "output_type": "stream",
     "text": [
      "NoDither\n",
      "-- Max number of chips added by any given visit: 196\n",
      "-- Min number of chips added by any given visit: 3\n",
      "-- Total number of chips (across all visits to be simulated): 307379\n",
      "\n",
      "RandomDitherFieldPerVisit\n",
      "-- Max number of chips added by any given visit: 191\n",
      "-- Min number of chips added by any given visit: 1\n",
      "-- Total number of chips (across all visits to be simulated): 203804\n",
      "\n"
     ]
    }
   ],
   "source": [
    "for key in savedData:\n",
    "    print key\n",
    "    numChips= []\n",
    "    for i in range(len(savedData[key]['obsHistID'])):\n",
    "        numChips.append(len(savedData[key]['chipNames'][i]))\n",
    "    print '-- Max number of chips added by any given visit: %d'%(max(numChips))\n",
    "    print '-- Min number of chips added by any given visit: %d'%(min(numChips))\n",
    "    print '-- Total number of chips (across all visits to be simulated): %d\\n'%(sum(numChips))"
   ]
  },
  {
   "cell_type": "code",
   "execution_count": null,
   "metadata": {
    "collapsed": true
   },
   "outputs": [],
   "source": []
  }
 ],
 "metadata": {
  "kernelspec": {
   "display_name": "Python 2",
   "language": "python",
   "name": "python2"
  },
  "language_info": {
   "codemirror_mode": {
    "name": "ipython",
    "version": 2
   },
   "file_extension": ".py",
   "mimetype": "text/x-python",
   "name": "python",
   "nbconvert_exporter": "python",
   "pygments_lexer": "ipython2",
   "version": "2.7.12"
  }
 },
 "nbformat": 4,
 "nbformat_minor": 0
}
