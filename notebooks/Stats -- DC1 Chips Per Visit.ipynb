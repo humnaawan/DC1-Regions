{
 "cells": [
  {
   "cell_type": "code",
   "execution_count": 1,
   "metadata": {
    "collapsed": false
   },
   "outputs": [],
   "source": [
    "import matplotlib.pyplot as plt\n",
    "%matplotlib inline\n",
    "import numpy as np\n",
    "import os\n",
    "import time\n",
    "import pandas as pd\n",
    "import pickle\n",
    "repoDir= os.getcwd()\n",
    "os.chdir(os.path.join(repoDir , '..' ))\n",
    "repoDir= os.getcwd()"
   ]
  },
  {
   "cell_type": "code",
   "execution_count": 2,
   "metadata": {
    "collapsed": true
   },
   "outputs": [],
   "source": [
    "filenames= [f for f in os.listdir('chipsPerVisitData/') if any([f.endswith('pickle')])]\n",
    "savedData= {}\n",
    "\n",
    "for filename in filenames:\n",
    "    splits= filename.split('_')\n",
    "    if (len(splits)==8):\n",
    "        key= splits[4]+'_'+splits[5]\n",
    "    else:\n",
    "        key= splits[4]\n",
    "    with open('chipsPerVisitData/'+filename, 'rb') as handle:\n",
    "        savedData[key]= pickle.load(handle)"
   ]
  },
  {
   "cell_type": "code",
   "execution_count": 3,
   "metadata": {
    "collapsed": false
   },
   "outputs": [
    {
     "name": "stdout",
     "output_type": "stream",
     "text": [
      "RandomDitherFieldPerVisit_randomRotDithered\n",
      "-- Max number of chips added by any given visit: 191\n",
      "-- Min number of chips added by any given visit: 1\n",
      "-- Total number of chips (across all visits to be simulated): 131052\n",
      "\n",
      "NoDither\n",
      "-- Max number of chips added by any given visit: 196\n",
      "-- Min number of chips added by any given visit: 11\n",
      "-- Total number of chips (across all visits to be simulated): 207704\n",
      "\n",
      "RandomDitherFieldPerVisit\n",
      "-- Max number of chips added by any given visit: 191\n",
      "-- Min number of chips added by any given visit: 1\n",
      "-- Total number of chips (across all visits to be simulated): 131004\n",
      "\n"
     ]
    }
   ],
   "source": [
    "for key in savedData:\n",
    "    print key\n",
    "    numChips= []\n",
    "    for i in range(len(savedData[key]['obsHistID'])):\n",
    "        numChips.append(len(savedData[key]['chipNames'][i]))\n",
    "    print '-- Max number of chips added by any given visit: %d'%(max(numChips))\n",
    "    print '-- Min number of chips added by any given visit: %d'%(min(numChips))\n",
    "    print '-- Total number of chips (across all visits to be simulated): %d\\n'%(sum(numChips))"
   ]
  },
  {
   "cell_type": "code",
   "execution_count": 4,
   "metadata": {
    "collapsed": false
   },
   "outputs": [
    {
     "data": {
      "text/plain": [
       "['fIDs', 'chipNames', 'obsHistID', 'expDate']"
      ]
     },
     "execution_count": 4,
     "metadata": {},
     "output_type": "execute_result"
    }
   ],
   "source": [
    "key= 'RandomDitherFieldPerVisit_randomRotDithered'\n",
    "savedData[key].keys()"
   ]
  },
  {
   "cell_type": "code",
   "execution_count": 5,
   "metadata": {
    "collapsed": false
   },
   "outputs": [
    {
     "name": "stdout",
     "output_type": "stream",
     "text": [
      "[1212 1220 1234 1305 1323 1333 1365 1413 1431 1447 1464 1542 1564 1568]\n",
      "14\n"
     ]
    }
   ],
   "source": [
    "print np.unique(savedData[key]['fIDs'])\n",
    "print len(np.unique(savedData[key]['fIDs']))"
   ]
  },
  {
   "cell_type": "code",
   "execution_count": 6,
   "metadata": {
    "collapsed": false,
    "scrolled": false
   },
   "outputs": [
    {
     "data": {
      "text/plain": [
       "[(40336,\n",
       "  array([1305]),\n",
       "  array(['R:0,1 S:0,0', 'R:0,1 S:0,1', 'R:0,1 S:0,2', 'R:0,2 S:0,0',\n",
       "         'R:0,2 S:0,1', 'R:0,2 S:0,2', 'R:0,3 S:0,1', 'R:0,3 S:0,2',\n",
       "         'R:0,3 S:1,1', 'R:0,3 S:1,2', 'R:0,3 S:2,1', 'R:0,3 S:2,2',\n",
       "         'R:0,4 S:1,0', 'R:0,4 S:2,0,A', 'R:0,4 S:2,0,B', 'R:1,3 S:0,2',\n",
       "         'R:1,3 S:1,2', 'R:1,4 S:0,0', 'R:1,4 S:1,0', 'R:1,4 S:1,1'], \n",
       "        dtype='|S13')),\n",
       " (40337,\n",
       "  array([1323]),\n",
       "  array(['R:0,0 S:1,2', 'R:0,0 S:2,1', 'R:0,0 S:2,2,A', 'R:0,0 S:2,2,B',\n",
       "         'R:0,1 S:1,0', 'R:0,1 S:1,1', 'R:0,1 S:1,2', 'R:0,1 S:2,0',\n",
       "         'R:0,1 S:2,1', 'R:0,1 S:2,2', 'R:0,2 S:1,0', 'R:0,2 S:1,1',\n",
       "         'R:0,2 S:1,2', 'R:0,2 S:2,0', 'R:0,2 S:2,1', 'R:0,2 S:2,2',\n",
       "         'R:0,3 S:2,0', 'R:1,0 S:0,0', 'R:1,0 S:0,1', 'R:1,0 S:0,2',\n",
       "         'R:1,0 S:1,0', 'R:1,0 S:1,1', 'R:1,0 S:1,2', 'R:1,0 S:2,0',\n",
       "         'R:1,0 S:2,1', 'R:1,0 S:2,2', 'R:1,1 S:0,0', 'R:1,1 S:0,1',\n",
       "         'R:1,1 S:0,2', 'R:1,1 S:1,0', 'R:1,1 S:1,1', 'R:1,1 S:1,2',\n",
       "         'R:1,1 S:2,0', 'R:1,1 S:2,1', 'R:1,1 S:2,2', 'R:1,2 S:0,0',\n",
       "         'R:1,2 S:0,1', 'R:1,2 S:0,2', 'R:1,2 S:1,0', 'R:1,2 S:1,1',\n",
       "         'R:1,2 S:1,2', 'R:1,2 S:2,0', 'R:1,2 S:2,1', 'R:1,2 S:2,2',\n",
       "         'R:1,3 S:0,0', 'R:1,3 S:0,1', 'R:1,3 S:1,0', 'R:1,3 S:1,1',\n",
       "         'R:1,3 S:1,2', 'R:1,3 S:2,0', 'R:1,3 S:2,1', 'R:1,3 S:2,2',\n",
       "         'R:2,0 S:0,0', 'R:2,0 S:0,1', 'R:2,0 S:0,2', 'R:2,0 S:1,0',\n",
       "         'R:2,0 S:1,1', 'R:2,0 S:1,2', 'R:2,0 S:2,0', 'R:2,0 S:2,1',\n",
       "         'R:2,0 S:2,2', 'R:2,1 S:0,0', 'R:2,1 S:0,1', 'R:2,1 S:0,2',\n",
       "         'R:2,1 S:1,0', 'R:2,1 S:1,1', 'R:2,1 S:1,2', 'R:2,1 S:2,0',\n",
       "         'R:2,1 S:2,1', 'R:2,1 S:2,2', 'R:2,2 S:0,0', 'R:2,2 S:0,1',\n",
       "         'R:2,2 S:0,2', 'R:2,2 S:1,0', 'R:2,2 S:1,1', 'R:2,2 S:1,2',\n",
       "         'R:2,2 S:2,0', 'R:2,2 S:2,1', 'R:2,2 S:2,2', 'R:2,3 S:0,0',\n",
       "         'R:2,3 S:0,1', 'R:2,3 S:0,2', 'R:2,3 S:1,0', 'R:2,3 S:1,1',\n",
       "         'R:2,3 S:1,2', 'R:2,3 S:2,0', 'R:2,3 S:2,1', 'R:2,3 S:2,2',\n",
       "         'R:2,4 S:1,0', 'R:2,4 S:2,0', 'R:3,0 S:0,0', 'R:3,0 S:0,1',\n",
       "         'R:3,0 S:0,2', 'R:3,0 S:1,0', 'R:3,0 S:1,1', 'R:3,0 S:1,2',\n",
       "         'R:3,0 S:2,0', 'R:3,0 S:2,1', 'R:3,0 S:2,2', 'R:3,1 S:0,0',\n",
       "         'R:3,1 S:0,1', 'R:3,1 S:0,2', 'R:3,1 S:1,0', 'R:3,1 S:1,1',\n",
       "         'R:3,1 S:1,2', 'R:3,1 S:2,0', 'R:3,1 S:2,1', 'R:3,1 S:2,2',\n",
       "         'R:3,2 S:0,0', 'R:3,2 S:0,1', 'R:3,2 S:0,2', 'R:3,2 S:1,0',\n",
       "         'R:3,2 S:1,1', 'R:3,2 S:1,2', 'R:3,2 S:2,0', 'R:3,2 S:2,1',\n",
       "         'R:3,2 S:2,2', 'R:3,3 S:0,0', 'R:3,3 S:0,1', 'R:3,3 S:0,2',\n",
       "         'R:3,3 S:1,0', 'R:3,3 S:1,1', 'R:3,3 S:1,2', 'R:3,3 S:2,0',\n",
       "         'R:3,3 S:2,1', 'R:3,3 S:2,2', 'R:3,4 S:0,0', 'R:4,0 S:0,1',\n",
       "         'R:4,0 S:0,2,A', 'R:4,0 S:0,2,B', 'R:4,0 S:1,2', 'R:4,1 S:0,0',\n",
       "         'R:4,1 S:0,1', 'R:4,1 S:0,2', 'R:4,1 S:1,0', 'R:4,1 S:1,1',\n",
       "         'R:4,1 S:1,2', 'R:4,1 S:2,0', 'R:4,1 S:2,1', 'R:4,1 S:2,2',\n",
       "         'R:4,2 S:0,0', 'R:4,2 S:0,1', 'R:4,2 S:0,2', 'R:4,2 S:1,0',\n",
       "         'R:4,2 S:1,1', 'R:4,2 S:1,2', 'R:4,2 S:2,0', 'R:4,2 S:2,1',\n",
       "         'R:4,2 S:2,2', 'R:4,3 S:0,0', 'R:4,3 S:0,1', 'R:4,3 S:0,2',\n",
       "         'R:4,3 S:1,0', 'R:4,3 S:1,1', 'R:4,3 S:2,0'], \n",
       "        dtype='|S13')),\n",
       " (40338,\n",
       "  array([1333]),\n",
       "  array(['R:2,0 S:2,2', 'R:2,1 S:0,2', 'R:2,1 S:1,1', 'R:2,1 S:1,2',\n",
       "         'R:2,1 S:2,0', 'R:2,1 S:2,1', 'R:2,1 S:2,2', 'R:2,2 S:0,0',\n",
       "         'R:2,2 S:0,1', 'R:2,2 S:0,2', 'R:2,2 S:1,0', 'R:2,2 S:1,1',\n",
       "         'R:2,2 S:1,2', 'R:2,2 S:2,0', 'R:2,2 S:2,1', 'R:2,2 S:2,2',\n",
       "         'R:2,3 S:0,0', 'R:2,3 S:0,1', 'R:2,3 S:0,2', 'R:2,3 S:1,0',\n",
       "         'R:2,3 S:1,1', 'R:2,3 S:1,2', 'R:2,3 S:2,0', 'R:2,3 S:2,1',\n",
       "         'R:2,3 S:2,2', 'R:2,4 S:1,0', 'R:2,4 S:1,1', 'R:2,4 S:2,0',\n",
       "         'R:2,4 S:2,1', 'R:2,4 S:2,2', 'R:3,0 S:0,1', 'R:3,0 S:0,2',\n",
       "         'R:3,0 S:1,1', 'R:3,0 S:1,2', 'R:3,0 S:2,1', 'R:3,0 S:2,2',\n",
       "         'R:3,1 S:0,0', 'R:3,1 S:0,1', 'R:3,1 S:0,2', 'R:3,1 S:1,0',\n",
       "         'R:3,1 S:1,1', 'R:3,1 S:1,2', 'R:3,1 S:2,0', 'R:3,1 S:2,1',\n",
       "         'R:3,1 S:2,2', 'R:3,2 S:0,0', 'R:3,2 S:0,1', 'R:3,2 S:0,2',\n",
       "         'R:3,2 S:1,0', 'R:3,2 S:1,1', 'R:3,2 S:1,2', 'R:3,2 S:2,0',\n",
       "         'R:3,2 S:2,1', 'R:3,2 S:2,2', 'R:3,3 S:0,0', 'R:3,3 S:0,1',\n",
       "         'R:3,3 S:0,2', 'R:3,3 S:1,0', 'R:3,3 S:1,1', 'R:3,3 S:1,2',\n",
       "         'R:3,3 S:2,0', 'R:3,3 S:2,1', 'R:3,3 S:2,2', 'R:3,4 S:0,0',\n",
       "         'R:3,4 S:0,1', 'R:3,4 S:0,2', 'R:3,4 S:1,0', 'R:3,4 S:1,1',\n",
       "         'R:3,4 S:1,2', 'R:3,4 S:2,0', 'R:3,4 S:2,1', 'R:3,4 S:2,2',\n",
       "         'R:4,0 S:0,1', 'R:4,0 S:0,2,A', 'R:4,0 S:0,2,B', 'R:4,0 S:1,2',\n",
       "         'R:4,1 S:0,0', 'R:4,1 S:0,1', 'R:4,1 S:0,2', 'R:4,1 S:1,0',\n",
       "         'R:4,1 S:1,1', 'R:4,1 S:1,2', 'R:4,1 S:2,0', 'R:4,1 S:2,1',\n",
       "         'R:4,1 S:2,2', 'R:4,2 S:0,0', 'R:4,2 S:0,1', 'R:4,2 S:0,2',\n",
       "         'R:4,2 S:1,0', 'R:4,2 S:1,1', 'R:4,2 S:1,2', 'R:4,2 S:2,0',\n",
       "         'R:4,2 S:2,1', 'R:4,2 S:2,2', 'R:4,3 S:0,0', 'R:4,3 S:0,1',\n",
       "         'R:4,3 S:0,2', 'R:4,3 S:1,0', 'R:4,3 S:1,1', 'R:4,3 S:1,2',\n",
       "         'R:4,3 S:2,0', 'R:4,3 S:2,1', 'R:4,3 S:2,2', 'R:4,4 S:0,0,A',\n",
       "         'R:4,4 S:0,0,B', 'R:4,4 S:0,1', 'R:4,4 S:1,0'], \n",
       "        dtype='|S13')),\n",
       " (40345,\n",
       "  array([1212]),\n",
       "  array(['R:0,3 S:0,0', 'R:0,3 S:0,1', 'R:0,3 S:0,2', 'R:0,3 S:1,1',\n",
       "         'R:0,3 S:1,2', 'R:0,3 S:2,2', 'R:0,4 S:2,0,B'], \n",
       "        dtype='|S13')),\n",
       " (40366,\n",
       "  array([1305]),\n",
       "  array(['R:0,0 S:1,2', 'R:0,0 S:2,1', 'R:0,0 S:2,2,A', 'R:0,0 S:2,2,B',\n",
       "         'R:0,1 S:0,0', 'R:0,1 S:0,1', 'R:0,1 S:1,0', 'R:0,1 S:1,1',\n",
       "         'R:0,1 S:1,2', 'R:0,1 S:2,0', 'R:0,1 S:2,1', 'R:0,1 S:2,2',\n",
       "         'R:0,2 S:2,0', 'R:0,2 S:2,1', 'R:1,0 S:0,0', 'R:1,0 S:0,1',\n",
       "         'R:1,0 S:0,2', 'R:1,1 S:0,0', 'R:1,1 S:0,1', 'R:1,1 S:0,2',\n",
       "         'R:1,2 S:0,0', 'R:1,2 S:0,1', 'R:1,2 S:1,0', 'R:1,2 S:1,1',\n",
       "         'R:1,2 S:1,2', 'R:1,2 S:2,1', 'R:1,2 S:2,2', 'R:1,3 S:2,0',\n",
       "         'R:2,2 S:0,1', 'R:2,2 S:0,2', 'R:2,2 S:1,2', 'R:2,3 S:0,0',\n",
       "         'R:2,3 S:1,0'], \n",
       "        dtype='|S13')),\n",
       " (40367,\n",
       "  array([1323]),\n",
       "  array(['R:1,0 S:0,1', 'R:1,0 S:0,2', 'R:1,0 S:1,0', 'R:1,0 S:1,1',\n",
       "         'R:1,0 S:1,2', 'R:1,0 S:2,0', 'R:1,0 S:2,1', 'R:1,0 S:2,2',\n",
       "         'R:1,1 S:0,0', 'R:1,1 S:0,1', 'R:1,1 S:0,2', 'R:1,1 S:1,0',\n",
       "         'R:1,1 S:1,1', 'R:1,1 S:1,2', 'R:1,1 S:2,0', 'R:1,1 S:2,1',\n",
       "         'R:1,1 S:2,2', 'R:1,2 S:0,0', 'R:1,2 S:1,0', 'R:1,2 S:1,1',\n",
       "         'R:1,2 S:2,0', 'R:1,2 S:2,1', 'R:1,2 S:2,2', 'R:1,3 S:2,0',\n",
       "         'R:2,0 S:0,0', 'R:2,0 S:0,1', 'R:2,0 S:0,2', 'R:2,0 S:1,0',\n",
       "         'R:2,0 S:1,1', 'R:2,0 S:1,2', 'R:2,0 S:2,0', 'R:2,0 S:2,1',\n",
       "         'R:2,0 S:2,2', 'R:2,1 S:0,0', 'R:2,1 S:0,1', 'R:2,1 S:0,2',\n",
       "         'R:2,1 S:1,0', 'R:2,1 S:1,1', 'R:2,1 S:1,2', 'R:2,1 S:2,0',\n",
       "         'R:2,1 S:2,1', 'R:2,1 S:2,2', 'R:2,2 S:0,0', 'R:2,2 S:0,1',\n",
       "         'R:2,2 S:0,2', 'R:2,2 S:1,0', 'R:2,2 S:1,1', 'R:2,2 S:1,2',\n",
       "         'R:2,2 S:2,0', 'R:2,2 S:2,1', 'R:2,2 S:2,2', 'R:2,3 S:0,0',\n",
       "         'R:2,3 S:1,0', 'R:2,3 S:1,1', 'R:2,3 S:2,0', 'R:2,3 S:2,1',\n",
       "         'R:3,0 S:0,0', 'R:3,0 S:0,1', 'R:3,0 S:0,2', 'R:3,0 S:1,0',\n",
       "         'R:3,0 S:1,1', 'R:3,0 S:1,2', 'R:3,0 S:2,0', 'R:3,0 S:2,1',\n",
       "         'R:3,0 S:2,2', 'R:3,1 S:0,0', 'R:3,1 S:0,1', 'R:3,1 S:0,2',\n",
       "         'R:3,1 S:1,0', 'R:3,1 S:1,1', 'R:3,1 S:1,2', 'R:3,1 S:2,0',\n",
       "         'R:3,1 S:2,1', 'R:3,1 S:2,2', 'R:3,2 S:0,0', 'R:3,2 S:0,1',\n",
       "         'R:3,2 S:0,2', 'R:3,2 S:1,0', 'R:3,2 S:1,1', 'R:3,2 S:1,2',\n",
       "         'R:3,2 S:2,0', 'R:3,2 S:2,1', 'R:3,2 S:2,2', 'R:3,3 S:0,0',\n",
       "         'R:3,3 S:0,1', 'R:3,3 S:1,0', 'R:3,3 S:1,1', 'R:3,3 S:1,2',\n",
       "         'R:3,3 S:2,0', 'R:3,3 S:2,1', 'R:3,3 S:2,2', 'R:4,0 S:0,1',\n",
       "         'R:4,0 S:0,2,A', 'R:4,0 S:0,2,B', 'R:4,0 S:1,2', 'R:4,1 S:0,0',\n",
       "         'R:4,1 S:0,1', 'R:4,1 S:0,2', 'R:4,1 S:1,0', 'R:4,1 S:1,1',\n",
       "         'R:4,1 S:1,2', 'R:4,1 S:2,0', 'R:4,1 S:2,1', 'R:4,1 S:2,2',\n",
       "         'R:4,2 S:0,0', 'R:4,2 S:0,1', 'R:4,2 S:0,2', 'R:4,2 S:1,0',\n",
       "         'R:4,2 S:1,1', 'R:4,2 S:1,2', 'R:4,2 S:2,0', 'R:4,2 S:2,1',\n",
       "         'R:4,2 S:2,2', 'R:4,3 S:0,0', 'R:4,3 S:0,1', 'R:4,3 S:1,0',\n",
       "         'R:4,3 S:1,1', 'R:4,3 S:2,0', 'R:4,3 S:2,1'], \n",
       "        dtype='|S13')),\n",
       " (40368,\n",
       "  array([1333]),\n",
       "  array(['R:1,2 S:2,1', 'R:1,2 S:2,2', 'R:1,3 S:2,0', 'R:1,3 S:2,1',\n",
       "         'R:1,3 S:2,2', 'R:1,4 S:2,0', 'R:2,1 S:0,2', 'R:2,1 S:1,1',\n",
       "         'R:2,1 S:1,2', 'R:2,1 S:2,0', 'R:2,1 S:2,1', 'R:2,1 S:2,2',\n",
       "         'R:2,2 S:0,0', 'R:2,2 S:0,1', 'R:2,2 S:0,2', 'R:2,2 S:1,0',\n",
       "         'R:2,2 S:1,1', 'R:2,2 S:1,2', 'R:2,2 S:2,0', 'R:2,2 S:2,1',\n",
       "         'R:2,2 S:2,2', 'R:2,3 S:0,0', 'R:2,3 S:0,1', 'R:2,3 S:0,2',\n",
       "         'R:2,3 S:1,0', 'R:2,3 S:1,1', 'R:2,3 S:1,2', 'R:2,3 S:2,0',\n",
       "         'R:2,3 S:2,1', 'R:2,3 S:2,2', 'R:2,4 S:0,0', 'R:2,4 S:0,1',\n",
       "         'R:2,4 S:0,2', 'R:2,4 S:1,0', 'R:2,4 S:1,1', 'R:2,4 S:1,2',\n",
       "         'R:2,4 S:2,0', 'R:2,4 S:2,1', 'R:2,4 S:2,2', 'R:3,0 S:1,2',\n",
       "         'R:3,0 S:2,2', 'R:3,1 S:0,0', 'R:3,1 S:0,1', 'R:3,1 S:0,2',\n",
       "         'R:3,1 S:1,0', 'R:3,1 S:1,1', 'R:3,1 S:1,2', 'R:3,1 S:2,0',\n",
       "         'R:3,1 S:2,1', 'R:3,1 S:2,2', 'R:3,2 S:0,0', 'R:3,2 S:0,1',\n",
       "         'R:3,2 S:0,2', 'R:3,2 S:1,0', 'R:3,2 S:1,1', 'R:3,2 S:1,2',\n",
       "         'R:3,2 S:2,0', 'R:3,2 S:2,1', 'R:3,2 S:2,2', 'R:3,3 S:0,0',\n",
       "         'R:3,3 S:0,1', 'R:3,3 S:0,2', 'R:3,3 S:1,0', 'R:3,3 S:1,1',\n",
       "         'R:3,3 S:1,2', 'R:3,3 S:2,0', 'R:3,3 S:2,1', 'R:3,3 S:2,2',\n",
       "         'R:3,4 S:0,0', 'R:3,4 S:0,1', 'R:3,4 S:0,2', 'R:3,4 S:1,0',\n",
       "         'R:3,4 S:1,1', 'R:3,4 S:1,2', 'R:3,4 S:2,0', 'R:3,4 S:2,1',\n",
       "         'R:3,4 S:2,2', 'R:4,0 S:0,2,B', 'R:4,0 S:1,2', 'R:4,1 S:0,0',\n",
       "         'R:4,1 S:0,1', 'R:4,1 S:0,2', 'R:4,1 S:1,0', 'R:4,1 S:1,1',\n",
       "         'R:4,1 S:1,2', 'R:4,1 S:2,0', 'R:4,1 S:2,1', 'R:4,1 S:2,2',\n",
       "         'R:4,2 S:0,0', 'R:4,2 S:0,1', 'R:4,2 S:0,2', 'R:4,2 S:1,0',\n",
       "         'R:4,2 S:1,1', 'R:4,2 S:1,2', 'R:4,2 S:2,0', 'R:4,2 S:2,1',\n",
       "         'R:4,2 S:2,2', 'R:4,3 S:0,0', 'R:4,3 S:0,1', 'R:4,3 S:0,2',\n",
       "         'R:4,3 S:1,0', 'R:4,3 S:1,1', 'R:4,3 S:1,2', 'R:4,3 S:2,0',\n",
       "         'R:4,3 S:2,1', 'R:4,3 S:2,2', 'R:4,4 S:0,0,A', 'R:4,4 S:0,0,B',\n",
       "         'R:4,4 S:0,1', 'R:4,4 S:1,0'], \n",
       "        dtype='|S13')),\n",
       " (193115,\n",
       "  array([1305]),\n",
       "  array(['R:0,3 S:2,1', 'R:1,1 S:2,2', 'R:1,2 S:0,1', 'R:1,2 S:0,2',\n",
       "         'R:1,2 S:1,0', 'R:1,2 S:1,1', 'R:1,2 S:1,2', 'R:1,2 S:2,0',\n",
       "         'R:1,3 S:0,0', 'R:1,3 S:0,1', 'R:1,3 S:0,2', 'R:1,3 S:1,0',\n",
       "         'R:1,3 S:1,1', 'R:1,3 S:1,2', 'R:1,4 S:0,0', 'R:2,1 S:0,1',\n",
       "         'R:2,1 S:0,2', 'R:2,1 S:1,1', 'R:2,1 S:1,2', 'R:2,1 S:2,0',\n",
       "         'R:2,1 S:2,1', 'R:2,1 S:2,2', 'R:2,2 S:0,0', 'R:2,2 S:0,1',\n",
       "         'R:2,2 S:1,0', 'R:2,2 S:1,1', 'R:2,2 S:2,0', 'R:2,2 S:2,1',\n",
       "         'R:3,1 S:0,0', 'R:3,1 S:0,1', 'R:3,1 S:0,2', 'R:3,1 S:1,0',\n",
       "         'R:3,1 S:1,1', 'R:3,1 S:1,2', 'R:3,1 S:2,0', 'R:3,1 S:2,1',\n",
       "         'R:3,1 S:2,2', 'R:3,2 S:0,0', 'R:3,2 S:1,0', 'R:3,2 S:2,0',\n",
       "         'R:4,1 S:0,0', 'R:4,1 S:0,1', 'R:4,1 S:0,2', 'R:4,1 S:1,1'], \n",
       "        dtype='|S13')),\n",
       " (193117,\n",
       "  array([1413]),\n",
       "  array(['R:0,3 S:2,0', 'R:1,2 S:0,2', 'R:1,2 S:1,2', 'R:1,2 S:2,1',\n",
       "         'R:1,2 S:2,2', 'R:1,3 S:0,0', 'R:1,3 S:1,0', 'R:1,3 S:1,1',\n",
       "         'R:1,3 S:2,0', 'R:1,3 S:2,1', 'R:2,2 S:0,1', 'R:2,2 S:0,2',\n",
       "         'R:2,2 S:1,1', 'R:2,2 S:1,2', 'R:2,2 S:2,0', 'R:2,2 S:2,1',\n",
       "         'R:2,2 S:2,2', 'R:2,3 S:0,0', 'R:2,3 S:0,1', 'R:2,3 S:1,0',\n",
       "         'R:2,3 S:1,1', 'R:2,3 S:2,0', 'R:3,2 S:0,0', 'R:3,2 S:0,1',\n",
       "         'R:3,2 S:0,2', 'R:3,2 S:1,1', 'R:3,2 S:1,2', 'R:3,2 S:2,1',\n",
       "         'R:3,2 S:2,2', 'R:3,3 S:0,0'], \n",
       "        dtype='|S13')),\n",
       " (193156,\n",
       "  array([1305]),\n",
       "  array(['R:1,1 S:0,2', 'R:1,1 S:1,0', 'R:1,1 S:1,1', 'R:1,1 S:1,2',\n",
       "         'R:1,1 S:2,0', 'R:1,1 S:2,1', 'R:1,1 S:2,2', 'R:1,2 S:0,0',\n",
       "         'R:1,2 S:0,1', 'R:1,2 S:0,2', 'R:1,2 S:1,0', 'R:1,2 S:1,1',\n",
       "         'R:1,2 S:1,2', 'R:1,2 S:2,0', 'R:2,0 S:0,1', 'R:2,0 S:0,2',\n",
       "         'R:2,0 S:1,1', 'R:2,0 S:1,2', 'R:2,0 S:2,0', 'R:2,0 S:2,1',\n",
       "         'R:2,0 S:2,2', 'R:2,1 S:0,0', 'R:2,1 S:1,0', 'R:2,1 S:2,0',\n",
       "         'R:3,0 S:0,0', 'R:3,0 S:0,1', 'R:3,0 S:0,2', 'R:3,0 S:1,0',\n",
       "         'R:3,0 S:1,1', 'R:3,0 S:1,2', 'R:3,0 S:2,0', 'R:3,0 S:2,1',\n",
       "         'R:3,0 S:2,2', 'R:3,1 S:0,0', 'R:3,1 S:1,0', 'R:4,0 S:0,1',\n",
       "         'R:4,0 S:0,2,A', 'R:4,0 S:0,2,B'], \n",
       "        dtype='|S13'))]"
      ]
     },
     "execution_count": 6,
     "metadata": {},
     "output_type": "execute_result"
    }
   ],
   "source": [
    "# example\n",
    "zip(savedData[key]['obsHistID'][0:10], savedData[key]['fIDs'][0:10], savedData[key]['chipNames'][0:10])"
   ]
  },
  {
   "cell_type": "code",
   "execution_count": 7,
   "metadata": {
    "collapsed": false
   },
   "outputs": [
    {
     "data": {
      "text/plain": [
       "2395"
      ]
     },
     "execution_count": 7,
     "metadata": {},
     "output_type": "execute_result"
    }
   ],
   "source": [
    "len(np.unique(savedData[key]['expDate']))"
   ]
  },
  {
   "cell_type": "code",
   "execution_count": 8,
   "metadata": {
    "collapsed": false
   },
   "outputs": [
    {
     "data": {
      "text/plain": [
       "2395"
      ]
     },
     "execution_count": 8,
     "metadata": {},
     "output_type": "execute_result"
    }
   ],
   "source": [
    "len(np.unique(savedData[key]['obsHistID']))"
   ]
  },
  {
   "cell_type": "code",
   "execution_count": null,
   "metadata": {
    "collapsed": true
   },
   "outputs": [],
   "source": []
  }
 ],
 "metadata": {
  "kernelspec": {
   "display_name": "Python 2",
   "language": "python",
   "name": "python2"
  },
  "language_info": {
   "codemirror_mode": {
    "name": "ipython",
    "version": 2
   },
   "file_extension": ".py",
   "mimetype": "text/x-python",
   "name": "python",
   "nbconvert_exporter": "python",
   "pygments_lexer": "ipython2",
   "version": "2.7.12"
  }
 },
 "nbformat": 4,
 "nbformat_minor": 0
}
