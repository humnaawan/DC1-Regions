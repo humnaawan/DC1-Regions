{
 "cells": [
  {
   "cell_type": "markdown",
   "metadata": {},
   "source": [
    "## Running the new version of findDC1Chips now. \n",
    "\n",
    "- Correct usage of HP slicer. \n",
    "- Output pickle file has an additional key: pixelNum to track which pixels are triggered by the method. Also, output filename has an nside tag to know which pixels are refered to.\n",
    "- Output chipnames do not have any wavefront sensors.\n",
    "\n",
    "### Care about the run in input 4: at a higher resolution.\n",
    "- Name contains NonWFsensor tag."
   ]
  },
  {
   "cell_type": "code",
   "execution_count": 1,
   "metadata": {
    "collapsed": false
   },
   "outputs": [],
   "source": [
    "import matplotlib.pyplot as plt\n",
    "%matplotlib inline\n",
    "import numpy as np\n",
    "import os\n",
    "import time\n",
    "import pandas as pd\n",
    "repoDir= os.getcwd()\n",
    "os.chdir(os.path.join( repoDir, '..' ))\n",
    "repoDir= os.getcwd()\n",
    "from findDC1Chips import findDC1Chips"
   ]
  },
  {
   "cell_type": "code",
   "execution_count": 2,
   "metadata": {
    "collapsed": false
   },
   "outputs": [],
   "source": [
    "#help(findDC1Chips)"
   ]
  },
  {
   "cell_type": "code",
   "execution_count": 3,
   "metadata": {
    "collapsed": true
   },
   "outputs": [],
   "source": [
    "#dbpath= '/Volumes/Transcend/minion_1016_sqlite.db'\n",
    "dbpath= '/Volumes/Transcend/minion_1016_sqlite_new_dithers.db'"
   ]
  },
  {
   "cell_type": "markdown",
   "metadata": {
    "collapsed": true
   },
   "source": [
    "#### RandomDitherFieldPerVisit and randomRotDithers  for fID=1447.  Nside= 512. No WF sensors."
   ]
  },
  {
   "cell_type": "code",
   "execution_count": 4,
   "metadata": {
    "collapsed": false,
    "scrolled": false
   },
   "outputs": [
    {
     "name": "stdout",
     "output_type": "stream",
     "text": [
      "\n",
      "############################################\n",
      "## 2017-04-06T00:39:44.998933\n",
      "Getting simData ... \n",
      "\n",
      "############################################\n",
      "## Finding region pixels ... \n",
      "\n",
      "## Total number of pixels in the region: 2847\n",
      "Healpix slicer using NSIDE=512, approximate resolution 6.870973 arcminutes\n"
     ]
    },
    {
     "name": "stderr",
     "output_type": "stream",
     "text": [
      "WARNING: ErfaWarning: ERFA function \"taiutc\" yielded 1 of \"dubious year (Note 4)\" [astropy._erfa.core]\n",
      "/Users/Humna/lsst/DarwinX86/sims_utils/12.0-13-g6534730/python/lsst/sims/utils/ModifiedJulianDate.py:188: UTCtoUT1Warning: UTC is outside of IERS table for UT1-UTC.\n",
      "Returning UT1 = UTC for lack of a better idea\n",
      "This warning was caused by calling ModifiedJulianDate.dut1\n",
      "\n",
      "  category=UTCtoUT1Warning)\n",
      "/Users/Humna/lsst/DarwinX86/sims_coordUtils/12.0-4-g7de6cfa+29/python/lsst/sims/coordUtils/CameraUtils.py:325: MultipleChipWarning: An object has landed on multiple chips.  You asked for this not to happen.\n",
      "We will return only one of the chip names.  If you want both, try re-running with the kwarg allow_multiple_chips=True.\n",
      "Offending chip names were ['R:4,0 S:0,2,A', 'R:4,0 S:0,2,B']\n",
      "Offending pupil coordinate point was 0.019916807604 -0.020522159580\n",
      "\n",
      "  category=MultipleChipWarning)\n"
     ]
    },
    {
     "name": "stdout",
     "output_type": "stream",
     "text": [
      "## 5.022831% pixels done\n",
      "Time passed (min): 10.729352\n"
     ]
    },
    {
     "name": "stderr",
     "output_type": "stream",
     "text": [
      "/Users/Humna/lsst/DarwinX86/sims_coordUtils/12.0-4-g7de6cfa+29/python/lsst/sims/coordUtils/CameraUtils.py:325: MultipleChipWarning: An object has landed on multiple chips.  You asked for this not to happen.\n",
      "We will return only one of the chip names.  If you want both, try re-running with the kwarg allow_multiple_chips=True.\n",
      "Offending chip names were ['R:4,0 S:0,2,A', 'R:4,0 S:0,2,B']\n",
      "Offending pupil coordinate point was 0.019276417895 -0.020522187052\n",
      "\n",
      "  category=MultipleChipWarning)\n",
      "/Users/Humna/lsst/DarwinX86/sims_coordUtils/12.0-4-g7de6cfa+29/python/lsst/sims/coordUtils/CameraUtils.py:325: MultipleChipWarning: An object has landed on multiple chips.  You asked for this not to happen.\n",
      "We will return only one of the chip names.  If you want both, try re-running with the kwarg allow_multiple_chips=True.\n",
      "Offending chip names were ['R:4,0 S:0,2,A', 'R:4,0 S:0,2,B']\n",
      "Offending pupil coordinate point was 0.022412214575 -0.020519250798\n",
      "\n",
      "  category=MultipleChipWarning)\n"
     ]
    },
    {
     "name": "stdout",
     "output_type": "stream",
     "text": [
      "## 10.045662% pixels done\n",
      "Time passed (min): 21.524046\n",
      "## 15.068493% pixels done\n",
      "Time passed (min): 31.816840\n",
      "## 20.091324% pixels done\n",
      "Time passed (min): 43.103171\n",
      "## 25.114155% pixels done\n",
      "Time passed (min): 54.282805\n",
      "## 30.136986% pixels done\n",
      "Time passed (min): 62.381708\n",
      "## 35.159817% pixels done\n",
      "Time passed (min): 69.761134\n",
      "## 40.182648% pixels done\n",
      "Time passed (min): 77.075693\n",
      "## 45.205479% pixels done\n",
      "Time passed (min): 83.950222\n",
      "## 50.228311% pixels done\n",
      "Time passed (min): 91.671399\n",
      "## 55.251142% pixels done\n",
      "Time passed (min): 99.383527\n",
      "## 60.273973% pixels done\n",
      "Time passed (min): 106.407465\n",
      "## 65.296804% pixels done\n",
      "Time passed (min): 113.920167\n",
      "## 70.319635% pixels done\n",
      "Time passed (min): 121.352444\n",
      "## 75.342466% pixels done\n",
      "Time passed (min): 129.166298\n",
      "## 80.365297% pixels done\n",
      "Time passed (min): 136.859243\n",
      "## 85.388128% pixels done\n",
      "Time passed (min): 144.669580\n",
      "## 90.410959% pixels done\n",
      "Time passed (min): 152.485733\n",
      "## 95.433790% pixels done\n",
      "Time passed (min): 161.160862\n",
      "\n",
      "## Unique obsHistIDs: 2277 \n",
      "## Unique expDates: 2277 \n",
      "## Unique chipNames: 197 \n",
      "\n",
      "\n",
      "############################################\n",
      "## Consolidating the data ... \n",
      "\n",
      "############################################\n",
      "## Max number of chips added by any given visit: 188 \n",
      "## Min number: 1 \n",
      "## Total number of chips (across all visits to be simulated): 187761\n",
      "\n",
      "############################################\n",
      "## Saving the data ... \n",
      "\n",
      "############################################\n",
      "## Saved the data as 2017-04-06_chipPerVisitData_newAfterburnerOutput_fID1447_RandomDitherFieldPerVisit_randomRotDithered_nonDiscRegion_nside512_187761TotChipsToSimulate.pickle\n"
     ]
    }
   ],
   "source": [
    "# output will not contain WF sensors. old file name (thought output list contains nonWF sensors only).\n",
    "output= findDC1Chips(dbpath, newAfterburner= True, addRotDither= True,\n",
    "                     fiducialDither= 'RandomDitherFieldPerVisit',  fiducialID= 1447,\n",
    "                     disc= False, saveData= True, nside= 512,\n",
    "                     outputPath= repoDir + '/chipsPerVisitData')\n",
    "obsIDsList, expDatesList, fIDsList, chipNamesList, pixNumsList= output"
   ]
  },
  {
   "cell_type": "markdown",
   "metadata": {},
   "source": [
    "## RandomDitherFieldPerVisit and randomRotDithers  for fID=1447.  Nside= 1024"
   ]
  },
  {
   "cell_type": "code",
   "execution_count": 4,
   "metadata": {
    "collapsed": false
   },
   "outputs": [
    {
     "name": "stdout",
     "output_type": "stream",
     "text": [
      "\n",
      "############################################\n",
      "## 2017-04-06T03:54:49.428180\n",
      "Getting simData ... \n",
      "\n",
      "############################################\n",
      "## Finding region pixels ... \n",
      "\n",
      "## Total number of pixels in the region: 11040\n",
      "Healpix slicer using NSIDE=1024, approximate resolution 3.435486 arcminutes\n"
     ]
    },
    {
     "name": "stderr",
     "output_type": "stream",
     "text": [
      "WARNING: ErfaWarning: ERFA function \"taiutc\" yielded 1 of \"dubious year (Note 4)\" [astropy._erfa.core]\n",
      "/Users/Humna/lsst/DarwinX86/sims_utils/12.0-13-g6534730/python/lsst/sims/utils/ModifiedJulianDate.py:188: UTCtoUT1Warning: UTC is outside of IERS table for UT1-UTC.\n",
      "Returning UT1 = UTC for lack of a better idea\n",
      "This warning was caused by calling ModifiedJulianDate.dut1\n",
      "\n",
      "  category=UTCtoUT1Warning)\n",
      "/Users/Humna/lsst/DarwinX86/sims_coordUtils/12.0-4-g7de6cfa+29/python/lsst/sims/coordUtils/CameraUtils.py:325: MultipleChipWarning: An object has landed on multiple chips.  You asked for this not to happen.\n",
      "We will return only one of the chip names.  If you want both, try re-running with the kwarg allow_multiple_chips=True.\n",
      "Offending chip names were ['R:4,0 S:0,2,A', 'R:4,0 S:0,2,B']\n",
      "Offending pupil coordinate point was 0.019284518233 -0.020521333047\n",
      "\n",
      "  category=MultipleChipWarning)\n"
     ]
    },
    {
     "name": "stdout",
     "output_type": "stream",
     "text": [
      "## 5.009058% pixels done\n",
      "Time passed (min): 35.530742\n",
      "## 10.018116% pixels done\n",
      "Time passed (min): 72.581918\n",
      "## 15.027174% pixels done\n",
      "Time passed (min): 107.907504\n",
      "## 20.036232% pixels done\n",
      "Time passed (min): 141.869757\n"
     ]
    },
    {
     "name": "stderr",
     "output_type": "stream",
     "text": [
      "/Users/Humna/lsst/DarwinX86/sims_coordUtils/12.0-4-g7de6cfa+29/python/lsst/sims/coordUtils/CameraUtils.py:325: MultipleChipWarning: An object has landed on multiple chips.  You asked for this not to happen.\n",
      "We will return only one of the chip names.  If you want both, try re-running with the kwarg allow_multiple_chips=True.\n",
      "Offending chip names were ['R:4,0 S:0,2,A', 'R:4,0 S:0,2,B']\n",
      "Offending pupil coordinate point was 0.021951817431 -0.020519053220\n",
      "\n",
      "  category=MultipleChipWarning)\n",
      "/Users/Humna/lsst/DarwinX86/sims_coordUtils/12.0-4-g7de6cfa+29/python/lsst/sims/coordUtils/CameraUtils.py:325: MultipleChipWarning: An object has landed on multiple chips.  You asked for this not to happen.\n",
      "We will return only one of the chip names.  If you want both, try re-running with the kwarg allow_multiple_chips=True.\n",
      "Offending chip names were ['R:4,0 S:0,2,A', 'R:4,0 S:0,2,B']\n",
      "Offending pupil coordinate point was 0.021271782771 -0.020519288659\n",
      "\n",
      "  category=MultipleChipWarning)\n"
     ]
    },
    {
     "name": "stdout",
     "output_type": "stream",
     "text": [
      "## 25.045290% pixels done\n",
      "Time passed (min): 172.940062\n"
     ]
    },
    {
     "name": "stderr",
     "output_type": "stream",
     "text": [
      "/Users/Humna/lsst/DarwinX86/sims_coordUtils/12.0-4-g7de6cfa+29/python/lsst/sims/coordUtils/CameraUtils.py:325: MultipleChipWarning: An object has landed on multiple chips.  You asked for this not to happen.\n",
      "We will return only one of the chip names.  If you want both, try re-running with the kwarg allow_multiple_chips=True.\n",
      "Offending chip names were ['R:4,0 S:0,2,A', 'R:4,0 S:0,2,B']\n",
      "Offending pupil coordinate point was 0.021583058589 -0.020519225393\n",
      "\n",
      "  category=MultipleChipWarning)\n"
     ]
    },
    {
     "name": "stdout",
     "output_type": "stream",
     "text": [
      "## 30.054348% pixels done\n",
      "Time passed (min): 205.952150\n"
     ]
    },
    {
     "name": "stderr",
     "output_type": "stream",
     "text": [
      "/Users/Humna/lsst/DarwinX86/sims_coordUtils/12.0-4-g7de6cfa+29/python/lsst/sims/coordUtils/CameraUtils.py:325: MultipleChipWarning: An object has landed on multiple chips.  You asked for this not to happen.\n",
      "We will return only one of the chip names.  If you want both, try re-running with the kwarg allow_multiple_chips=True.\n",
      "Offending chip names were ['R:4,0 S:0,2,A', 'R:4,0 S:0,2,B']\n",
      "Offending pupil coordinate point was 0.019102802029 -0.020521086712\n",
      "\n",
      "  category=MultipleChipWarning)\n",
      "/Users/Humna/lsst/DarwinX86/sims_coordUtils/12.0-4-g7de6cfa+29/python/lsst/sims/coordUtils/CameraUtils.py:325: MultipleChipWarning: An object has landed on multiple chips.  You asked for this not to happen.\n",
      "We will return only one of the chip names.  If you want both, try re-running with the kwarg allow_multiple_chips=True.\n",
      "Offending chip names were ['R:0,4 S:2,0,A', 'R:0,4 S:2,0,B']\n",
      "Offending pupil coordinate point was -0.018894622886 0.020513070552\n",
      "\n",
      "  category=MultipleChipWarning)\n"
     ]
    },
    {
     "name": "stdout",
     "output_type": "stream",
     "text": [
      "## 35.063406% pixels done\n",
      "Time passed (min): 237.836227\n"
     ]
    },
    {
     "name": "stderr",
     "output_type": "stream",
     "text": [
      "/Users/Humna/lsst/DarwinX86/sims_coordUtils/12.0-4-g7de6cfa+29/python/lsst/sims/coordUtils/CameraUtils.py:325: MultipleChipWarning: An object has landed on multiple chips.  You asked for this not to happen.\n",
      "We will return only one of the chip names.  If you want both, try re-running with the kwarg allow_multiple_chips=True.\n",
      "Offending chip names were ['R:0,4 S:2,0,A', 'R:0,4 S:2,0,B']\n",
      "Offending pupil coordinate point was -0.021745744985 0.020509739995\n",
      "\n",
      "  category=MultipleChipWarning)\n"
     ]
    },
    {
     "name": "stdout",
     "output_type": "stream",
     "text": [
      "## 40.072464% pixels done\n",
      "Time passed (min): 270.087678\n",
      "## 45.081522% pixels done\n",
      "Time passed (min): 303.000573\n"
     ]
    },
    {
     "name": "stderr",
     "output_type": "stream",
     "text": [
      "/Users/Humna/lsst/DarwinX86/sims_coordUtils/12.0-4-g7de6cfa+29/python/lsst/sims/coordUtils/CameraUtils.py:325: MultipleChipWarning: An object has landed on multiple chips.  You asked for this not to happen.\n",
      "We will return only one of the chip names.  If you want both, try re-running with the kwarg allow_multiple_chips=True.\n",
      "Offending chip names were ['R:0,4 S:2,0,A', 'R:0,4 S:2,0,B']\n",
      "Offending pupil coordinate point was -0.021385260360 0.020510125394\n",
      "\n",
      "  category=MultipleChipWarning)\n"
     ]
    },
    {
     "name": "stdout",
     "output_type": "stream",
     "text": [
      "## 50.090580% pixels done\n",
      "Time passed (min): 337.503657\n",
      "## 55.099638% pixels done\n",
      "Time passed (min): 368.045967\n"
     ]
    },
    {
     "name": "stderr",
     "output_type": "stream",
     "text": [
      "/Users/Humna/lsst/DarwinX86/sims_coordUtils/12.0-4-g7de6cfa+29/python/lsst/sims/coordUtils/CameraUtils.py:325: MultipleChipWarning: An object has landed on multiple chips.  You asked for this not to happen.\n",
      "We will return only one of the chip names.  If you want both, try re-running with the kwarg allow_multiple_chips=True.\n",
      "Offending chip names were ['R:4,0 S:0,2,A', 'R:4,0 S:0,2,B']\n",
      "Offending pupil coordinate point was 0.019390202178 -0.020522029911\n",
      "\n",
      "  category=MultipleChipWarning)\n"
     ]
    },
    {
     "name": "stdout",
     "output_type": "stream",
     "text": [
      "## 60.108696% pixels done\n",
      "Time passed (min): 408.317253\n"
     ]
    },
    {
     "name": "stderr",
     "output_type": "stream",
     "text": [
      "/Users/Humna/lsst/DarwinX86/sims_coordUtils/12.0-4-g7de6cfa+29/python/lsst/sims/coordUtils/CameraUtils.py:325: MultipleChipWarning: An object has landed on multiple chips.  You asked for this not to happen.\n",
      "We will return only one of the chip names.  If you want both, try re-running with the kwarg allow_multiple_chips=True.\n",
      "Offending chip names were ['R:4,0 S:0,2,A', 'R:4,0 S:0,2,B']\n",
      "Offending pupil coordinate point was 0.018622579414 -0.020523984885\n",
      "\n",
      "  category=MultipleChipWarning)\n"
     ]
    },
    {
     "name": "stdout",
     "output_type": "stream",
     "text": [
      "## 65.117754% pixels done\n",
      "Time passed (min): 432.906026\n"
     ]
    },
    {
     "name": "stderr",
     "output_type": "stream",
     "text": [
      "/Users/Humna/lsst/DarwinX86/sims_coordUtils/12.0-4-g7de6cfa+29/python/lsst/sims/coordUtils/CameraUtils.py:325: MultipleChipWarning: An object has landed on multiple chips.  You asked for this not to happen.\n",
      "We will return only one of the chip names.  If you want both, try re-running with the kwarg allow_multiple_chips=True.\n",
      "Offending chip names were ['R:4,0 S:0,2,A', 'R:4,0 S:0,2,B']\n",
      "Offending pupil coordinate point was 0.019609626717 -0.020520096615\n",
      "\n",
      "  category=MultipleChipWarning)\n",
      "/Users/Humna/lsst/DarwinX86/sims_coordUtils/12.0-4-g7de6cfa+29/python/lsst/sims/coordUtils/CameraUtils.py:325: MultipleChipWarning: An object has landed on multiple chips.  You asked for this not to happen.\n",
      "We will return only one of the chip names.  If you want both, try re-running with the kwarg allow_multiple_chips=True.\n",
      "Offending chip names were ['R:4,0 S:0,2,A', 'R:4,0 S:0,2,B']\n",
      "Offending pupil coordinate point was 0.020525779096 -0.020520720357\n",
      "\n",
      "  category=MultipleChipWarning)\n"
     ]
    },
    {
     "name": "stdout",
     "output_type": "stream",
     "text": [
      "## 70.126812% pixels done\n",
      "Time passed (min): 455.560059\n"
     ]
    },
    {
     "name": "stderr",
     "output_type": "stream",
     "text": [
      "/Users/Humna/lsst/DarwinX86/sims_coordUtils/12.0-4-g7de6cfa+29/python/lsst/sims/coordUtils/CameraUtils.py:325: MultipleChipWarning: An object has landed on multiple chips.  You asked for this not to happen.\n",
      "We will return only one of the chip names.  If you want both, try re-running with the kwarg allow_multiple_chips=True.\n",
      "Offending chip names were ['R:4,0 S:0,2,A', 'R:4,0 S:0,2,B']\n",
      "Offending pupil coordinate point was 0.022205355037 -0.020518608832\n",
      "\n",
      "  category=MultipleChipWarning)\n",
      "/Users/Humna/lsst/DarwinX86/sims_coordUtils/12.0-4-g7de6cfa+29/python/lsst/sims/coordUtils/CameraUtils.py:325: MultipleChipWarning: An object has landed on multiple chips.  You asked for this not to happen.\n",
      "We will return only one of the chip names.  If you want both, try re-running with the kwarg allow_multiple_chips=True.\n",
      "Offending chip names were ['R:4,0 S:0,2,A', 'R:4,0 S:0,2,B']\n",
      "Offending pupil coordinate point was 0.018821912454 -0.020522638603\n",
      "\n",
      "  category=MultipleChipWarning)\n"
     ]
    },
    {
     "name": "stdout",
     "output_type": "stream",
     "text": [
      "## 75.135870% pixels done\n",
      "Time passed (min): 479.305399\n",
      "## 80.144928% pixels done\n",
      "Time passed (min): 506.504801\n"
     ]
    },
    {
     "name": "stderr",
     "output_type": "stream",
     "text": [
      "/Users/Humna/lsst/DarwinX86/sims_coordUtils/12.0-4-g7de6cfa+29/python/lsst/sims/coordUtils/CameraUtils.py:325: MultipleChipWarning: An object has landed on multiple chips.  You asked for this not to happen.\n",
      "We will return only one of the chip names.  If you want both, try re-running with the kwarg allow_multiple_chips=True.\n",
      "Offending chip names were ['R:4,0 S:0,2,A', 'R:4,0 S:0,2,B']\n",
      "Offending pupil coordinate point was 0.019918850289 -0.020520688141\n",
      "\n",
      "  category=MultipleChipWarning)\n"
     ]
    },
    {
     "name": "stdout",
     "output_type": "stream",
     "text": [
      "## 85.153986% pixels done\n",
      "Time passed (min): 534.513412\n"
     ]
    },
    {
     "name": "stderr",
     "output_type": "stream",
     "text": [
      "/Users/Humna/lsst/DarwinX86/sims_coordUtils/12.0-4-g7de6cfa+29/python/lsst/sims/coordUtils/CameraUtils.py:325: MultipleChipWarning: An object has landed on multiple chips.  You asked for this not to happen.\n",
      "We will return only one of the chip names.  If you want both, try re-running with the kwarg allow_multiple_chips=True.\n",
      "Offending chip names were ['R:0,4 S:2,0,A', 'R:0,4 S:2,0,B']\n",
      "Offending pupil coordinate point was -0.021962856842 0.020509921462\n",
      "\n",
      "  category=MultipleChipWarning)\n"
     ]
    },
    {
     "name": "stdout",
     "output_type": "stream",
     "text": [
      "## 90.163043% pixels done\n",
      "Time passed (min): 566.574212\n"
     ]
    },
    {
     "name": "stderr",
     "output_type": "stream",
     "text": [
      "/Users/Humna/lsst/DarwinX86/sims_coordUtils/12.0-4-g7de6cfa+29/python/lsst/sims/coordUtils/CameraUtils.py:325: MultipleChipWarning: An object has landed on multiple chips.  You asked for this not to happen.\n",
      "We will return only one of the chip names.  If you want both, try re-running with the kwarg allow_multiple_chips=True.\n",
      "Offending chip names were ['R:4,0 S:0,2,A', 'R:4,0 S:0,2,B']\n",
      "Offending pupil coordinate point was 0.019821373188 -0.020521646433\n",
      "\n",
      "  category=MultipleChipWarning)\n",
      "/Users/Humna/lsst/DarwinX86/sims_coordUtils/12.0-4-g7de6cfa+29/python/lsst/sims/coordUtils/CameraUtils.py:325: MultipleChipWarning: An object has landed on multiple chips.  You asked for this not to happen.\n",
      "We will return only one of the chip names.  If you want both, try re-running with the kwarg allow_multiple_chips=True.\n",
      "Offending chip names were ['R:4,0 S:0,2,A', 'R:4,0 S:0,2,B']\n",
      "Offending pupil coordinate point was 0.019395514566 -0.020521907540\n",
      "\n",
      "  category=MultipleChipWarning)\n"
     ]
    },
    {
     "name": "stdout",
     "output_type": "stream",
     "text": [
      "## 95.172101% pixels done\n",
      "Time passed (min): 596.188502\n",
      "\n",
      "## Unique obsHistIDs: 2245 \n",
      "## Unique expDates: 2245 \n",
      "## Unique chipNames: 197 \n",
      "\n",
      "\n",
      "############################################\n",
      "## Consolidating the data ... \n",
      "\n",
      "############################################\n",
      "## Max number of chips added by any given visit: 191 \n",
      "## Min number: 1 \n",
      "## Total number of chips (across all visits to be simulated): 192103\n",
      "\n",
      "############################################\n",
      "## Saving the data ... \n",
      "\n",
      "############################################\n",
      "## Saved the data as 2017-04-06_chipPerVisitData_newAfterburnerOutput_fID1447_RandomDitherFieldPerVisit_randomRotDithered_nonDiscRegion_nside1024_192103NonWFChipsToSimulate.pickle\n"
     ]
    }
   ],
   "source": [
    "# output will not contain WF sensors. new filename now.\n",
    "output= findDC1Chips(dbpath, newAfterburner= True, addRotDither= True,\n",
    "                     fiducialDither= 'RandomDitherFieldPerVisit',  fiducialID= 1447,\n",
    "                     disc= False, saveData= True, nside= 1024,\n",
    "                     outputPath= repoDir + '/chipsPerVisitData')\n",
    "obsIDsList, expDatesList, fIDsList, chipNamesList, pixNumsList= output"
   ]
  },
  {
   "cell_type": "code",
   "execution_count": 5,
   "metadata": {
    "collapsed": false
   },
   "outputs": [
    {
     "data": {
      "text/html": [
       "<div>\n",
       "<table border=\"1\" class=\"dataframe\">\n",
       "  <thead>\n",
       "    <tr style=\"text-align: right;\">\n",
       "      <th></th>\n",
       "      <th>0</th>\n",
       "      <th>1</th>\n",
       "      <th>2</th>\n",
       "      <th>3</th>\n",
       "      <th>4</th>\n",
       "      <th>5</th>\n",
       "      <th>6</th>\n",
       "      <th>7</th>\n",
       "      <th>8</th>\n",
       "      <th>9</th>\n",
       "      <th>...</th>\n",
       "      <th>2235</th>\n",
       "      <th>2236</th>\n",
       "      <th>2237</th>\n",
       "      <th>2238</th>\n",
       "      <th>2239</th>\n",
       "      <th>2240</th>\n",
       "      <th>2241</th>\n",
       "      <th>2242</th>\n",
       "      <th>2243</th>\n",
       "      <th>2244</th>\n",
       "    </tr>\n",
       "  </thead>\n",
       "  <tbody>\n",
       "    <tr>\n",
       "      <th>obsHistID</th>\n",
       "      <td>40336</td>\n",
       "      <td>40337</td>\n",
       "      <td>40338</td>\n",
       "      <td>40345</td>\n",
       "      <td>40366</td>\n",
       "      <td>40367</td>\n",
       "      <td>40368</td>\n",
       "      <td>193115</td>\n",
       "      <td>193117</td>\n",
       "      <td>193156</td>\n",
       "      <td>...</td>\n",
       "      <td>2440030</td>\n",
       "      <td>2440033</td>\n",
       "      <td>2440067</td>\n",
       "      <td>2440068</td>\n",
       "      <td>2440082</td>\n",
       "      <td>2440083</td>\n",
       "      <td>2440084</td>\n",
       "      <td>2441931</td>\n",
       "      <td>2441963</td>\n",
       "      <td>2441975</td>\n",
       "    </tr>\n",
       "    <tr>\n",
       "      <th>expDate</th>\n",
       "      <td>[4673449]</td>\n",
       "      <td>[4673487]</td>\n",
       "      <td>[4673526]</td>\n",
       "      <td>[4673806]</td>\n",
       "      <td>[4674632]</td>\n",
       "      <td>[4674670]</td>\n",
       "      <td>[4674709]</td>\n",
       "      <td>[22405149]</td>\n",
       "      <td>[22405227]</td>\n",
       "      <td>[22406794]</td>\n",
       "      <td>...</td>\n",
       "      <td>[314252832]</td>\n",
       "      <td>[314252970]</td>\n",
       "      <td>[314254567]</td>\n",
       "      <td>[314254614]</td>\n",
       "      <td>[314255232]</td>\n",
       "      <td>[314255281]</td>\n",
       "      <td>[314255433]</td>\n",
       "      <td>[314507151]</td>\n",
       "      <td>[314508445]</td>\n",
       "      <td>[314508970]</td>\n",
       "    </tr>\n",
       "    <tr>\n",
       "      <th>fIDs</th>\n",
       "      <td>[1305]</td>\n",
       "      <td>[1323]</td>\n",
       "      <td>[1333]</td>\n",
       "      <td>[1212]</td>\n",
       "      <td>[1305]</td>\n",
       "      <td>[1323]</td>\n",
       "      <td>[1333]</td>\n",
       "      <td>[1305]</td>\n",
       "      <td>[1413]</td>\n",
       "      <td>[1305]</td>\n",
       "      <td>...</td>\n",
       "      <td>[1564]</td>\n",
       "      <td>[1234]</td>\n",
       "      <td>[1564]</td>\n",
       "      <td>[1568]</td>\n",
       "      <td>[1234]</td>\n",
       "      <td>[1220]</td>\n",
       "      <td>[1413]</td>\n",
       "      <td>[1305]</td>\n",
       "      <td>[1542]</td>\n",
       "      <td>[1305]</td>\n",
       "    </tr>\n",
       "    <tr>\n",
       "      <th>Chips</th>\n",
       "      <td>[R:0,1 S:0,2, R:0,2 S:0,0, R:0,2 S:0,1, R:0,2 ...</td>\n",
       "      <td>[R:0,0 S:1,2, R:0,0 S:2,1, R:0,1 S:0,0, R:0,1 ...</td>\n",
       "      <td>[R:1,2 S:2,1, R:1,2 S:2,2, R:1,3 S:2,0, R:2,0 ...</td>\n",
       "      <td>[R:0,3 S:0,1, R:0,3 S:1,1, R:0,3 S:1,2, R:0,3 ...</td>\n",
       "      <td>[R:0,0 S:1,2, R:0,0 S:2,1, R:0,1 S:0,1, R:0,1 ...</td>\n",
       "      <td>[R:0,0 S:1,2, R:0,1 S:0,1, R:0,1 S:0,2, R:0,1 ...</td>\n",
       "      <td>[R:1,2 S:2,0, R:1,2 S:2,1, R:1,2 S:2,2, R:1,3 ...</td>\n",
       "      <td>[R:0,0 S:1,2, R:0,0 S:2,1, R:0,1 S:0,1, R:0,1 ...</td>\n",
       "      <td>[R:0,0 S:1,2, R:0,0 S:2,1, R:0,1 S:0,1, R:0,1 ...</td>\n",
       "      <td>[R:0,0 S:1,2, R:0,0 S:2,1, R:0,1 S:0,1, R:0,1 ...</td>\n",
       "      <td>...</td>\n",
       "      <td>[R:1,0 S:2,0, R:2,0 S:0,0, R:2,0 S:0,1, R:2,0 ...</td>\n",
       "      <td>[R:3,3 S:1,1, R:3,3 S:1,2, R:3,3 S:2,0, R:3,3 ...</td>\n",
       "      <td>[R:0,0 S:1,2, R:0,0 S:2,1, R:0,1 S:1,0, R:0,1 ...</td>\n",
       "      <td>[R:3,0 S:1,0, R:3,0 S:1,1, R:3,0 S:1,2, R:3,0 ...</td>\n",
       "      <td>[R:2,0 S:2,2, R:2,1 S:1,1, R:2,1 S:1,2, R:2,1 ...</td>\n",
       "      <td>[R:3,2 S:2,2, R:3,3 S:1,0, R:3,3 S:1,1, R:3,3 ...</td>\n",
       "      <td>[R:3,0 S:0,0, R:3,0 S:0,1, R:3,0 S:0,2, R:3,0 ...</td>\n",
       "      <td>[R:0,1 S:0,1, R:0,1 S:0,2, R:0,1 S:1,0, R:0,1 ...</td>\n",
       "      <td>[R:3,0 S:0,1, R:3,0 S:0,2, R:3,0 S:1,0, R:3,0 ...</td>\n",
       "      <td>[R:0,0 S:1,2, R:0,0 S:2,1, R:0,1 S:0,1, R:0,1 ...</td>\n",
       "    </tr>\n",
       "    <tr>\n",
       "      <th>pixelNums</th>\n",
       "      <td>[9280504, 9280505, 9284601, 9284602, 9284603, ...</td>\n",
       "      <td>[9206818, 9206819, 9206821, 9206822, 9206824, ...</td>\n",
       "      <td>[9231441, 9235536, 9235537, 9235538, 9235539, ...</td>\n",
       "      <td>[9530385, 9534481, 9534482, 9538577, 9538578, ...</td>\n",
       "      <td>[9190394, 9190395, 9190396, 9190397, 9190398, ...</td>\n",
       "      <td>[9178153, 9178154, 9178155, 9178156, 9178157, ...</td>\n",
       "      <td>[9260115, 9260116, 9260117, 9260118, 9260119, ...</td>\n",
       "      <td>[9255943, 9255944, 9255945, 9255946, 9255947, ...</td>\n",
       "      <td>[9047039, 9051133, 9051134, 9051135, 9051136, ...</td>\n",
       "      <td>[9239550, 9239551, 9239552, 9239553, 9239554, ...</td>\n",
       "      <td>...</td>\n",
       "      <td>[9014282, 9014283, 9014284, 9014285, 9018375, ...</td>\n",
       "      <td>[9440344, 9440345, 9440347, 9440348, 9444438, ...</td>\n",
       "      <td>[8993825, 8997921, 8997922, 9002016, 9002017, ...</td>\n",
       "      <td>[8965166, 8965167, 8965168, 8965169, 8969261, ...</td>\n",
       "      <td>[9313364, 9313370, 9313371, 9317458, 9317459, ...</td>\n",
       "      <td>[9477188, 9477189, 9477190, 9477191, 9477192, ...</td>\n",
       "      <td>[9051133, 9051134, 9055229, 9055230, 9055231, ...</td>\n",
       "      <td>[9329662, 9333759, 9333760, 9337855, 9337856, ...</td>\n",
       "      <td>[9014282, 9014283, 9014284, 9014285, 9018375, ...</td>\n",
       "      <td>[9399309, 9403404, 9403405, 9403406, 9407501, ...</td>\n",
       "    </tr>\n",
       "  </tbody>\n",
       "</table>\n",
       "<p>5 rows × 2245 columns</p>\n",
       "</div>"
      ],
      "text/plain": [
       "                                                        0     \\\n",
       "obsHistID                                              40336   \n",
       "expDate                                            [4673449]   \n",
       "fIDs                                                  [1305]   \n",
       "Chips      [R:0,1 S:0,2, R:0,2 S:0,0, R:0,2 S:0,1, R:0,2 ...   \n",
       "pixelNums  [9280504, 9280505, 9284601, 9284602, 9284603, ...   \n",
       "\n",
       "                                                        1     \\\n",
       "obsHistID                                              40337   \n",
       "expDate                                            [4673487]   \n",
       "fIDs                                                  [1323]   \n",
       "Chips      [R:0,0 S:1,2, R:0,0 S:2,1, R:0,1 S:0,0, R:0,1 ...   \n",
       "pixelNums  [9206818, 9206819, 9206821, 9206822, 9206824, ...   \n",
       "\n",
       "                                                        2     \\\n",
       "obsHistID                                              40338   \n",
       "expDate                                            [4673526]   \n",
       "fIDs                                                  [1333]   \n",
       "Chips      [R:1,2 S:2,1, R:1,2 S:2,2, R:1,3 S:2,0, R:2,0 ...   \n",
       "pixelNums  [9231441, 9235536, 9235537, 9235538, 9235539, ...   \n",
       "\n",
       "                                                        3     \\\n",
       "obsHistID                                              40345   \n",
       "expDate                                            [4673806]   \n",
       "fIDs                                                  [1212]   \n",
       "Chips      [R:0,3 S:0,1, R:0,3 S:1,1, R:0,3 S:1,2, R:0,3 ...   \n",
       "pixelNums  [9530385, 9534481, 9534482, 9538577, 9538578, ...   \n",
       "\n",
       "                                                        4     \\\n",
       "obsHistID                                              40366   \n",
       "expDate                                            [4674632]   \n",
       "fIDs                                                  [1305]   \n",
       "Chips      [R:0,0 S:1,2, R:0,0 S:2,1, R:0,1 S:0,1, R:0,1 ...   \n",
       "pixelNums  [9190394, 9190395, 9190396, 9190397, 9190398, ...   \n",
       "\n",
       "                                                        5     \\\n",
       "obsHistID                                              40367   \n",
       "expDate                                            [4674670]   \n",
       "fIDs                                                  [1323]   \n",
       "Chips      [R:0,0 S:1,2, R:0,1 S:0,1, R:0,1 S:0,2, R:0,1 ...   \n",
       "pixelNums  [9178153, 9178154, 9178155, 9178156, 9178157, ...   \n",
       "\n",
       "                                                        6     \\\n",
       "obsHistID                                              40368   \n",
       "expDate                                            [4674709]   \n",
       "fIDs                                                  [1333]   \n",
       "Chips      [R:1,2 S:2,0, R:1,2 S:2,1, R:1,2 S:2,2, R:1,3 ...   \n",
       "pixelNums  [9260115, 9260116, 9260117, 9260118, 9260119, ...   \n",
       "\n",
       "                                                        7     \\\n",
       "obsHistID                                             193115   \n",
       "expDate                                           [22405149]   \n",
       "fIDs                                                  [1305]   \n",
       "Chips      [R:0,0 S:1,2, R:0,0 S:2,1, R:0,1 S:0,1, R:0,1 ...   \n",
       "pixelNums  [9255943, 9255944, 9255945, 9255946, 9255947, ...   \n",
       "\n",
       "                                                        8     \\\n",
       "obsHistID                                             193117   \n",
       "expDate                                           [22405227]   \n",
       "fIDs                                                  [1413]   \n",
       "Chips      [R:0,0 S:1,2, R:0,0 S:2,1, R:0,1 S:0,1, R:0,1 ...   \n",
       "pixelNums  [9047039, 9051133, 9051134, 9051135, 9051136, ...   \n",
       "\n",
       "                                                        9     \\\n",
       "obsHistID                                             193156   \n",
       "expDate                                           [22406794]   \n",
       "fIDs                                                  [1305]   \n",
       "Chips      [R:0,0 S:1,2, R:0,0 S:2,1, R:0,1 S:0,1, R:0,1 ...   \n",
       "pixelNums  [9239550, 9239551, 9239552, 9239553, 9239554, ...   \n",
       "\n",
       "                                 ...                          \\\n",
       "obsHistID                        ...                           \n",
       "expDate                          ...                           \n",
       "fIDs                             ...                           \n",
       "Chips                            ...                           \n",
       "pixelNums                        ...                           \n",
       "\n",
       "                                                        2235  \\\n",
       "obsHistID                                            2440030   \n",
       "expDate                                          [314252832]   \n",
       "fIDs                                                  [1564]   \n",
       "Chips      [R:1,0 S:2,0, R:2,0 S:0,0, R:2,0 S:0,1, R:2,0 ...   \n",
       "pixelNums  [9014282, 9014283, 9014284, 9014285, 9018375, ...   \n",
       "\n",
       "                                                        2236  \\\n",
       "obsHistID                                            2440033   \n",
       "expDate                                          [314252970]   \n",
       "fIDs                                                  [1234]   \n",
       "Chips      [R:3,3 S:1,1, R:3,3 S:1,2, R:3,3 S:2,0, R:3,3 ...   \n",
       "pixelNums  [9440344, 9440345, 9440347, 9440348, 9444438, ...   \n",
       "\n",
       "                                                        2237  \\\n",
       "obsHistID                                            2440067   \n",
       "expDate                                          [314254567]   \n",
       "fIDs                                                  [1564]   \n",
       "Chips      [R:0,0 S:1,2, R:0,0 S:2,1, R:0,1 S:1,0, R:0,1 ...   \n",
       "pixelNums  [8993825, 8997921, 8997922, 9002016, 9002017, ...   \n",
       "\n",
       "                                                        2238  \\\n",
       "obsHistID                                            2440068   \n",
       "expDate                                          [314254614]   \n",
       "fIDs                                                  [1568]   \n",
       "Chips      [R:3,0 S:1,0, R:3,0 S:1,1, R:3,0 S:1,2, R:3,0 ...   \n",
       "pixelNums  [8965166, 8965167, 8965168, 8965169, 8969261, ...   \n",
       "\n",
       "                                                        2239  \\\n",
       "obsHistID                                            2440082   \n",
       "expDate                                          [314255232]   \n",
       "fIDs                                                  [1234]   \n",
       "Chips      [R:2,0 S:2,2, R:2,1 S:1,1, R:2,1 S:1,2, R:2,1 ...   \n",
       "pixelNums  [9313364, 9313370, 9313371, 9317458, 9317459, ...   \n",
       "\n",
       "                                                        2240  \\\n",
       "obsHistID                                            2440083   \n",
       "expDate                                          [314255281]   \n",
       "fIDs                                                  [1220]   \n",
       "Chips      [R:3,2 S:2,2, R:3,3 S:1,0, R:3,3 S:1,1, R:3,3 ...   \n",
       "pixelNums  [9477188, 9477189, 9477190, 9477191, 9477192, ...   \n",
       "\n",
       "                                                        2241  \\\n",
       "obsHistID                                            2440084   \n",
       "expDate                                          [314255433]   \n",
       "fIDs                                                  [1413]   \n",
       "Chips      [R:3,0 S:0,0, R:3,0 S:0,1, R:3,0 S:0,2, R:3,0 ...   \n",
       "pixelNums  [9051133, 9051134, 9055229, 9055230, 9055231, ...   \n",
       "\n",
       "                                                        2242  \\\n",
       "obsHistID                                            2441931   \n",
       "expDate                                          [314507151]   \n",
       "fIDs                                                  [1305]   \n",
       "Chips      [R:0,1 S:0,1, R:0,1 S:0,2, R:0,1 S:1,0, R:0,1 ...   \n",
       "pixelNums  [9329662, 9333759, 9333760, 9337855, 9337856, ...   \n",
       "\n",
       "                                                        2243  \\\n",
       "obsHistID                                            2441963   \n",
       "expDate                                          [314508445]   \n",
       "fIDs                                                  [1542]   \n",
       "Chips      [R:3,0 S:0,1, R:3,0 S:0,2, R:3,0 S:1,0, R:3,0 ...   \n",
       "pixelNums  [9014282, 9014283, 9014284, 9014285, 9018375, ...   \n",
       "\n",
       "                                                        2244  \n",
       "obsHistID                                            2441975  \n",
       "expDate                                          [314508970]  \n",
       "fIDs                                                  [1305]  \n",
       "Chips      [R:0,0 S:1,2, R:0,0 S:2,1, R:0,1 S:0,1, R:0,1 ...  \n",
       "pixelNums  [9399309, 9403404, 9403405, 9403406, 9407501, ...  \n",
       "\n",
       "[5 rows x 2245 columns]"
      ]
     },
     "execution_count": 5,
     "metadata": {},
     "output_type": "execute_result"
    }
   ],
   "source": [
    "pd.DataFrame([obsIDsList, expDatesList, fIDsList, chipNamesList, pixNumsList], \n",
    "             ['obsHistID', 'expDate', 'fIDs', 'Chips', 'pixelNums'])"
   ]
  },
  {
   "cell_type": "markdown",
   "metadata": {},
   "source": [
    "#### Run the thing with NoDither for the same fID with the new afterburner output. Nside= 512."
   ]
  },
  {
   "cell_type": "code",
   "execution_count": null,
   "metadata": {
    "collapsed": false
   },
   "outputs": [],
   "source": [
    "# output will not contain WF sensors. new filename now.\n",
    "output= findDC1Chips(dbpath, newAfterburner= True, addRotDither= False,\n",
    "                     fiducialDither= 'NoDither',  fiducialID= 1447,\n",
    "                     disc= False, saveData= True, nside= 512,\n",
    "                     outputPath= repoDir + '/chipsPerVisitData')\n",
    "obsIDsList, expDatesList, fIDsList, chipNamesList, pixNumsList= output\n"
   ]
  },
  {
   "cell_type": "code",
   "execution_count": null,
   "metadata": {
    "collapsed": false
   },
   "outputs": [],
   "source": [
    "pd.DataFrame([obsIDsList, expDatesList, fIDsList, chipNamesList, pixNumsList], \n",
    "             ['obsHistID', 'expDate', 'fIDs', 'Chips', 'pixelNums'])"
   ]
  },
  {
   "cell_type": "code",
   "execution_count": null,
   "metadata": {
    "collapsed": true
   },
   "outputs": [],
   "source": []
  },
  {
   "cell_type": "code",
   "execution_count": null,
   "metadata": {
    "collapsed": true
   },
   "outputs": [],
   "source": []
  }
 ],
 "metadata": {
  "kernelspec": {
   "display_name": "Python 2",
   "language": "python",
   "name": "python2"
  },
  "language_info": {
   "codemirror_mode": {
    "name": "ipython",
    "version": 2
   },
   "file_extension": ".py",
   "mimetype": "text/x-python",
   "name": "python",
   "nbconvert_exporter": "python",
   "pygments_lexer": "ipython2",
   "version": "2.7.12"
  }
 },
 "nbformat": 4,
 "nbformat_minor": 0
}
