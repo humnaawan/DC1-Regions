{
 "cells": [
  {
   "cell_type": "markdown",
   "metadata": {},
   "source": [
    "Need to find an area covered by roughly 4 undithered FOVs for a full PhoSim simulation.\n",
    "\n",
    "Want the area to have pixels with mean/typical depth= median survey depth. and not so scattered abs(max-min)depth."
   ]
  },
  {
   "cell_type": "code",
   "execution_count": 1,
   "metadata": {
    "collapsed": false
   },
   "outputs": [],
   "source": [
    "import matplotlib.pyplot as plt\n",
    "%matplotlib inline\n",
    "import numpy as np\n",
    "import os\n",
    "import time\n",
    "import pandas as pd\n",
    "import lsst.sims.maf.metricBundles as metricBundles\n",
    "os.chdir(os.path.join(os.getcwd() , '..' ))\n",
    "from findDC1Regions import findDC1Regions"
   ]
  },
  {
   "cell_type": "code",
   "execution_count": 2,
   "metadata": {
    "collapsed": false,
    "scrolled": false
   },
   "outputs": [
    {
     "name": "stdout",
     "output_type": "stream",
     "text": [
      "Help on function findDC1Regions in module findDC1Regions:\n",
      "\n",
      "findDC1Regions(coaddBundle, dbpath, plotTestPlots=True, filterBand='i', threshold=0.0001, nside=256, returnAll=False)\n",
      "    Find candidate regions for DC1 (based on how wildly the average depth in the region \n",
      "    differs from the survey median depth).\n",
      "    \n",
      "    Returns a bunch of stuff ...\n",
      "    \n",
      "    Required Parameters\n",
      "    -------------------\n",
      "      * coaddBundle: dict: dictionary with keys= observing strategy names, pointing to corresponding\n",
      "                           to a metricBundle object.\n",
      "           NOTE: coaddBundle should have always have NoDither. If want to find regions based on a dithered\n",
      "                 survey, the bundle should have the dithered data ALONG WITH the undithered one.\n",
      "      * dbpath: str: path to the OpSim database.\n",
      "    \n",
      "    Optional Parameters\n",
      "    -------------------\n",
      "      * plotTestPlots: bool: set to False if dont want to plot things for debugging/testing code.\n",
      "                             Default: True\n",
      "      * filterBand: str: filter to consider. Default: 'i'\n",
      "      * threshold: float: region will be considered good if average depth in the region is within the\n",
      "                          threshold of survey median depth. Default: 0.0001\n",
      "      * nside: int: HEALPix resolution parameter. Defaut: 256\n",
      "      * returnAll: bool: set to True to get (things needed to find chips.. ):\n",
      "                         [focusDither, output_rect, output_disc, simdata, pixels_in_FOV,\n",
      "                                                   simdataIndex_for_pixel, pixelNum, pixRA, pixDec]\n",
      "                         Default: False returns:\n",
      "                         [focusDither, output_rect, output_disc]\n",
      "\n"
     ]
    }
   ],
   "source": [
    "help(findDC1Regions)"
   ]
  },
  {
   "cell_type": "code",
   "execution_count": 3,
   "metadata": {
    "collapsed": false
   },
   "outputs": [],
   "source": [
    "workDir= os.getcwd()"
   ]
  },
  {
   "cell_type": "markdown",
   "metadata": {},
   "source": [
    "### Based on NoDither coadded depth."
   ]
  },
  {
   "cell_type": "raw",
   "metadata": {
    "collapsed": false
   },
   "source": [
    "path= '/Volumes/Transcend/'\n",
    "path2= '2017-01-11/coaddM5Analysis_nside256_withDustExtinction_14pixelRadiusForMasking_rBand_minion1016_fullSurveyPeriod_directory/'\n",
    "path3= 'maskedCoaddData/'\n",
    "os.chdir(path+path2+path3)\n",
    "\n",
    "# get the saved files\n",
    "filenames = ['coaddM5Data_masked_r_NoDither.npz']\n",
    "\n",
    "coaddBundle= {}\n",
    "for i in range(len(filenames)):\n",
    "    mB = metricBundles.createEmptyMetricBundle()\n",
    "    mB.read(filenames[i])\n",
    "    dithStrategy= mB.metadata.strip()   # key is assigned to be the same as dithStrategy\n",
    "    print 'Filename for ' + dithStrategy + ': ', filenames[i]\n",
    "    print ''\n",
    "    \n",
    "    coaddBundle[dithStrategy]= mB"
   ]
  },
  {
   "cell_type": "raw",
   "metadata": {
    "collapsed": false
   },
   "source": [
    "startTime= time.time()\n",
    "dbpath = path+'minion_1016_sqlite.db'\n",
    "output= findDC1Regions(coaddBundle, dbpath, plotTestPlots= False,\n",
    "                       filterBand= 'r', returnAll= True)\n",
    "\n",
    "focusDither, output_rect, output_disc, simdata, pixels_in_FOV, pixelNum, pixRA, pixDec= output\n",
    "\n",
    "print 'Time taken (s):', time.time()-startTime"
   ]
  },
  {
   "cell_type": "raw",
   "metadata": {
    "collapsed": false
   },
   "source": [
    "pd.DataFrame([output_rect['goodFiducialIDs'],output_rect['diffMeanMedian'],\n",
    "             output_rect['scatterInDepth'], output_rect['fiducialRA'],\n",
    "             output_rect['fiducialDec']], \n",
    "             ['goodFiducialIDs', 'DiffMeanMedian', 'DepthScatter', 'fiducialRA' , 'fiducialDec'])"
   ]
  },
  {
   "cell_type": "raw",
   "metadata": {
    "collapsed": false
   },
   "source": [
    "pd.DataFrame([output_disc['goodFiducialIDs'],output_disc['diffMeanMedian'],\n",
    "             output_disc['scatterInDepth'], output_disc['fiducialRA'],\n",
    "             output_disc['fiducialDec'], output_disc['contigIDs']], \n",
    "             ['goodFiducialIDs', 'DiffMeanMedian', 'DepthScatter', 'fiducialRA' , 'fiducialDec',\n",
    "             'contigIDs'])"
   ]
  },
  {
   "cell_type": "markdown",
   "metadata": {},
   "source": [
    "^^^ No region is good with threshold 0.0001 for NoDither .. "
   ]
  },
  {
   "cell_type": "markdown",
   "metadata": {},
   "source": [
    "### Based on SequentialHexDitherPerNight coadded depth."
   ]
  },
  {
   "cell_type": "code",
   "execution_count": 4,
   "metadata": {
    "collapsed": false
   },
   "outputs": [
    {
     "name": "stdout",
     "output_type": "stream",
     "text": [
      "Healpix slicer using NSIDE=256, approximate resolution 13.741946 arcminutes\n",
      "Filename for NoDither:  coaddM5Data_masked_r_NoDither.npz\n",
      "\n",
      "Healpix slicer using NSIDE=256, approximate resolution 13.741946 arcminutes\n",
      "Filename for SequentialHexDitherPerNight:  coaddM5Data_masked_r_SequentialHexDitherPerNight.npz\n",
      "\n"
     ]
    }
   ],
   "source": [
    "path= '/Volumes/Transcend/'\n",
    "path2= '2017-01-11/coaddM5Analysis_nside256_withDustExtinction_14pixelRadiusForMasking_rBand_minion1016_fullSurveyPeriod_directory/'\n",
    "path3= 'maskedCoaddData/'\n",
    "os.chdir(path+path2+path3)\n",
    "\n",
    "# get the saved files\n",
    "filenames = ['coaddM5Data_masked_r_NoDither.npz', \n",
    "             'coaddM5Data_masked_r_SequentialHexDitherPerNight.npz']\n",
    "\n",
    "coaddBundle= {}\n",
    "for i in range(len(filenames)):\n",
    "    mB = metricBundles.createEmptyMetricBundle()\n",
    "    mB.read(filenames[i])\n",
    "    dithStrategy= mB.metadata.strip()   # key is assigned to be the same as dithStrategy\n",
    "    print 'Filename for ' + dithStrategy + ': ', filenames[i]\n",
    "    print ''\n",
    "\n",
    "    coaddBundle[dithStrategy]= mB"
   ]
  },
  {
   "cell_type": "code",
   "execution_count": 5,
   "metadata": {
    "collapsed": false,
    "scrolled": false
   },
   "outputs": [
    {
     "name": "stdout",
     "output_type": "stream",
     "text": [
      "\n",
      "############################################\n",
      "## Getting RA, Dec for HEALPix pixels ...\n",
      "\n",
      "############################################\n",
      "## Getting simdata ...\n",
      "\n",
      "############################################\n",
      "## Getting pixels_in_FOV ...\n",
      "Healpix slicer using NSIDE=256, approximate resolution 13.741946 arcminutes\n",
      "Healpix slicer using NSIDE=256, approximate resolution 13.741946 arcminutes\n",
      "Number of fieldIDs in pixel_in_FOV for SequentialHexDitherPerNight: 2249\n",
      "\n",
      "############################################\n",
      "## Finding good regions ...\n",
      "\n",
      "############################################\n",
      "## Finding good regions with threshold= 0.000100 using SequentialHexDitherPerNight\n",
      "\n",
      "## Mean survey depth for SequentialHexDitherPerNight: 27.008246\n",
      "\n",
      "## Mean survey depth for SequentialHexDitherPerNight: 27.008246\n",
      "Healpix slicer using NSIDE=256, approximate resolution 13.741946 arcminutes\n",
      "\n",
      "############################################\n",
      "## Plotting good regions with threshold= 0.000100 using SequentialHexDitherPerNight\n",
      "\n",
      "## Rectangular regions (using plotRegion):\n"
     ]
    },
    {
     "data": {
      "text/plain": [
       "<matplotlib.figure.Figure at 0x12bf91ed0>"
      ]
     },
     "metadata": {},
     "output_type": "display_data"
    },
    {
     "data": {
      "image/png": "[encoded data removed]",
      "text/plain": [
       "<matplotlib.figure.Figure at 0x12bf90310>"
      ]
     },
     "metadata": {},
     "output_type": "display_data"
    },
    {
     "data": {
      "text/plain": [
       "<matplotlib.figure.Figure at 0x11a679d90>"
      ]
     },
     "metadata": {},
     "output_type": "display_data"
    },
    {
     "data": {
      "image/png": "[encoded data removed]",
      "text/plain": [
       "<matplotlib.figure.Figure at 0x11a679810>"
      ]
     },
     "metadata": {},
     "output_type": "display_data"
    },
    {
     "name": "stdout",
     "output_type": "stream",
     "text": [
      "\n",
      "## Cicular regions (using plotRegion):\n"
     ]
    },
    {
     "data": {
      "text/plain": [
       "<matplotlib.figure.Figure at 0x118ccab90>"
      ]
     },
     "metadata": {},
     "output_type": "display_data"
    },
    {
     "data": {
      "image/png": "[encoded data removed]",
      "text/plain": [
       "<matplotlib.figure.Figure at 0x1189c2dd0>"
      ]
     },
     "metadata": {},
     "output_type": "display_data"
    },
    {
     "name": "stdout",
     "output_type": "stream",
     "text": [
      "Time taken (s): 541.514387846\n"
     ]
    }
   ],
   "source": [
    "startTime= time.time()\n",
    "dbpath = path+'minion_1016_sqlite.db'\n",
    "output= findDC1Regions(coaddBundle, dbpath, plotTestPlots= False,\n",
    "                       filterBand= 'r', returnAll= True)\n",
    "\n",
    "focusDither, output_rect, output_disc, simdata, pixels_in_FOV, pixelNum, pixRA, pixDec= output\n",
    "\n",
    "print 'Time taken (s):', time.time()-startTime"
   ]
  },
  {
   "cell_type": "code",
   "execution_count": 6,
   "metadata": {
    "collapsed": false
   },
   "outputs": [
    {
     "data": {
      "text/html": [
       "<div>\n",
       "<table border=\"1\" class=\"dataframe\">\n",
       "  <thead>\n",
       "    <tr style=\"text-align: right;\">\n",
       "      <th></th>\n",
       "      <th>0</th>\n",
       "      <th>1</th>\n",
       "    </tr>\n",
       "  </thead>\n",
       "  <tbody>\n",
       "    <tr>\n",
       "      <th>goodFiducialIDs</th>\n",
       "      <td>1.791000e+03</td>\n",
       "      <td>1888.000000</td>\n",
       "    </tr>\n",
       "    <tr>\n",
       "      <th>DiffMeanMedian</th>\n",
       "      <td>6.268360e-07</td>\n",
       "      <td>0.000032</td>\n",
       "    </tr>\n",
       "    <tr>\n",
       "      <th>DepthScatter</th>\n",
       "      <td>4.555302e-01</td>\n",
       "      <td>0.364538</td>\n",
       "    </tr>\n",
       "    <tr>\n",
       "      <th>fiducialRA</th>\n",
       "      <td>3.423892e+00</td>\n",
       "      <td>2.778955</td>\n",
       "    </tr>\n",
       "    <tr>\n",
       "      <th>fiducialDec</th>\n",
       "      <td>-3.314060e-01</td>\n",
       "      <td>-0.295396</td>\n",
       "    </tr>\n",
       "  </tbody>\n",
       "</table>\n",
       "</div>"
      ],
      "text/plain": [
       "                            0            1\n",
       "goodFiducialIDs  1.791000e+03  1888.000000\n",
       "DiffMeanMedian   6.268360e-07     0.000032\n",
       "DepthScatter     4.555302e-01     0.364538\n",
       "fiducialRA       3.423892e+00     2.778955\n",
       "fiducialDec     -3.314060e-01    -0.295396"
      ]
     },
     "execution_count": 6,
     "metadata": {},
     "output_type": "execute_result"
    }
   ],
   "source": [
    "pd.DataFrame([output_rect['goodFiducialIDs'],output_rect['diffMeanMedian'],\n",
    "             output_rect['scatterInDepth'], output_rect['fiducialRA'],\n",
    "             output_rect['fiducialDec']], \n",
    "             ['goodFiducialIDs', 'DiffMeanMedian', 'DepthScatter', 'fiducialRA' , 'fiducialDec'])"
   ]
  },
  {
   "cell_type": "markdown",
   "metadata": {},
   "source": [
    "^^ So we have 2 rectangular regions with the average depth within 0.0001 of the median survey depth."
   ]
  },
  {
   "cell_type": "code",
   "execution_count": 7,
   "metadata": {
    "collapsed": false
   },
   "outputs": [
    {
     "data": {
      "text/html": [
       "<div>\n",
       "<table border=\"1\" class=\"dataframe\">\n",
       "  <thead>\n",
       "    <tr style=\"text-align: right;\">\n",
       "      <th></th>\n",
       "      <th>0</th>\n",
       "    </tr>\n",
       "  </thead>\n",
       "  <tbody>\n",
       "    <tr>\n",
       "      <th>goodFiducialIDs</th>\n",
       "      <td>1447</td>\n",
       "    </tr>\n",
       "    <tr>\n",
       "      <th>DiffMeanMedian</th>\n",
       "      <td>8.51566e-05</td>\n",
       "    </tr>\n",
       "    <tr>\n",
       "      <th>DepthScatter</th>\n",
       "      <td>0.403503</td>\n",
       "    </tr>\n",
       "    <tr>\n",
       "      <th>fiducialRA</th>\n",
       "      <td>1.64132</td>\n",
       "    </tr>\n",
       "    <tr>\n",
       "      <th>fiducialDec</th>\n",
       "      <td>-0.496321</td>\n",
       "    </tr>\n",
       "    <tr>\n",
       "      <th>contigIDs</th>\n",
       "      <td>[1447, [1323], [1431], [1333]]</td>\n",
       "    </tr>\n",
       "  </tbody>\n",
       "</table>\n",
       "</div>"
      ],
      "text/plain": [
       "                                              0\n",
       "goodFiducialIDs                            1447\n",
       "DiffMeanMedian                      8.51566e-05\n",
       "DepthScatter                           0.403503\n",
       "fiducialRA                              1.64132\n",
       "fiducialDec                           -0.496321\n",
       "contigIDs        [1447, [1323], [1431], [1333]]"
      ]
     },
     "execution_count": 7,
     "metadata": {},
     "output_type": "execute_result"
    }
   ],
   "source": [
    "pd.DataFrame([output_disc['goodFiducialIDs'],output_disc['diffMeanMedian'],\n",
    "             output_disc['scatterInDepth'], output_disc['fiducialRA'],\n",
    "             output_disc['fiducialDec'], output_disc['contigIDs']], \n",
    "             ['goodFiducialIDs', 'DiffMeanMedian', 'DepthScatter', 'fiducialRA' , 'fiducialDec',\n",
    "             'contigIDs'])"
   ]
  },
  {
   "cell_type": "markdown",
   "metadata": {},
   "source": [
    "^^ So we have only 1 circular region with the average depth within 0.0001 of the median survey depth."
   ]
  },
  {
   "cell_type": "markdown",
   "metadata": {
    "collapsed": true
   },
   "source": [
    "### Based on RandomDitherFieldPerVisit coadded depth."
   ]
  },
  {
   "cell_type": "code",
   "execution_count": 8,
   "metadata": {
    "collapsed": false
   },
   "outputs": [
    {
     "name": "stdout",
     "output_type": "stream",
     "text": [
      "Healpix slicer using NSIDE=256, approximate resolution 13.741946 arcminutes\n",
      "Filename for NoDither:  coaddM5Data_masked_r_NoDither.npz\n",
      "\n",
      "Healpix slicer using NSIDE=256, approximate resolution 13.741946 arcminutes\n",
      "Filename for RandomDitherFieldPerVisit:  coaddM5Data_masked_r_RandomDitherFieldPerVisit.npz\n",
      "\n"
     ]
    }
   ],
   "source": [
    "path= '/Volumes/Transcend/'\n",
    "path2= '2017-01-11/coaddM5Analysis_nside256_withDustExtinction_14pixelRadiusForMasking_rBand_minion1016_fullSurveyPeriod_directory/'\n",
    "path3= 'maskedCoaddData/'\n",
    "os.chdir(path+path2+path3)\n",
    "\n",
    "# get the saved files\n",
    "filenames = ['coaddM5Data_masked_r_NoDither.npz', \n",
    "             'coaddM5Data_masked_r_RandomDitherFieldPerVisit.npz']\n",
    "\n",
    "coaddBundle= {}\n",
    "for i in range(len(filenames)):\n",
    "    mB = metricBundles.createEmptyMetricBundle()\n",
    "    mB.read(filenames[i])\n",
    "    dithStrategy= mB.metadata.strip()   # key is assigned to be the same as dithStrategy\n",
    "    print 'Filename for ' + dithStrategy + ': ', filenames[i]\n",
    "    print ''\n",
    "\n",
    "    coaddBundle[dithStrategy]= mB"
   ]
  },
  {
   "cell_type": "code",
   "execution_count": 9,
   "metadata": {
    "collapsed": false
   },
   "outputs": [
    {
     "name": "stdout",
     "output_type": "stream",
     "text": [
      "\n",
      "############################################\n",
      "## Getting RA, Dec for HEALPix pixels ...\n",
      "\n",
      "############################################\n",
      "## Getting simdata ...\n",
      "\n",
      "############################################\n",
      "## Getting pixels_in_FOV ...\n",
      "Healpix slicer using NSIDE=256, approximate resolution 13.741946 arcminutes\n",
      "Healpix slicer using NSIDE=256, approximate resolution 13.741946 arcminutes\n",
      "Number of fieldIDs in pixel_in_FOV for RandomDitherFieldPerVisit: 2250\n",
      "\n",
      "############################################\n",
      "## Finding good regions ...\n",
      "\n",
      "############################################\n",
      "## Finding good regions with threshold= 0.000100 using RandomDitherFieldPerVisit\n",
      "\n",
      "## Mean survey depth for RandomDitherFieldPerVisit: 27.007376\n",
      "\n",
      "## Mean survey depth for RandomDitherFieldPerVisit: 27.007376\n",
      "Healpix slicer using NSIDE=256, approximate resolution 13.741946 arcminutes\n",
      "Something is wrong. Should have only one FOV corresponding to the central pixel (fID: 2248) but have [2134 2140]\n",
      "Something is wrong. Should have only one FOV corresponding to the central pixel (fID: 2248) but have [2134 2246]\n",
      "\n",
      "############################################\n",
      "## Plotting good regions with threshold= 0.000100 using RandomDitherFieldPerVisit\n",
      "\n",
      "## Rectangular regions (using plotRegion):\n",
      "\n",
      "## Cicular regions (using plotRegion):\n"
     ]
    },
    {
     "data": {
      "text/plain": [
       "<matplotlib.figure.Figure at 0x12a160e50>"
      ]
     },
     "metadata": {},
     "output_type": "display_data"
    },
    {
     "data": {
      "image/png": "[encoded data removed]",
      "text/plain": [
       "<matplotlib.figure.Figure at 0x12abc2490>"
      ]
     },
     "metadata": {},
     "output_type": "display_data"
    },
    {
     "name": "stdout",
     "output_type": "stream",
     "text": [
      "Time taken (s): 543.66020298\n"
     ]
    }
   ],
   "source": [
    "startTime= time.time()\n",
    "dbpath = path+'minion_1016_sqlite.db'\n",
    "output= findDC1Regions(coaddBundle, dbpath, plotTestPlots= False, \n",
    "                       filterBand= 'r', returnAll= True)\n",
    "\n",
    "focusDither, output_rect, output_disc, simdata, pixels_in_FOV, pixelNum, pixRA, pixDec= output\n",
    "\n",
    "print 'Time taken (s):', time.time()-startTime"
   ]
  },
  {
   "cell_type": "code",
   "execution_count": 10,
   "metadata": {
    "collapsed": false
   },
   "outputs": [
    {
     "data": {
      "text/plain": [
       "['fiducialRA',\n",
       " 'fiducialGalacticLat',\n",
       " 'regionPixels',\n",
       " 'scatterInDepth',\n",
       " 'diffMeanMedian',\n",
       " 'fiducialDec',\n",
       " 'goodFiducialIDs']"
      ]
     },
     "execution_count": 10,
     "metadata": {},
     "output_type": "execute_result"
    }
   ],
   "source": [
    "output_rect.keys()"
   ]
  },
  {
   "cell_type": "code",
   "execution_count": 11,
   "metadata": {
    "collapsed": false
   },
   "outputs": [
    {
     "data": {
      "text/html": [
       "<div>\n",
       "<table border=\"1\" class=\"dataframe\">\n",
       "  <thead>\n",
       "    <tr style=\"text-align: right;\">\n",
       "      <th></th>\n",
       "    </tr>\n",
       "  </thead>\n",
       "  <tbody>\n",
       "    <tr>\n",
       "      <th>goodFiducialIDs</th>\n",
       "    </tr>\n",
       "    <tr>\n",
       "      <th>DiffMeanMedian</th>\n",
       "    </tr>\n",
       "    <tr>\n",
       "      <th>DepthScatter</th>\n",
       "    </tr>\n",
       "    <tr>\n",
       "      <th>fiducialRA</th>\n",
       "    </tr>\n",
       "    <tr>\n",
       "      <th>fiducialDec</th>\n",
       "    </tr>\n",
       "    <tr>\n",
       "      <th>fiducialGalacticLat</th>\n",
       "    </tr>\n",
       "  </tbody>\n",
       "</table>\n",
       "</div>"
      ],
      "text/plain": [
       "Empty DataFrame\n",
       "Columns: []\n",
       "Index: [goodFiducialIDs, DiffMeanMedian, DepthScatter, fiducialRA, fiducialDec, fiducialGalacticLat]"
      ]
     },
     "execution_count": 11,
     "metadata": {},
     "output_type": "execute_result"
    }
   ],
   "source": [
    "pd.DataFrame([output_rect['goodFiducialIDs'],output_rect['diffMeanMedian'],\n",
    "             output_rect['scatterInDepth'], output_rect['fiducialRA'],\n",
    "             output_rect['fiducialDec'], output_rect['fiducialGalacticLat']], \n",
    "             ['goodFiducialIDs', 'DiffMeanMedian', 'DepthScatter', 'fiducialRA' , 'fiducialDec', 'fiducialGalacticLat'])"
   ]
  },
  {
   "cell_type": "code",
   "execution_count": 12,
   "metadata": {
    "collapsed": false
   },
   "outputs": [
    {
     "data": {
      "text/html": [
       "<div>\n",
       "<table border=\"1\" class=\"dataframe\">\n",
       "  <thead>\n",
       "    <tr style=\"text-align: right;\">\n",
       "      <th></th>\n",
       "      <th>0</th>\n",
       "    </tr>\n",
       "  </thead>\n",
       "  <tbody>\n",
       "    <tr>\n",
       "      <th>goodFiducialIDs</th>\n",
       "      <td>2248</td>\n",
       "    </tr>\n",
       "    <tr>\n",
       "      <th>DiffMeanMedian</th>\n",
       "      <td>4.45407e-06</td>\n",
       "    </tr>\n",
       "    <tr>\n",
       "      <th>DepthScatter</th>\n",
       "      <td>0.34838</td>\n",
       "    </tr>\n",
       "    <tr>\n",
       "      <th>fiducialRA</th>\n",
       "      <td>0.906446</td>\n",
       "    </tr>\n",
       "    <tr>\n",
       "      <th>fiducialDec</th>\n",
       "      <td>-0.17746</td>\n",
       "    </tr>\n",
       "    <tr>\n",
       "      <th>fiducialGalacticLat</th>\n",
       "      <td>-0.864161</td>\n",
       "    </tr>\n",
       "    <tr>\n",
       "      <th>contigIDs</th>\n",
       "      <td>[2248, [2134, 2140], [2140], [2134, 2246]]</td>\n",
       "    </tr>\n",
       "  </tbody>\n",
       "</table>\n",
       "</div>"
      ],
      "text/plain": [
       "                                                              0\n",
       "goodFiducialIDs                                            2248\n",
       "DiffMeanMedian                                      4.45407e-06\n",
       "DepthScatter                                            0.34838\n",
       "fiducialRA                                             0.906446\n",
       "fiducialDec                                            -0.17746\n",
       "fiducialGalacticLat                                   -0.864161\n",
       "contigIDs            [2248, [2134, 2140], [2140], [2134, 2246]]"
      ]
     },
     "execution_count": 12,
     "metadata": {},
     "output_type": "execute_result"
    }
   ],
   "source": [
    "pd.DataFrame([output_disc['goodFiducialIDs'],output_disc['diffMeanMedian'],\n",
    "             output_disc['scatterInDepth'], output_disc['fiducialRA'],\n",
    "             output_disc['fiducialDec'], output_disc['fiducialGalacticLat'], output_disc['contigIDs']], \n",
    "             ['goodFiducialIDs', 'DiffMeanMedian', 'DepthScatter', 'fiducialRA' , 'fiducialDec', \n",
    "              'fiducialGalacticLat','contigIDs'])"
   ]
  },
  {
   "cell_type": "markdown",
   "metadata": {},
   "source": [
    "^^^ Only one circular region with average depth within 0.0001 of the median survey depth. No rectangular regions. "
   ]
  },
  {
   "cell_type": "code",
   "execution_count": 13,
   "metadata": {
    "collapsed": false,
    "scrolled": true
   },
   "outputs": [
    {
     "name": "stdout",
     "output_type": "stream",
     "text": [
      "\n",
      "############################################\n",
      "## Getting RA, Dec for HEALPix pixels ...\n",
      "\n",
      "############################################\n",
      "## Getting simdata ...\n",
      "\n",
      "############################################\n",
      "## Getting pixels_in_FOV ...\n",
      "Healpix slicer using NSIDE=256, approximate resolution 13.741946 arcminutes\n",
      "Healpix slicer using NSIDE=256, approximate resolution 13.741946 arcminutes\n",
      "Number of fieldIDs in pixel_in_FOV for RandomDitherFieldPerVisit: 2250\n",
      "\n",
      "############################################\n",
      "## Finding good regions ...\n",
      "\n",
      "############################################\n",
      "## Finding good regions with threshold= 0.001000 using RandomDitherFieldPerVisit\n",
      "\n",
      "## Mean survey depth for RandomDitherFieldPerVisit: 27.007376\n",
      "\n",
      "## Mean survey depth for RandomDitherFieldPerVisit: 27.007376\n",
      "Healpix slicer using NSIDE=256, approximate resolution 13.741946 arcminutes\n",
      "Healpix slicer using NSIDE=256, approximate resolution 13.741946 arcminutes\n",
      "Something is wrong. Should have only one FOV corresponding to the central pixel (fID: 1612) but have [1495 1511]\n",
      "Something is wrong. Should have only one FOV corresponding to the central pixel (fID: 1612) but have [1495 1602]\n",
      "Healpix slicer using NSIDE=256, approximate resolution 13.741946 arcminutes\n",
      "Something is wrong. Should have only one FOV corresponding to the central pixel (fID: 2208) but have [2083 2104]\n",
      "Something is wrong. Should have only one FOV corresponding to the central pixel (fID: 2208) but have [2083 2198]\n",
      "Healpix slicer using NSIDE=256, approximate resolution 13.741946 arcminutes\n",
      "Something is wrong. Should have only one FOV corresponding to the central pixel (fID: 2236) but have [2116 2126]\n",
      "Something is wrong. Should have only one FOV corresponding to the central pixel (fID: 2236) but have [2116 2224]\n",
      "Healpix slicer using NSIDE=256, approximate resolution 13.741946 arcminutes\n",
      "Something is wrong. Should have only one FOV corresponding to the central pixel (fID: 2248) but have [2134 2140]\n",
      "Something is wrong. Should have only one FOV corresponding to the central pixel (fID: 2248) but have [2134 2246]\n",
      "Healpix slicer using NSIDE=256, approximate resolution 13.741946 arcminutes\n",
      "Something is wrong. Should have only one FOV corresponding to the central pixel (fID: 2261) but have [2143 2153]\n",
      "Something is wrong. Should have only one FOV corresponding to the central pixel (fID: 2261) but have [2143 2255]\n",
      "Healpix slicer using NSIDE=256, approximate resolution 13.741946 arcminutes\n",
      "Something is wrong. Should have only one FOV corresponding to the central pixel (fID: 2403) but have [2283 2391]\n",
      "Healpix slicer using NSIDE=256, approximate resolution 13.741946 arcminutes\n",
      "Something is wrong. Should have only one FOV corresponding to the central pixel (fID: 2594) but have [2476 2480]\n",
      "Something is wrong. Should have only one FOV corresponding to the central pixel (fID: 2594) but have [2476 2580]\n",
      "\n",
      "############################################\n",
      "## Plotting good regions with threshold= 0.001000 using RandomDitherFieldPerVisit\n",
      "\n",
      "## Rectangular regions (using plotRegion):\n"
     ]
    },
    {
     "data": {
      "text/plain": [
       "<matplotlib.figure.Figure at 0x11a2bf1d0>"
      ]
     },
     "metadata": {},
     "output_type": "display_data"
    },
    {
     "data": {
      "image/png": "[encoded data removed]",
      "text/plain": [
       "<matplotlib.figure.Figure at 0x12abe6910>"
      ]
     },
     "metadata": {},
     "output_type": "display_data"
    },
    {
     "data": {
      "text/plain": [
       "<matplotlib.figure.Figure at 0x119da2f10>"
      ]
     },
     "metadata": {},
     "output_type": "display_data"
    },
    {
     "data": {
      "image/png": "[encoded data removed]",
      "text/plain": [
       "<matplotlib.figure.Figure at 0x119d93f90>"
      ]
     },
     "metadata": {},
     "output_type": "display_data"
    },
    {
     "data": {
      "text/plain": [
       "<matplotlib.figure.Figure at 0x13ef17e90>"
      ]
     },
     "metadata": {},
     "output_type": "display_data"
    },
    {
     "data": {
      "image/png": "[encoded data removed]",
      "text/plain": [
       "<matplotlib.figure.Figure at 0x13ef17550>"
      ]
     },
     "metadata": {},
     "output_type": "display_data"
    },
    {
     "data": {
      "text/plain": [
       "<matplotlib.figure.Figure at 0x11a1c2ed0>"
      ]
     },
     "metadata": {},
     "output_type": "display_data"
    },
    {
     "data": {
      "image/png": "[encoded data removed]",
      "text/plain": [
       "<matplotlib.figure.Figure at 0x11a1c2710>"
      ]
     },
     "metadata": {},
     "output_type": "display_data"
    },
    {
     "data": {
      "text/plain": [
       "<matplotlib.figure.Figure at 0x124bbb790>"
      ]
     },
     "metadata": {},
     "output_type": "display_data"
    },
    {
     "data": {
      "image/png": "[encoded data removed]",
      "text/plain": [
       "<matplotlib.figure.Figure at 0x118ccaf50>"
      ]
     },
     "metadata": {},
     "output_type": "display_data"
    },
    {
     "data": {
      "text/plain": [
       "<matplotlib.figure.Figure at 0x118d06f50>"
      ]
     },
     "metadata": {},
     "output_type": "display_data"
    },
    {
     "data": {
      "image/png": "[encoded data removed]",
      "text/plain": [
       "<matplotlib.figure.Figure at 0x118d06590>"
      ]
     },
     "metadata": {},
     "output_type": "display_data"
    },
    {
     "data": {
      "text/plain": [
       "<matplotlib.figure.Figure at 0x1376a7c90>"
      ]
     },
     "metadata": {},
     "output_type": "display_data"
    },
    {
     "data": {
      "image/png": "[encoded data removed]",
      "text/plain": [
       "<matplotlib.figure.Figure at 0x13eeeb110>"
      ]
     },
     "metadata": {},
     "output_type": "display_data"
    },
    {
     "data": {
      "text/plain": [
       "<matplotlib.figure.Figure at 0x11e3cbf10>"
      ]
     },
     "metadata": {},
     "output_type": "display_data"
    },
    {
     "data": {
      "image/png": "[encoded data removed]",
      "text/plain": [
       "<matplotlib.figure.Figure at 0x11e3cb190>"
      ]
     },
     "metadata": {},
     "output_type": "display_data"
    },
    {
     "name": "stdout",
     "output_type": "stream",
     "text": [
      "\n",
      "## Cicular regions (using plotRegion):\n"
     ]
    },
    {
     "data": {
      "text/plain": [
       "<matplotlib.figure.Figure at 0x12023ab10>"
      ]
     },
     "metadata": {},
     "output_type": "display_data"
    },
    {
     "data": {
      "image/png": "[encoded data removed]",
      "text/plain": [
       "<matplotlib.figure.Figure at 0x12023a390>"
      ]
     },
     "metadata": {},
     "output_type": "display_data"
    },
    {
     "data": {
      "text/plain": [
       "<matplotlib.figure.Figure at 0x128929b90>"
      ]
     },
     "metadata": {},
     "output_type": "display_data"
    },
    {
     "data": {
      "image/png": "[encoded data removed]",
      "text/plain": [
       "<matplotlib.figure.Figure at 0x1289293d0>"
      ]
     },
     "metadata": {},
     "output_type": "display_data"
    },
    {
     "data": {
      "text/plain": [
       "<matplotlib.figure.Figure at 0x119da59d0>"
      ]
     },
     "metadata": {},
     "output_type": "display_data"
    },
    {
     "data": {
      "image/png": "[encoded data removed]",
      "text/plain": [
       "<matplotlib.figure.Figure at 0x119da5910>"
      ]
     },
     "metadata": {},
     "output_type": "display_data"
    },
    {
     "data": {
      "text/plain": [
       "<matplotlib.figure.Figure at 0x1277fe050>"
      ]
     },
     "metadata": {},
     "output_type": "display_data"
    },
    {
     "data": {
      "image/png": "[encoded data removed]",
      "text/plain": [
       "<matplotlib.figure.Figure at 0x1278077d0>"
      ]
     },
     "metadata": {},
     "output_type": "display_data"
    },
    {
     "data": {
      "text/plain": [
       "<matplotlib.figure.Figure at 0x119d82f10>"
      ]
     },
     "metadata": {},
     "output_type": "display_data"
    },
    {
     "data": {
      "image/png": "[encoded data removed]",
      "text/plain": [
       "<matplotlib.figure.Figure at 0x119d82750>"
      ]
     },
     "metadata": {},
     "output_type": "display_data"
    },
    {
     "data": {
      "text/plain": [
       "<matplotlib.figure.Figure at 0x11cbd2950>"
      ]
     },
     "metadata": {},
     "output_type": "display_data"
    },
    {
     "data": {
      "image/png": "[encoded data removed]",
      "text/plain": [
       "<matplotlib.figure.Figure at 0x11cbc2950>"
      ]
     },
     "metadata": {},
     "output_type": "display_data"
    },
    {
     "data": {
      "text/plain": [
       "<matplotlib.figure.Figure at 0x11cb51850>"
      ]
     },
     "metadata": {},
     "output_type": "display_data"
    },
    {
     "data": {
      "image/png": "[encoded data removed]",
      "text/plain": [
       "<matplotlib.figure.Figure at 0x11cb74fd0>"
      ]
     },
     "metadata": {},
     "output_type": "display_data"
    },
    {
     "data": {
      "text/plain": [
       "<matplotlib.figure.Figure at 0x11cbd21d0>"
      ]
     },
     "metadata": {},
     "output_type": "display_data"
    },
    {
     "data": {
      "image/png": "[encoded data removed]",
      "text/plain": [
       "<matplotlib.figure.Figure at 0x11cbd2190>"
      ]
     },
     "metadata": {},
     "output_type": "display_data"
    },
    {
     "name": "stdout",
     "output_type": "stream",
     "text": [
      "Time taken (s): 527.023490906\n"
     ]
    }
   ],
   "source": [
    "startTime= time.time()\n",
    "dbpath = path+'minion_1016_sqlite.db'\n",
    "output= findDC1Regions(coaddBundle, dbpath, plotTestPlots= False, threshold= 0.001,\n",
    "                       filterBand= 'r', returnAll= True)\n",
    "\n",
    "focusDither, output_rect, output_disc, simdata, pixels_in_FOV, pixelNum, pixRA, pixDec= output\n",
    "\n",
    "print 'Time taken (s):', time.time()-startTime"
   ]
  },
  {
   "cell_type": "code",
   "execution_count": 14,
   "metadata": {
    "collapsed": false
   },
   "outputs": [
    {
     "data": {
      "text/html": [
       "<div>\n",
       "<table border=\"1\" class=\"dataframe\">\n",
       "  <thead>\n",
       "    <tr style=\"text-align: right;\">\n",
       "      <th></th>\n",
       "      <th>0</th>\n",
       "      <th>1</th>\n",
       "      <th>2</th>\n",
       "      <th>3</th>\n",
       "      <th>4</th>\n",
       "      <th>5</th>\n",
       "      <th>6</th>\n",
       "      <th>7</th>\n",
       "    </tr>\n",
       "  </thead>\n",
       "  <tbody>\n",
       "    <tr>\n",
       "      <th>goodFiducialIDs</th>\n",
       "      <td>765.000000</td>\n",
       "      <td>2078.000000</td>\n",
       "      <td>2246.000000</td>\n",
       "      <td>2354.000000</td>\n",
       "      <td>2374.000000</td>\n",
       "      <td>2449.000000</td>\n",
       "      <td>2498.000000</td>\n",
       "      <td>2548.000000</td>\n",
       "    </tr>\n",
       "    <tr>\n",
       "      <th>DiffMeanMedian</th>\n",
       "      <td>0.000439</td>\n",
       "      <td>0.000609</td>\n",
       "      <td>0.000189</td>\n",
       "      <td>0.000998</td>\n",
       "      <td>0.000821</td>\n",
       "      <td>0.000132</td>\n",
       "      <td>0.000634</td>\n",
       "      <td>0.000898</td>\n",
       "    </tr>\n",
       "    <tr>\n",
       "      <th>DepthScatter</th>\n",
       "      <td>0.314283</td>\n",
       "      <td>0.826591</td>\n",
       "      <td>0.331809</td>\n",
       "      <td>0.727568</td>\n",
       "      <td>0.667229</td>\n",
       "      <td>0.327340</td>\n",
       "      <td>0.382888</td>\n",
       "      <td>0.582664</td>\n",
       "    </tr>\n",
       "    <tr>\n",
       "      <th>fiducialRA</th>\n",
       "      <td>5.170772</td>\n",
       "      <td>5.597391</td>\n",
       "      <td>0.960895</td>\n",
       "      <td>0.986551</td>\n",
       "      <td>0.378991</td>\n",
       "      <td>6.093002</td>\n",
       "      <td>0.794443</td>\n",
       "      <td>2.622837</td>\n",
       "    </tr>\n",
       "    <tr>\n",
       "      <th>fiducialDec</th>\n",
       "      <td>-0.790683</td>\n",
       "      <td>-0.216691</td>\n",
       "      <td>-0.156207</td>\n",
       "      <td>-0.114111</td>\n",
       "      <td>-0.104445</td>\n",
       "      <td>-0.076277</td>\n",
       "      <td>-0.053329</td>\n",
       "      <td>-0.037368</td>\n",
       "    </tr>\n",
       "  </tbody>\n",
       "</table>\n",
       "</div>"
      ],
      "text/plain": [
       "                          0            1            2            3  \\\n",
       "goodFiducialIDs  765.000000  2078.000000  2246.000000  2354.000000   \n",
       "DiffMeanMedian     0.000439     0.000609     0.000189     0.000998   \n",
       "DepthScatter       0.314283     0.826591     0.331809     0.727568   \n",
       "fiducialRA         5.170772     5.597391     0.960895     0.986551   \n",
       "fiducialDec       -0.790683    -0.216691    -0.156207    -0.114111   \n",
       "\n",
       "                           4            5            6            7  \n",
       "goodFiducialIDs  2374.000000  2449.000000  2498.000000  2548.000000  \n",
       "DiffMeanMedian      0.000821     0.000132     0.000634     0.000898  \n",
       "DepthScatter        0.667229     0.327340     0.382888     0.582664  \n",
       "fiducialRA          0.378991     6.093002     0.794443     2.622837  \n",
       "fiducialDec        -0.104445    -0.076277    -0.053329    -0.037368  "
      ]
     },
     "execution_count": 14,
     "metadata": {},
     "output_type": "execute_result"
    }
   ],
   "source": [
    "pd.DataFrame([output_rect['goodFiducialIDs'],output_rect['diffMeanMedian'],\n",
    "             output_rect['scatterInDepth'], output_rect['fiducialRA'],\n",
    "             output_rect['fiducialDec']], \n",
    "             ['goodFiducialIDs', 'DiffMeanMedian', 'DepthScatter', 'fiducialRA' , 'fiducialDec'])"
   ]
  },
  {
   "cell_type": "code",
   "execution_count": 15,
   "metadata": {
    "collapsed": false
   },
   "outputs": [
    {
     "data": {
      "text/html": [
       "<div>\n",
       "<table border=\"1\" class=\"dataframe\">\n",
       "  <thead>\n",
       "    <tr style=\"text-align: right;\">\n",
       "      <th></th>\n",
       "      <th>0</th>\n",
       "      <th>1</th>\n",
       "      <th>2</th>\n",
       "      <th>3</th>\n",
       "      <th>4</th>\n",
       "      <th>5</th>\n",
       "      <th>6</th>\n",
       "      <th>7</th>\n",
       "    </tr>\n",
       "  </thead>\n",
       "  <tbody>\n",
       "    <tr>\n",
       "      <th>goodFiducialIDs</th>\n",
       "      <td>1091</td>\n",
       "      <td>1612</td>\n",
       "      <td>2208</td>\n",
       "      <td>2236</td>\n",
       "      <td>2248</td>\n",
       "      <td>2261</td>\n",
       "      <td>2403</td>\n",
       "      <td>2594</td>\n",
       "    </tr>\n",
       "    <tr>\n",
       "      <th>DiffMeanMedian</th>\n",
       "      <td>0.000321339</td>\n",
       "      <td>0.000200455</td>\n",
       "      <td>0.000747357</td>\n",
       "      <td>0.000626201</td>\n",
       "      <td>4.45407e-06</td>\n",
       "      <td>0.000533554</td>\n",
       "      <td>0.000950545</td>\n",
       "      <td>0.000774568</td>\n",
       "    </tr>\n",
       "    <tr>\n",
       "      <th>DepthScatter</th>\n",
       "      <td>0.374155</td>\n",
       "      <td>0.412301</td>\n",
       "      <td>0.316956</td>\n",
       "      <td>0.340857</td>\n",
       "      <td>0.34838</td>\n",
       "      <td>0.327339</td>\n",
       "      <td>0.786514</td>\n",
       "      <td>0.383914</td>\n",
       "    </tr>\n",
       "    <tr>\n",
       "      <th>fiducialRA</th>\n",
       "      <td>3.4343</td>\n",
       "      <td>3.60842</td>\n",
       "      <td>2.64747</td>\n",
       "      <td>1.01495</td>\n",
       "      <td>0.906446</td>\n",
       "      <td>5.87807</td>\n",
       "      <td>5.73884</td>\n",
       "      <td>2.18617</td>\n",
       "    </tr>\n",
       "    <tr>\n",
       "      <th>fiducialDec</th>\n",
       "      <td>-0.654154</td>\n",
       "      <td>-0.427736</td>\n",
       "      <td>-0.195752</td>\n",
       "      <td>-0.187589</td>\n",
       "      <td>-0.17746</td>\n",
       "      <td>-0.172333</td>\n",
       "      <td>-0.117321</td>\n",
       "      <td>-0.0473498</td>\n",
       "    </tr>\n",
       "    <tr>\n",
       "      <th>contigIDs</th>\n",
       "      <td>[1091, [986], [1002], [1077]]</td>\n",
       "      <td>[1612, [1495, 1511], [1511], [1495, 1602]]</td>\n",
       "      <td>[2208, [2083, 2104], [2083, 2198], [2104]]</td>\n",
       "      <td>[2236, [2116, 2126], [2126], [2116, 2224]]</td>\n",
       "      <td>[2248, [2134, 2140], [2140], [2134, 2246]]</td>\n",
       "      <td>[2261, [2143, 2153], [2153], [2143, 2255]]</td>\n",
       "      <td>[2403, [2287], [2287], [2283, 2391]]</td>\n",
       "      <td>[2594, [2476, 2480], [2480], [2476, 2580]]</td>\n",
       "    </tr>\n",
       "  </tbody>\n",
       "</table>\n",
       "</div>"
      ],
      "text/plain": [
       "                                             0  \\\n",
       "goodFiducialIDs                           1091   \n",
       "DiffMeanMedian                     0.000321339   \n",
       "DepthScatter                          0.374155   \n",
       "fiducialRA                              3.4343   \n",
       "fiducialDec                          -0.654154   \n",
       "contigIDs        [1091, [986], [1002], [1077]]   \n",
       "\n",
       "                                                          1  \\\n",
       "goodFiducialIDs                                        1612   \n",
       "DiffMeanMedian                                  0.000200455   \n",
       "DepthScatter                                       0.412301   \n",
       "fiducialRA                                          3.60842   \n",
       "fiducialDec                                       -0.427736   \n",
       "contigIDs        [1612, [1495, 1511], [1511], [1495, 1602]]   \n",
       "\n",
       "                                                          2  \\\n",
       "goodFiducialIDs                                        2208   \n",
       "DiffMeanMedian                                  0.000747357   \n",
       "DepthScatter                                       0.316956   \n",
       "fiducialRA                                          2.64747   \n",
       "fiducialDec                                       -0.195752   \n",
       "contigIDs        [2208, [2083, 2104], [2083, 2198], [2104]]   \n",
       "\n",
       "                                                          3  \\\n",
       "goodFiducialIDs                                        2236   \n",
       "DiffMeanMedian                                  0.000626201   \n",
       "DepthScatter                                       0.340857   \n",
       "fiducialRA                                          1.01495   \n",
       "fiducialDec                                       -0.187589   \n",
       "contigIDs        [2236, [2116, 2126], [2126], [2116, 2224]]   \n",
       "\n",
       "                                                          4  \\\n",
       "goodFiducialIDs                                        2248   \n",
       "DiffMeanMedian                                  4.45407e-06   \n",
       "DepthScatter                                        0.34838   \n",
       "fiducialRA                                         0.906446   \n",
       "fiducialDec                                        -0.17746   \n",
       "contigIDs        [2248, [2134, 2140], [2140], [2134, 2246]]   \n",
       "\n",
       "                                                          5  \\\n",
       "goodFiducialIDs                                        2261   \n",
       "DiffMeanMedian                                  0.000533554   \n",
       "DepthScatter                                       0.327339   \n",
       "fiducialRA                                          5.87807   \n",
       "fiducialDec                                       -0.172333   \n",
       "contigIDs        [2261, [2143, 2153], [2153], [2143, 2255]]   \n",
       "\n",
       "                                                    6  \\\n",
       "goodFiducialIDs                                  2403   \n",
       "DiffMeanMedian                            0.000950545   \n",
       "DepthScatter                                 0.786514   \n",
       "fiducialRA                                    5.73884   \n",
       "fiducialDec                                 -0.117321   \n",
       "contigIDs        [2403, [2287], [2287], [2283, 2391]]   \n",
       "\n",
       "                                                          7  \n",
       "goodFiducialIDs                                        2594  \n",
       "DiffMeanMedian                                  0.000774568  \n",
       "DepthScatter                                       0.383914  \n",
       "fiducialRA                                          2.18617  \n",
       "fiducialDec                                      -0.0473498  \n",
       "contigIDs        [2594, [2476, 2480], [2480], [2476, 2580]]  "
      ]
     },
     "execution_count": 15,
     "metadata": {},
     "output_type": "execute_result"
    }
   ],
   "source": [
    "pd.DataFrame([output_disc['goodFiducialIDs'],output_disc['diffMeanMedian'],\n",
    "             output_disc['scatterInDepth'], output_disc['fiducialRA'],\n",
    "             output_disc['fiducialDec'], output_disc['contigIDs']], \n",
    "             ['goodFiducialIDs', 'DiffMeanMedian', 'DepthScatter', 'fiducialRA' , 'fiducialDec',\n",
    "             'contigIDs'])"
   ]
  },
  {
   "cell_type": "code",
   "execution_count": 16,
   "metadata": {
    "collapsed": false
   },
   "outputs": [
    {
     "data": {
      "text/plain": [
       "'RandomDitherFieldPerVisit'"
      ]
     },
     "execution_count": 16,
     "metadata": {},
     "output_type": "execute_result"
    }
   ],
   "source": [
    "focusDither"
   ]
  },
  {
   "cell_type": "markdown",
   "metadata": {
    "collapsed": true
   },
   "source": [
    "Check to see how the optimal region for SequentialHexDitherPerNight does for RandomDither. If it is typical, then go with it."
   ]
  },
  {
   "cell_type": "code",
   "execution_count": 17,
   "metadata": {
    "collapsed": false
   },
   "outputs": [
    {
     "name": "stdout",
     "output_type": "stream",
     "text": [
      "Healpix slicer using NSIDE=256, approximate resolution 13.741946 arcminutes\n",
      "Filename for RandomDitherFieldPerVisit:  coaddM5Data_masked_r_RandomDitherFieldPerVisit.npz\n",
      "\n",
      "Healpix slicer using NSIDE=256, approximate resolution 13.741946 arcminutes\n",
      "Filename for SequentialHexDitherPerNight:  coaddM5Data_masked_r_SequentialHexDitherPerNight.npz\n",
      "\n"
     ]
    }
   ],
   "source": [
    "path= '/Volumes/Transcend/'\n",
    "path2= '2017-01-11/coaddM5Analysis_nside256_withDustExtinction_14pixelRadiusForMasking_rBand_minion1016_fullSurveyPeriod_directory/'\n",
    "path3= 'maskedCoaddData/'\n",
    "os.chdir(path+path2+path3)\n",
    "\n",
    "# get the saved files\n",
    "filenames = ['coaddM5Data_masked_r_RandomDitherFieldPerVisit.npz',\n",
    "            'coaddM5Data_masked_r_SequentialHexDitherPerNight.npz']\n",
    "\n",
    "bundle= {}\n",
    "for i in range(len(filenames)):\n",
    "    mB = metricBundles.createEmptyMetricBundle()\n",
    "    mB.read(filenames[i])\n",
    "    dithStrategy= mB.metadata.strip()   # key is assigned to be the same as dithStrategy\n",
    "    print 'Filename for ' + dithStrategy + ': ', filenames[i]\n",
    "    print ''\n",
    "\n",
    "    bundle[dithStrategy]= mB"
   ]
  },
  {
   "cell_type": "code",
   "execution_count": 18,
   "metadata": {
    "collapsed": true
   },
   "outputs": [],
   "source": [
    "from intermediates import findRegionPixels"
   ]
  },
  {
   "cell_type": "code",
   "execution_count": 19,
   "metadata": {
    "collapsed": true
   },
   "outputs": [],
   "source": [
    "def checkDepth(dither, ID, disc= True):\n",
    "    inSurvey= np.where(bundle[dither].metricValues.mask==False)[0]\n",
    "    surveyMedianDepth= np.median(bundle[dither].metricValues.data[inSurvey])\n",
    "    print 'Mean survey depth for %s: %f'% (dither, surveyMedianDepth)\n",
    "    fiducialRA, fiducialDec, diskPixels= findRegionPixels(ID, simdata, 256, disc, 0.0305)\n",
    "    typicalDepth= np.mean(bundle[dither].metricValues.data[diskPixels])\n",
    "    print 'Diff depth', abs(typicalDepth-surveyMedianDepth)\n",
    "    print 'Scatter: ', abs(max(bundle[dither].metricValues.data[diskPixels])-min(bundle[dither].metricValues.data[diskPixels]))"
   ]
  },
  {
   "cell_type": "code",
   "execution_count": 20,
   "metadata": {
    "collapsed": false
   },
   "outputs": [
    {
     "name": "stdout",
     "output_type": "stream",
     "text": [
      "Mean survey depth for RandomDitherFieldPerVisit: 27.007376\n",
      "Diff depth 0.00342078945095\n",
      "Scatter:  0.29893617755\n",
      "Mean survey depth for SequentialHexDitherPerNight: 27.008246\n",
      "Diff depth 8.51565915703e-05\n",
      "Scatter:  0.403502732117\n"
     ]
    }
   ],
   "source": [
    "fID= 1447\n",
    "checkDepth(focusDither, fID)\n",
    "checkDepth('SequentialHexDitherPerNight', fID)"
   ]
  },
  {
   "cell_type": "code",
   "execution_count": 21,
   "metadata": {
    "collapsed": false
   },
   "outputs": [
    {
     "name": "stdout",
     "output_type": "stream",
     "text": [
      "Mean survey depth for RandomDitherFieldPerVisit: 27.007376\n",
      "Diff depth 4.45407181004e-06\n",
      "Scatter:  0.348380329222\n",
      "Mean survey depth for SequentialHexDitherPerNight: 27.008246\n",
      "Diff depth 0.00331808733256\n",
      "Scatter:  0.352746827789\n"
     ]
    }
   ],
   "source": [
    "fID= 2248\n",
    "checkDepth(focusDither, fID)\n",
    "checkDepth('SequentialHexDitherPerNight', fID)"
   ]
  },
  {
   "cell_type": "code",
   "execution_count": null,
   "metadata": {
    "collapsed": true
   },
   "outputs": [],
   "source": []
  }
 ],
 "metadata": {
  "kernelspec": {
   "display_name": "Python 2",
   "language": "python",
   "name": "python2"
  },
  "language_info": {
   "codemirror_mode": {
    "name": "ipython",
    "version": 2
   },
   "file_extension": ".py",
   "mimetype": "text/x-python",
   "name": "python",
   "nbconvert_exporter": "python",
   "pygments_lexer": "ipython2",
   "version": "2.7.12"
  }
 },
 "nbformat": 4,
 "nbformat_minor": 0
}
