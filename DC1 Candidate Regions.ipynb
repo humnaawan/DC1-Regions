{
 "cells": [
  {
   "cell_type": "markdown",
   "metadata": {},
   "source": [
    "Need to find an area covered by roughly 4 undithered FOVs for a full PhoSim simulation.\n",
    "\n",
    "Want the area to have pixels with mean/typical depth= median survey depth. and not so scattered abs(max-min)depth."
   ]
  },
  {
   "cell_type": "code",
   "execution_count": 1,
   "metadata": {
    "collapsed": false
   },
   "outputs": [],
   "source": [
    "import matplotlib.pyplot as plt\n",
    "%matplotlib inline\n",
    "import numpy as np\n",
    "import os\n",
    "import time\n",
    "import pandas as pd\n",
    "import lsst.sims.maf.metricBundles as metricBundles\n",
    "from findDC1Regions import findDC1Regions"
   ]
  },
  {
   "cell_type": "code",
   "execution_count": 2,
   "metadata": {
    "collapsed": false
   },
   "outputs": [],
   "source": [
    "workDir= os.getcwd()"
   ]
  },
  {
   "cell_type": "code",
   "execution_count": 3,
   "metadata": {
    "collapsed": false
   },
   "outputs": [
    {
     "name": "stdout",
     "output_type": "stream",
     "text": [
      "Healpix slicer using NSIDE=256, approximate resolution 13.741946 arcminutes\n",
      "Filename for NoDither:  coaddM5Data_masked_r_NoDither.npz\n",
      "\n",
      "Healpix slicer using NSIDE=256, approximate resolution 13.741946 arcminutes\n",
      "Filename for SequentialHexDitherPerNight:  coaddM5Data_masked_r_SequentialHexDitherPerNight.npz\n",
      "\n"
     ]
    }
   ],
   "source": [
    "path= '/Volumes/Transcend/'\n",
    "path2= '2017-01-11/coaddM5Analysis_nside256_withDustExtinction_14pixelRadiusForMasking_rBand_minion1016_fullSurveyPeriod_directory/'\n",
    "path3= 'maskedCoaddData/'\n",
    "os.chdir(path+path2+path3)\n",
    "\n",
    "# get the saved files\n",
    "filenames = ['coaddM5Data_masked_r_NoDither.npz', \n",
    "             'coaddM5Data_masked_r_SequentialHexDitherPerNight.npz']\n",
    "\n",
    "coaddBundle= {}\n",
    "for i in range(len(filenames)):\n",
    "    mB = metricBundles.createEmptyMetricBundle()\n",
    "    mB.read(filenames[i])\n",
    "    dithStrategy= mB.metadata.strip()   # key is assigned to be the same as dithStrategy\n",
    "    print 'Filename for ' + dithStrategy + ': ', filenames[i]\n",
    "    print ''\n",
    "\n",
    "    coaddBundle[dithStrategy]= mB"
   ]
  },
  {
   "cell_type": "code",
   "execution_count": 4,
   "metadata": {
    "collapsed": false
   },
   "outputs": [
    {
     "name": "stdout",
     "output_type": "stream",
     "text": [
      "Help on function findDC1Regions in module findDC1Regions:\n",
      "\n",
      "findDC1Regions(coaddBundle, dbpath, plotTestPlots=True, filterBand='i', threshold=0.0001, nside=256, returnAll=False)\n",
      "    Find candidate regions for DC1 (based on how wildly the average depth in the region \n",
      "    differs from the survey median depth).\n",
      "    \n",
      "    Returns a bunch of stuff ...\n",
      "    \n",
      "    Required Parameters\n",
      "    -------------------\n",
      "      * coaddBundle: dict: dictionary with keys= observing strategy names, pointing to corresponding\n",
      "                           to a metricBundle object.\n",
      "           NOTE: coaddBundle should have always have NoDither. If want to find regions based on a dithered\n",
      "                 survey, the bundle should have the dithered data ALONG WITH the undithered one.\n",
      "      * dbpath: str: path to the OpSim database.\n",
      "    \n",
      "    Optional Parameters\n",
      "    -------------------\n",
      "      * plotTestPlots: bool: set to False if dont want to plot things for debugging/testing code.\n",
      "                             Default: True\n",
      "      * filterBand: str: filter to consider. Default: 'i'\n",
      "      * threshold: float: region will be considered good if average depth in the region is within the\n",
      "                          threshold of survey median depth. Default: 0.0001\n",
      "      * nside: int: HEALPix resolution parameter. Defaut: 256\n",
      "      * returnAll: bool: set to True to get (things needed to find chips.. ):\n",
      "                         [focusDither, output_rect, output_disc, simdata, pixels_in_FOV,\n",
      "                                                   simdataIndex_for_pixel, pixelNum, pixRA, pixDec]\n",
      "                         Default: False returns:\n",
      "                         [focusDither, output_rect, output_disc]\n",
      "\n"
     ]
    }
   ],
   "source": [
    "help(findDC1Regions)"
   ]
  },
  {
   "cell_type": "code",
   "execution_count": 5,
   "metadata": {
    "collapsed": false,
    "scrolled": true
   },
   "outputs": [
    {
     "name": "stdout",
     "output_type": "stream",
     "text": [
      "\n",
      "############################################\n",
      "## Getting RA, Dec for HEALPix pixels ...\n",
      "\n",
      "############################################\n",
      "## Getting simdata ...\n",
      "\n",
      "############################################\n",
      "## Getting pixels_in_FOV ...\n",
      "Healpix slicer using NSIDE=256, approximate resolution 13.741946 arcminutes\n",
      "Healpix slicer using NSIDE=256, approximate resolution 13.741946 arcminutes\n",
      "Number of fieldIDs in pixel_in_FOV for SequentialHexDitherPerNight: 2249.000000\n",
      "\n",
      "############################################\n",
      "## Finding good regions ...\n",
      "\n",
      "############################################\n",
      "## Finding good regions with threshold= 0.000100 using SequentialHexDitherPerNight\n",
      "\n",
      "## Mean survey depth for SequentialHexDitherPerNight: 27.008246\n",
      "\n",
      "## Mean survey depth for SequentialHexDitherPerNight: 27.008246\n",
      "Healpix slicer using NSIDE=256, approximate resolution 13.741946 arcminutes\n",
      "\n",
      "############################################\n",
      "## Plotting good regions with threshold= 0.000100 using SequentialHexDitherPerNight\n",
      "\n",
      "## Rectangular regions (using plotRegion):\n"
     ]
    },
    {
     "data": {
      "text/plain": [
       "<matplotlib.figure.Figure at 0x124c5a190>"
      ]
     },
     "metadata": {},
     "output_type": "display_data"
    },
    {
     "data": {
      "image/png": "[encoded data removed]",
      "text/plain": [
       "<matplotlib.figure.Figure at 0x124c5a650>"
      ]
     },
     "metadata": {},
     "output_type": "display_data"
    },
    {
     "data": {
      "text/plain": [
       "<matplotlib.figure.Figure at 0x11a4d5fd0>"
      ]
     },
     "metadata": {},
     "output_type": "display_data"
    },
    {
     "data": {
      "image/png": "[encoded data removed]",
      "text/plain": [
       "<matplotlib.figure.Figure at 0x1313909d0>"
      ]
     },
     "metadata": {},
     "output_type": "display_data"
    },
    {
     "name": "stdout",
     "output_type": "stream",
     "text": [
      "\n",
      "## Cicular regions (using plotRegion):\n"
     ]
    },
    {
     "data": {
      "text/plain": [
       "<matplotlib.figure.Figure at 0x11a3a1f10>"
      ]
     },
     "metadata": {},
     "output_type": "display_data"
    },
    {
     "data": {
      "image/png": "[encoded data removed]",
      "text/plain": [
       "<matplotlib.figure.Figure at 0x11a3a1190>"
      ]
     },
     "metadata": {},
     "output_type": "display_data"
    },
    {
     "name": "stdout",
     "output_type": "stream",
     "text": [
      "Time taken (s): 484.151417017\n"
     ]
    }
   ],
   "source": [
    "startTime= time.time()\n",
    "dbpath = path+'minion_1016_sqlite.db'\n",
    "output= findDC1Regions(coaddBundle, dbpath, plotTestPlots= False,\n",
    "                       filterBand= 'r', returnAll= True)\n",
    "\n",
    "focusDither, output_rect, output_disc, simdata, pixels_in_FOV, pixelNum, pixRA, pixDec= output\n",
    "\n",
    "print 'Time taken (s):', time.time()-startTime"
   ]
  },
  {
   "cell_type": "code",
   "execution_count": 7,
   "metadata": {
    "collapsed": false
   },
   "outputs": [
    {
     "data": {
      "text/html": [
       "<div>\n",
       "<table border=\"1\" class=\"dataframe\">\n",
       "  <thead>\n",
       "    <tr style=\"text-align: right;\">\n",
       "      <th></th>\n",
       "      <th>0</th>\n",
       "      <th>1</th>\n",
       "    </tr>\n",
       "  </thead>\n",
       "  <tbody>\n",
       "    <tr>\n",
       "      <th>goodFiducialIDs</th>\n",
       "      <td>1.791000e+03</td>\n",
       "      <td>1888.000000</td>\n",
       "    </tr>\n",
       "    <tr>\n",
       "      <th>DiffMeanMedian</th>\n",
       "      <td>6.268360e-07</td>\n",
       "      <td>0.000032</td>\n",
       "    </tr>\n",
       "    <tr>\n",
       "      <th>DepthScatter</th>\n",
       "      <td>4.555302e-01</td>\n",
       "      <td>0.364538</td>\n",
       "    </tr>\n",
       "    <tr>\n",
       "      <th>fiducialRA</th>\n",
       "      <td>3.423892e+00</td>\n",
       "      <td>2.778955</td>\n",
       "    </tr>\n",
       "    <tr>\n",
       "      <th>fiducialDec</th>\n",
       "      <td>-3.314060e-01</td>\n",
       "      <td>-0.295396</td>\n",
       "    </tr>\n",
       "  </tbody>\n",
       "</table>\n",
       "</div>"
      ],
      "text/plain": [
       "                            0            1\n",
       "goodFiducialIDs  1.791000e+03  1888.000000\n",
       "DiffMeanMedian   6.268360e-07     0.000032\n",
       "DepthScatter     4.555302e-01     0.364538\n",
       "fiducialRA       3.423892e+00     2.778955\n",
       "fiducialDec     -3.314060e-01    -0.295396"
      ]
     },
     "execution_count": 7,
     "metadata": {},
     "output_type": "execute_result"
    }
   ],
   "source": [
    "pd.DataFrame([output_rect['goodFiducialIDs'],output_rect['diffMeanMedian'],\n",
    "             output_rect['scatterInDepth'], output_rect['fiducialRA'],\n",
    "             output_rect['fiducialDec']], \n",
    "             ['goodFiducialIDs', 'DiffMeanMedian', 'DepthScatter', 'fiducialRA' , 'fiducialDec'])"
   ]
  },
  {
   "cell_type": "markdown",
   "metadata": {},
   "source": [
    "^^ So we have 2 rectangular regions with the average depth within 0.0001 of the median survey depth."
   ]
  },
  {
   "cell_type": "code",
   "execution_count": 8,
   "metadata": {
    "collapsed": false
   },
   "outputs": [
    {
     "data": {
      "text/html": [
       "<div>\n",
       "<table border=\"1\" class=\"dataframe\">\n",
       "  <thead>\n",
       "    <tr style=\"text-align: right;\">\n",
       "      <th></th>\n",
       "      <th>0</th>\n",
       "    </tr>\n",
       "  </thead>\n",
       "  <tbody>\n",
       "    <tr>\n",
       "      <th>goodFiducialIDs</th>\n",
       "      <td>1447</td>\n",
       "    </tr>\n",
       "    <tr>\n",
       "      <th>DiffMeanMedian</th>\n",
       "      <td>8.51566e-05</td>\n",
       "    </tr>\n",
       "    <tr>\n",
       "      <th>DepthScatter</th>\n",
       "      <td>0.403503</td>\n",
       "    </tr>\n",
       "    <tr>\n",
       "      <th>fiducialRA</th>\n",
       "      <td>1.64132</td>\n",
       "    </tr>\n",
       "    <tr>\n",
       "      <th>fiducialDec</th>\n",
       "      <td>-0.496321</td>\n",
       "    </tr>\n",
       "    <tr>\n",
       "      <th>contigIDs</th>\n",
       "      <td>[1447, 1323, 1431, 1333]</td>\n",
       "    </tr>\n",
       "  </tbody>\n",
       "</table>\n",
       "</div>"
      ],
      "text/plain": [
       "                                        0\n",
       "goodFiducialIDs                      1447\n",
       "DiffMeanMedian                8.51566e-05\n",
       "DepthScatter                     0.403503\n",
       "fiducialRA                        1.64132\n",
       "fiducialDec                     -0.496321\n",
       "contigIDs        [1447, 1323, 1431, 1333]"
      ]
     },
     "execution_count": 8,
     "metadata": {},
     "output_type": "execute_result"
    }
   ],
   "source": [
    "pd.DataFrame([output_disc['goodFiducialIDs'],output_disc['diffMeanMedian'],\n",
    "             output_disc['scatterInDepth'], output_disc['fiducialRA'],\n",
    "             output_disc['fiducialDec'], output_disc['contigIDs']], \n",
    "             ['goodFiducialIDs', 'DiffMeanMedian', 'DepthScatter', 'fiducialRA' , 'fiducialDec',\n",
    "             'contigIDs'])"
   ]
  },
  {
   "cell_type": "markdown",
   "metadata": {},
   "source": [
    "^^ So we have only 1 circular region with the average depth within 0.0001 of the median survey depth."
   ]
  },
  {
   "cell_type": "markdown",
   "metadata": {},
   "source": [
    "### Check some things with the disc region."
   ]
  },
  {
   "cell_type": "code",
   "execution_count": 11,
   "metadata": {
    "collapsed": true
   },
   "outputs": [],
   "source": [
    "os.chdir(workDir)\n",
    "from intermediates import findRegionFOVs"
   ]
  },
  {
   "cell_type": "code",
   "execution_count": 12,
   "metadata": {
    "collapsed": false,
    "scrolled": true
   },
   "outputs": [
    {
     "name": "stdout",
     "output_type": "stream",
     "text": [
      "Help on function findRegionFOVs in module intermediates:\n",
      "\n",
      "findRegionFOVs(regionPixels, dither, simdata, nside=256)\n",
      "    Find the FOVs that corresponds to any HEALPix pixels in the region.\n",
      "    \n",
      "    Required Parameters\n",
      "    -------------------\n",
      "    * regionPixels: array: array containing the HEALPIx pixel numbers in the region of interest.\n",
      "    * dither: str: dither strategy to focus on.\n",
      "    * simdata: np.array: array containing OpSim columns (must have fieldID for here).\n",
      "    \n",
      "    Optional Parameters\n",
      "    -------------------\n",
      "    * nside: int: HEALPix resolution parameters. Default: 256\n",
      "\n"
     ]
    }
   ],
   "source": [
    "help(findRegionFOVs)"
   ]
  },
  {
   "cell_type": "code",
   "execution_count": 15,
   "metadata": {
    "collapsed": false
   },
   "outputs": [
    {
     "name": "stdout",
     "output_type": "stream",
     "text": [
      "Healpix slicer using NSIDE=256, approximate resolution 13.741946 arcminutes\n"
     ]
    },
    {
     "data": {
      "text/plain": [
       "array([1212, 1220, 1234, 1305, 1323, 1333, 1365, 1413, 1431, 1447, 1464,\n",
       "       1506, 1542, 1564, 1568])"
      ]
     },
     "execution_count": 15,
     "metadata": {},
     "output_type": "execute_result"
    }
   ],
   "source": [
    "findRegionFOVs(output_disc['regionPixels'][0], 'NoDither', simdata)"
   ]
  },
  {
   "cell_type": "code",
   "execution_count": 16,
   "metadata": {
    "collapsed": true
   },
   "outputs": [],
   "source": [
    "from plotFunctions import buildAndPlotRegion"
   ]
  },
  {
   "cell_type": "code",
   "execution_count": 17,
   "metadata": {
    "collapsed": false
   },
   "outputs": [
    {
     "name": "stdout",
     "output_type": "stream",
     "text": [
      "Help on function buildAndPlotRegion in module plotFunctions:\n",
      "\n",
      "buildAndPlotRegion(fID, simdata, coaddBundle, FOV_radius, pixels_in_FOV, focusDither=None, nside=256, disc=False)\n",
      "    Find the region (disc or rectangular) based on the specified field ID and plot it (full survey\n",
      "    region and a zoomed in version).\n",
      "    \n",
      "    Required Parameters\n",
      "    -------------------\n",
      "    * fID: int: fieldID for the FOV on which to base the region.\n",
      "    * simdata: np.array: array containing OpSim columns (must have fieldID, fieldRA, fieldDec).\n",
      "    * coaddBundle: dict: dictionary with keys= observing strategy names, pointing to corresponding\n",
      "                         to a metricBundle object.\n",
      "    * FOV_radius: float: radius of the FOV in radians.\n",
      "    * pixels_in_FOV: dict: dictionary with keys= dither strategy. Each key points to a dictionary with\n",
      "                           keys= field ID, pointing to the list of HEALPix pixels\n",
      "                           that fall in the FOV.\n",
      "    \n",
      "    Optional Parameters\n",
      "    -------------------\n",
      "    * focusDither: str: specify the observing strategy if only want to plot one.\n",
      "                        Options: 'NoDither', 'SequentialHexDitherPerNight'. Otherwise will use\n",
      "                        the keys in coaddBundle. Default: None\n",
      "    * nside: int: HEALPix resolution parameter. Defaut: 256\n",
      "    * disc: bool: set to True if want disc-like region; False for non-disc. Default: False\n",
      "\n"
     ]
    }
   ],
   "source": [
    "help(buildAndPlotRegion)"
   ]
  },
  {
   "cell_type": "code",
   "execution_count": 19,
   "metadata": {
    "collapsed": false
   },
   "outputs": [
    {
     "data": {
      "text/plain": [
       "'SequentialHexDitherPerNight'"
      ]
     },
     "execution_count": 19,
     "metadata": {},
     "output_type": "execute_result"
    }
   ],
   "source": [
    "focusDither"
   ]
  },
  {
   "cell_type": "code",
   "execution_count": 21,
   "metadata": {
    "collapsed": false,
    "scrolled": false
   },
   "outputs": [
    {
     "name": "stdout",
     "output_type": "stream",
     "text": [
      "Healpix slicer using NSIDE=256, approximate resolution 13.741946 arcminutes\n",
      "FID List for SequentialHexDitherPerNight: [1212, 1220, 1234, 1305, 1323, 1333, 1365, 1413, 1431, 1447, 1464, 1506, 1542, 1564, 1568]\n",
      "\n",
      "## Grey (masked) pixel was inputted in the query_ function.\n"
     ]
    },
    {
     "data": {
      "text/plain": [
       "<matplotlib.figure.Figure at 0x11c7b0510>"
      ]
     },
     "metadata": {},
     "output_type": "display_data"
    },
    {
     "data": {
      "image/png": "[encoded data removed]",
      "text/plain": [
       "<matplotlib.figure.Figure at 0x11c7b08d0>"
      ]
     },
     "metadata": {},
     "output_type": "display_data"
    },
    {
     "data": {
      "text/plain": [
       "<matplotlib.figure.Figure at 0x11a1c82d0>"
      ]
     },
     "metadata": {},
     "output_type": "display_data"
    },
    {
     "data": {
      "image/png": "[encoded data removed]",
      "text/plain": [
       "<matplotlib.figure.Figure at 0x12ca86fd0>"
      ]
     },
     "metadata": {},
     "output_type": "display_data"
    }
   ],
   "source": [
    "buildAndPlotRegion(output_disc['goodFiducialIDs'][0], simdata, coaddBundle, FOV_radius= 0.0305, \n",
    "                   pixels_in_FOV= pixels_in_FOV, \n",
    "                   focusDither= 'SequentialHexDitherPerNight', disc= True )"
   ]
  },
  {
   "cell_type": "code",
   "execution_count": null,
   "metadata": {
    "collapsed": true
   },
   "outputs": [],
   "source": []
  }
 ],
 "metadata": {
  "kernelspec": {
   "display_name": "Python 2",
   "language": "python",
   "name": "python2"
  },
  "language_info": {
   "codemirror_mode": {
    "name": "ipython",
    "version": 2
   },
   "file_extension": ".py",
   "mimetype": "text/x-python",
   "name": "python",
   "nbconvert_exporter": "python",
   "pygments_lexer": "ipython2",
   "version": "2.7.12"
  }
 },
 "nbformat": 4,
 "nbformat_minor": 0
}
