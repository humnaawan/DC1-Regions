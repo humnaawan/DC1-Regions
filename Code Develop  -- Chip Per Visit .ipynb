{
 "cells": [
  {
   "cell_type": "code",
   "execution_count": 1,
   "metadata": {
    "collapsed": true
   },
   "outputs": [],
   "source": [
    "import matplotlib.pyplot as plt\n",
    "%matplotlib inline\n",
    "import numpy as np\n",
    "import os\n",
    "import time\n",
    "import pandas as pd\n",
    "from intermediates import *"
   ]
  },
  {
   "cell_type": "code",
   "execution_count": 2,
   "metadata": {
    "collapsed": true
   },
   "outputs": [],
   "source": [
    "import lsst.sims.maf.slicers as slicers\n",
    "from lsst.obs.lsstSim import LsstSimMapper\n",
    "from lsst.sims.utils import ObservationMetaData\n",
    "from lsst.sims.coordUtils import chipNameFromRaDec"
   ]
  },
  {
   "cell_type": "code",
   "execution_count": 3,
   "metadata": {
    "collapsed": true
   },
   "outputs": [],
   "source": [
    "dbpath= '/Volumes/Transcend/minion_1016_sqlite.db'\n",
    "#simdata= getSimData(dbpath, 'r')   # get the OpSim columns"
   ]
  },
  {
   "cell_type": "code",
   "execution_count": 6,
   "metadata": {
    "collapsed": false
   },
   "outputs": [],
   "source": [
    "def findChips(dpbath, focusDither, focusID, \n",
    "              filterBand= 'r', disc= True):\n",
    "    \n",
    "    FOV_radius= 0.0305\n",
    "    nside= 512\n",
    "    printProgress('Getting simData ... ', highlight= True)\n",
    "    simdata= getSimData(dbpath, filterBand, ['expDate', 'obsHistID'])\n",
    "    \n",
    "    printProgress('Finding region pixels ... ', highlight= True)\n",
    "    centralRA, centralDec, regionPixels= findRegionPixels(focusID, simdata,\n",
    "                                                          nside, disc, FOV_radius)\n",
    "    totPixels= len(regionPixels)\n",
    "    printProgress('Total number of pixels: %f'%(totPixels))\n",
    "                  \n",
    "    # set up the slicer\n",
    "    hpSlicer= slicers.HealpixSlicer(nside= nside)\n",
    "    hpSlicer.setupSlicer(simdata)    # need to slice data?\n",
    "    \n",
    "    camera = LsstSimMapper().camera\n",
    "    chipNames= []\n",
    "    obsIDs= []\n",
    "    expDates= []\n",
    "    for p, pixel in enumerate(regionPixels):\n",
    "        pixRA, pixDec= hpSlicer._pix2radec(pixel)    # radians returned    \n",
    "        indObsInPixel = hpSlicer._sliceSimData(pixel)\n",
    "        \n",
    "        for index in indObsInPixel['idxs']:\n",
    "            # get data\n",
    "            # for identifying each visit\n",
    "            expDate= np.degrees(simdata[index]['expDate'])\n",
    "            obsID= np.degrees(simdata[index]['obsHistID'])\n",
    "            \n",
    "            # for chip finding\n",
    "            if (focusDither=='NoDither'):\n",
    "                pointingRA= np.degrees(simdata[index]['fieldRA'])\n",
    "                pointingDec= np.degrees(simdata[index]['fieldDec'])\n",
    "            else:\n",
    "                pointingRA= np.degrees(simdata[index]['ditheredRA'])\n",
    "                pointingDec= np.degrees(simdata[index]['ditheredDec'])\n",
    "            rotSkyPos= np.degrees(simdata[index]['rotSkyPos'])\n",
    "            expMJD= np.degrees(simdata[index]['expMJD'])\n",
    "            \n",
    "            # set up for the finding the chips\n",
    "            obs = ObservationMetaData(pointingRA= pointingRA, pointingDec= pointingDec,\n",
    "                                      rotSkyPos= rotSkyPos, mjd= expMJD)\n",
    "            chipsInVisit= chipNameFromRaDec(np.degrees(pixRA), np.degrees(pixDec),\n",
    "                                            camera=camera, obs_metadata=obs)\n",
    "            if chipsInVisit is not None:\n",
    "                obsIDs.append(obsID)\n",
    "                expDates.append(expDate)\n",
    "                chipNames.append(chipsInVisit)\n",
    "        percentDone= 100.*(p+1)/totPixels\n",
    "        \n",
    "        if (percentDone%.5<0.02):\n",
    "            printProgress('Percent pixels done: %f'%(percentDone))\n",
    "        if (percentDone>1.):\n",
    "            return [obsIDs, expDates, chipNames]"
   ]
  },
  {
   "cell_type": "code",
   "execution_count": 7,
   "metadata": {
    "collapsed": false,
    "scrolled": false
   },
   "outputs": [
    {
     "name": "stdout",
     "output_type": "stream",
     "text": [
      "\n",
      "#############################################\n",
      "## Getting simData ... \n",
      "\n",
      "#############################################\n",
      "## Finding region pixels ... \n",
      "#\n",
      "## Total number of pixels: 4568.000000\n",
      "Healpix slicer using NSIDE=512, approximate resolution 6.870973 arcminutes\n"
     ]
    },
    {
     "name": "stderr",
     "output_type": "stream",
     "text": [
      "WARNING: ErfaWarning: ERFA function \"taiutc\" yielded 1 of \"dubious year (Note 4)\" [astropy._erfa.core]\n",
      "/Users/Humna/lsst/DarwinX86/sims_utils/12.0-13-g6534730/python/lsst/sims/utils/ModifiedJulianDate.py:188: UTCtoUT1Warning: UTC is outside of IERS table for UT1-UTC.\n",
      "Returning UT1 = UTC for lack of a better idea\n",
      "This warning was caused by calling ModifiedJulianDate.dut1\n",
      "\n",
      "  category=UTCtoUT1Warning)\n"
     ]
    },
    {
     "name": "stdout",
     "output_type": "stream",
     "text": [
      "#\n",
      "## Percent pixels done: 0.503503\n",
      "#\n",
      "## Percent pixels done: 1.007005\n"
     ]
    }
   ],
   "source": [
    "obsIDs, expDates, chipNames= findChips(dbpath, '', 1447, \n",
    "                                       filterBand= 'r', disc= True)"
   ]
  },
  {
   "cell_type": "code",
   "execution_count": 9,
   "metadata": {
    "collapsed": false
   },
   "outputs": [
    {
     "data": {
      "text/html": [
       "<div>\n",
       "<table border=\"1\" class=\"dataframe\">\n",
       "  <thead>\n",
       "    <tr style=\"text-align: right;\">\n",
       "      <th></th>\n",
       "      <th>0</th>\n",
       "      <th>1</th>\n",
       "      <th>2</th>\n",
       "      <th>3</th>\n",
       "      <th>4</th>\n",
       "      <th>5</th>\n",
       "      <th>6</th>\n",
       "      <th>7</th>\n",
       "      <th>8</th>\n",
       "      <th>9</th>\n",
       "      <th>...</th>\n",
       "      <th>7684</th>\n",
       "      <th>7685</th>\n",
       "      <th>7686</th>\n",
       "      <th>7687</th>\n",
       "      <th>7688</th>\n",
       "      <th>7689</th>\n",
       "      <th>7690</th>\n",
       "      <th>7691</th>\n",
       "      <th>7692</th>\n",
       "      <th>7693</th>\n",
       "    </tr>\n",
       "  </thead>\n",
       "  <tbody>\n",
       "    <tr>\n",
       "      <th>obsHistID</th>\n",
       "      <td>1.24258e+08</td>\n",
       "      <td>1.14245e+08</td>\n",
       "      <td>2.61799e+07</td>\n",
       "      <td>1.14247e+08</td>\n",
       "      <td>1.2506e+08</td>\n",
       "      <td>7.44423e+07</td>\n",
       "      <td>8.15184e+07</td>\n",
       "      <td>2.61783e+07</td>\n",
       "      <td>1.34065e+07</td>\n",
       "      <td>7.44439e+07</td>\n",
       "      <td>...</td>\n",
       "      <td>1.00948e+08</td>\n",
       "      <td>8.69288e+07</td>\n",
       "      <td>7.37602e+07</td>\n",
       "      <td>2.76327e+07</td>\n",
       "      <td>4.03156e+07</td>\n",
       "      <td>8.68346e+07</td>\n",
       "      <td>7.19673e+07</td>\n",
       "      <td>1.36545e+08</td>\n",
       "      <td>9.62753e+07</td>\n",
       "      <td>1.25175e+08</td>\n",
       "    </tr>\n",
       "    <tr>\n",
       "      <th>expDate</th>\n",
       "      <td>1.58178e+10</td>\n",
       "      <td>1.45795e+10</td>\n",
       "      <td>3.26843e+09</td>\n",
       "      <td>1.45796e+10</td>\n",
       "      <td>1.59168e+10</td>\n",
       "      <td>9.47024e+09</td>\n",
       "      <td>1.04219e+10</td>\n",
       "      <td>3.26836e+09</td>\n",
       "      <td>1.59534e+09</td>\n",
       "      <td>9.47031e+09</td>\n",
       "      <td>...</td>\n",
       "      <td>1.29755e+10</td>\n",
       "      <td>1.11291e+10</td>\n",
       "      <td>9.38649e+09</td>\n",
       "      <td>3.48078e+09</td>\n",
       "      <td>5.13466e+09</td>\n",
       "      <td>1.11192e+10</td>\n",
       "      <td>9.18839e+09</td>\n",
       "      <td>1.75507e+10</td>\n",
       "      <td>1.24113e+10</td>\n",
       "      <td>1.59316e+10</td>\n",
       "    </tr>\n",
       "    <tr>\n",
       "      <th>Chips</th>\n",
       "      <td>R:2,1 S:1,2</td>\n",
       "      <td>R:0,1 S:1,0</td>\n",
       "      <td>R:2,0 S:1,1</td>\n",
       "      <td>R:1,0 S:0,1</td>\n",
       "      <td>R:0,3 S:1,1</td>\n",
       "      <td>R:0,1 S:2,0</td>\n",
       "      <td>R:1,4 S:2,1</td>\n",
       "      <td>R:2,0 S:1,1</td>\n",
       "      <td>R:2,3 S:0,2</td>\n",
       "      <td>R:0,1 S:2,0</td>\n",
       "      <td>...</td>\n",
       "      <td>R:4,1 S:1,2</td>\n",
       "      <td>R:2,2 S:2,0</td>\n",
       "      <td>R:2,1 S:2,0</td>\n",
       "      <td>R:1,2 S:0,2</td>\n",
       "      <td>R:3,2 S:1,0</td>\n",
       "      <td>R:2,3 S:1,1</td>\n",
       "      <td>R:3,4 S:1,1</td>\n",
       "      <td>R:3,0 S:0,2</td>\n",
       "      <td>R:3,0 S:1,2</td>\n",
       "      <td>R:3,3 S:0,2</td>\n",
       "    </tr>\n",
       "  </tbody>\n",
       "</table>\n",
       "<p>3 rows × 7694 columns</p>\n",
       "</div>"
      ],
      "text/plain": [
       "                  0            1            2            3            4     \\\n",
       "obsHistID  1.24258e+08  1.14245e+08  2.61799e+07  1.14247e+08   1.2506e+08   \n",
       "expDate    1.58178e+10  1.45795e+10  3.26843e+09  1.45796e+10  1.59168e+10   \n",
       "Chips      R:2,1 S:1,2  R:0,1 S:1,0  R:2,0 S:1,1  R:1,0 S:0,1  R:0,3 S:1,1   \n",
       "\n",
       "                  5            6            7            8            9     \\\n",
       "obsHistID  7.44423e+07  8.15184e+07  2.61783e+07  1.34065e+07  7.44439e+07   \n",
       "expDate    9.47024e+09  1.04219e+10  3.26836e+09  1.59534e+09  9.47031e+09   \n",
       "Chips      R:0,1 S:2,0  R:1,4 S:2,1  R:2,0 S:1,1  R:2,3 S:0,2  R:0,1 S:2,0   \n",
       "\n",
       "              ...              7684         7685         7686         7687  \\\n",
       "obsHistID     ...       1.00948e+08  8.69288e+07  7.37602e+07  2.76327e+07   \n",
       "expDate       ...       1.29755e+10  1.11291e+10  9.38649e+09  3.48078e+09   \n",
       "Chips         ...       R:4,1 S:1,2  R:2,2 S:2,0  R:2,1 S:2,0  R:1,2 S:0,2   \n",
       "\n",
       "                  7688         7689         7690         7691         7692  \\\n",
       "obsHistID  4.03156e+07  8.68346e+07  7.19673e+07  1.36545e+08  9.62753e+07   \n",
       "expDate    5.13466e+09  1.11192e+10  9.18839e+09  1.75507e+10  1.24113e+10   \n",
       "Chips      R:3,2 S:1,0  R:2,3 S:1,1  R:3,4 S:1,1  R:3,0 S:0,2  R:3,0 S:1,2   \n",
       "\n",
       "                  7693  \n",
       "obsHistID  1.25175e+08  \n",
       "expDate    1.59316e+10  \n",
       "Chips      R:3,3 S:0,2  \n",
       "\n",
       "[3 rows x 7694 columns]"
      ]
     },
     "execution_count": 9,
     "metadata": {},
     "output_type": "execute_result"
    }
   ],
   "source": [
    "pd.DataFrame([obsIDs, expDates, chipNames], ['obsHistID', 'expDate', 'Chips'])"
   ]
  },
  {
   "cell_type": "code",
   "execution_count": 10,
   "metadata": {
    "collapsed": false
   },
   "outputs": [
    {
     "data": {
      "text/plain": [
       "7694"
      ]
     },
     "execution_count": 10,
     "metadata": {},
     "output_type": "execute_result"
    }
   ],
   "source": [
    "len(chipNames)"
   ]
  },
  {
   "cell_type": "code",
   "execution_count": 12,
   "metadata": {
    "collapsed": false
   },
   "outputs": [
    {
     "data": {
      "text/plain": [
       "397"
      ]
     },
     "execution_count": 12,
     "metadata": {},
     "output_type": "execute_result"
    }
   ],
   "source": [
    "len(np.unique(expDates))"
   ]
  },
  {
   "cell_type": "code",
   "execution_count": null,
   "metadata": {
    "collapsed": true
   },
   "outputs": [],
   "source": []
  }
 ],
 "metadata": {
  "kernelspec": {
   "display_name": "Python 2",
   "language": "python",
   "name": "python2"
  },
  "language_info": {
   "codemirror_mode": {
    "name": "ipython",
    "version": 2
   },
   "file_extension": ".py",
   "mimetype": "text/x-python",
   "name": "python",
   "nbconvert_exporter": "python",
   "pygments_lexer": "ipython2",
   "version": "2.7.12"
  }
 },
 "nbformat": 4,
 "nbformat_minor": 0
}
