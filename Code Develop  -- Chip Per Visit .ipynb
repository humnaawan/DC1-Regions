{
 "cells": [
  {
   "cell_type": "code",
   "execution_count": 1,
   "metadata": {
    "collapsed": true
   },
   "outputs": [],
   "source": [
    "import matplotlib.pyplot as plt\n",
    "%matplotlib inline\n",
    "import numpy as np\n",
    "import os\n",
    "import time\n",
    "import pandas as pd\n",
    "from intermediates import *"
   ]
  },
  {
   "cell_type": "code",
   "execution_count": 2,
   "metadata": {
    "collapsed": true
   },
   "outputs": [],
   "source": [
    "import lsst.sims.maf.slicers as slicers\n",
    "from lsst.obs.lsstSim import LsstSimMapper\n",
    "from lsst.sims.utils import ObservationMetaData\n",
    "from lsst.sims.coordUtils import chipNameFromRaDec"
   ]
  },
  {
   "cell_type": "code",
   "execution_count": 3,
   "metadata": {
    "collapsed": false
   },
   "outputs": [],
   "source": [
    "#help(ObservationMetaData)\n",
    "#help(chipNameFromRaDec)"
   ]
  },
  {
   "cell_type": "code",
   "execution_count": 4,
   "metadata": {
    "collapsed": true
   },
   "outputs": [],
   "source": [
    "dbpath= '/Volumes/Transcend/minion_1016_sqlite.db'\n",
    "#simdata= getSimData(dbpath, 'r')   # get the OpSim columns"
   ]
  },
  {
   "cell_type": "code",
   "execution_count": 5,
   "metadata": {
    "collapsed": false
   },
   "outputs": [],
   "source": [
    "def findChips(dpbath, focusDither, focusID, \n",
    "              filterBand= 'r', disc= True):\n",
    "    \n",
    "    FOV_radius= 0.0305\n",
    "    nside= 512\n",
    "    printProgress('Getting simData ... ', highlight= True)\n",
    "    simdata= getSimData(dbpath, filterBand, ['expDate', 'obsHistID'])\n",
    "    \n",
    "    printProgress('Finding region pixels ... ', highlight= True)\n",
    "    centralRA, centralDec, regionPixels= findRegionPixels(focusID, simdata,\n",
    "                                                          nside, disc, FOV_radius)\n",
    "    totPixels= len(regionPixels)\n",
    "    printProgress('Total number of pixels: %d'%(totPixels))\n",
    "                  \n",
    "    # set up the slicer\n",
    "    hpSlicer= slicers.HealpixSlicer(nside= nside)\n",
    "    hpSlicer.setupSlicer(simdata)    # need to slice data?\n",
    "    \n",
    "    camera = LsstSimMapper().camera\n",
    "    chipNames= []\n",
    "    obsIDs= []\n",
    "    expDates= []\n",
    "    fIDs= []\n",
    "    \n",
    "    prevPercent= 0.\n",
    "    for p, pixel in enumerate(regionPixels):\n",
    "        pixRA, pixDec= hpSlicer._pix2radec(pixel)    # radians returned    \n",
    "        indObsInPixel = hpSlicer._sliceSimData(pixel)\n",
    "        \n",
    "        for index in indObsInPixel['idxs']:\n",
    "            # get data\n",
    "            # for identifying each visit\n",
    "            expDate= simdata[index]['expDate']\n",
    "            obsID= simdata[index]['obsHistID']\n",
    "            fID= simdata[index]['fieldID']\n",
    "            \n",
    "            # for chip finding\n",
    "            if (focusDither=='NoDither'):\n",
    "                pointingRA= np.degrees(simdata[index]['fieldRA'])   # need in degres\n",
    "                pointingDec= np.degrees(simdata[index]['fieldDec']) # need in degres\n",
    "            else:\n",
    "                pointingRA= np.degrees(simdata[index]['ditheredRA']) # need in degres\n",
    "                pointingDec= np.degrees(simdata[index]['ditheredDec']) # need in degres\n",
    "            rotSkyPos= np.degrees(simdata[index]['rotSkyPos']) # need in degres\n",
    "            expMJD= simdata[index]['expMJD']\n",
    "            \n",
    "            # set up for the finding the chips\n",
    "            obs = ObservationMetaData(pointingRA= pointingRA, pointingDec= pointingDec,\n",
    "                                      rotSkyPos= rotSkyPos, mjd= expMJD)\n",
    "            chipsInVisit= chipNameFromRaDec(np.degrees(pixRA), np.degrees(pixDec),\n",
    "                                            camera=camera, obs_metadata=obs)\n",
    "            if chipsInVisit is not None:\n",
    "                obsIDs.append(obsID)\n",
    "                expDates.append(expDate)\n",
    "                chipNames.append(chipsInVisit)\n",
    "                fIDs.append(fID)\n",
    "        percentDone= 100.*(p+1)/totPixels\n",
    "        \n",
    "        delPercent= percentDone-prevPercent\n",
    "        if (delPercent>5):\n",
    "            printProgress('Percent pixels done: %f'%(percentDone))\n",
    "            prevPercent= percentDone\n",
    "        #if (percentDone>1.):\n",
    "        #    return [np.array(obsIDs), np.array(expDates), np.array(fIDs), np.array(chipNames)]\n",
    "    return [np.array(obsIDs), np.array(expDates), np.array(fIDs), np.array(chipNames)]"
   ]
  },
  {
   "cell_type": "code",
   "execution_count": 6,
   "metadata": {
    "collapsed": false,
    "scrolled": false
   },
   "outputs": [
    {
     "name": "stdout",
     "output_type": "stream",
     "text": [
      "\n",
      "#############################################\n",
      "## Getting simData ... \n",
      "\n",
      "#############################################\n",
      "## Finding region pixels ... \n",
      "#\n",
      "## Total number of pixels: 4568\n",
      "Healpix slicer using NSIDE=512, approximate resolution 6.870973 arcminutes\n"
     ]
    },
    {
     "name": "stderr",
     "output_type": "stream",
     "text": [
      "WARNING: ErfaWarning: ERFA function \"taiutc\" yielded 1 of \"dubious year (Note 4)\" [astropy._erfa.core]\n",
      "/Users/Humna/lsst/DarwinX86/sims_utils/12.0-13-g6534730/python/lsst/sims/utils/ModifiedJulianDate.py:188: UTCtoUT1Warning: UTC is outside of IERS table for UT1-UTC.\n",
      "Returning UT1 = UTC for lack of a better idea\n",
      "This warning was caused by calling ModifiedJulianDate.dut1\n",
      "\n",
      "  category=UTCtoUT1Warning)\n"
     ]
    },
    {
     "name": "stdout",
     "output_type": "stream",
     "text": [
      "#\n",
      "## Percent pixels done: 5.013135\n"
     ]
    },
    {
     "name": "stderr",
     "output_type": "stream",
     "text": [
      "/Users/Humna/lsst/DarwinX86/sims_coordUtils/12.0-4-g7de6cfa+29/python/lsst/sims/coordUtils/CameraUtils.py:325: MultipleChipWarning: An object has landed on multiple chips.  You asked for this not to happen.\n",
      "We will return only one of the chip names.  If you want both, try re-running with the kwarg allow_multiple_chips=True.\n",
      "Offending chip names were ['R:4,0 S:0,2,A', 'R:4,0 S:0,2,B']\n",
      "Offending pupil coordinate point was 0.019390737213 -0.020521799440\n",
      "\n",
      "  category=MultipleChipWarning)\n"
     ]
    },
    {
     "name": "stdout",
     "output_type": "stream",
     "text": [
      "#\n",
      "## Percent pixels done: 10.026270\n",
      "#\n",
      "## Percent pixels done: 15.039405\n",
      "#\n",
      "## Percent pixels done: 20.052539\n",
      "#\n",
      "## Percent pixels done: 25.065674\n",
      "#\n",
      "## Percent pixels done: 30.078809\n",
      "#\n",
      "## Percent pixels done: 35.091944\n",
      "#\n",
      "## Percent pixels done: 40.105079\n",
      "#\n",
      "## Percent pixels done: 45.118214\n",
      "#\n",
      "## Percent pixels done: 50.131349\n",
      "#\n",
      "## Percent pixels done: 55.144483\n",
      "#\n",
      "## Percent pixels done: 60.157618\n",
      "#\n",
      "## Percent pixels done: 65.170753\n",
      "#\n",
      "## Percent pixels done: 70.183888\n"
     ]
    },
    {
     "name": "stderr",
     "output_type": "stream",
     "text": [
      "/Users/Humna/lsst/DarwinX86/sims_coordUtils/12.0-4-g7de6cfa+29/python/lsst/sims/coordUtils/CameraUtils.py:325: MultipleChipWarning: An object has landed on multiple chips.  You asked for this not to happen.\n",
      "We will return only one of the chip names.  If you want both, try re-running with the kwarg allow_multiple_chips=True.\n",
      "Offending chip names were ['R:4,0 S:0,2,A', 'R:4,0 S:0,2,B']\n",
      "Offending pupil coordinate point was 0.021111644894 -0.020519322438\n",
      "\n",
      "  category=MultipleChipWarning)\n"
     ]
    },
    {
     "name": "stdout",
     "output_type": "stream",
     "text": [
      "#\n",
      "## Percent pixels done: 75.197023\n",
      "#\n",
      "## Percent pixels done: 80.210158\n",
      "#\n",
      "## Percent pixels done: 85.223292\n",
      "#\n",
      "## Percent pixels done: 90.236427\n",
      "#\n",
      "## Percent pixels done: 95.249562\n",
      "#\n",
      "## Time Taken: 13487.972744\n"
     ]
    }
   ],
   "source": [
    "startTime= time.time()\n",
    "obsIDs, expDates, fIDs, chipNames= findChips(dbpath, '', 1447,\n",
    "                                              filterBand= 'r', disc= True)\n",
    "printProgress('Time Taken: %f'%(time.time()-startTime))"
   ]
  },
  {
   "cell_type": "code",
   "execution_count": 7,
   "metadata": {
    "collapsed": false
   },
   "outputs": [
    {
     "data": {
      "text/html": [
       "<div>\n",
       "<table border=\"1\" class=\"dataframe\">\n",
       "  <thead>\n",
       "    <tr style=\"text-align: right;\">\n",
       "      <th></th>\n",
       "      <th>0</th>\n",
       "      <th>1</th>\n",
       "      <th>2</th>\n",
       "      <th>3</th>\n",
       "      <th>4</th>\n",
       "      <th>5</th>\n",
       "      <th>6</th>\n",
       "      <th>7</th>\n",
       "      <th>8</th>\n",
       "      <th>9</th>\n",
       "      <th>...</th>\n",
       "      <th>660345</th>\n",
       "      <th>660346</th>\n",
       "      <th>660347</th>\n",
       "      <th>660348</th>\n",
       "      <th>660349</th>\n",
       "      <th>660350</th>\n",
       "      <th>660351</th>\n",
       "      <th>660352</th>\n",
       "      <th>660353</th>\n",
       "      <th>660354</th>\n",
       "    </tr>\n",
       "  </thead>\n",
       "  <tbody>\n",
       "    <tr>\n",
       "      <th>obsHistID</th>\n",
       "      <td>2168708</td>\n",
       "      <td>1499774</td>\n",
       "      <td>1993954</td>\n",
       "      <td>456925</td>\n",
       "      <td>1993992</td>\n",
       "      <td>2182701</td>\n",
       "      <td>1299264</td>\n",
       "      <td>1700145</td>\n",
       "      <td>1499816</td>\n",
       "      <td>1422764</td>\n",
       "      <td>...</td>\n",
       "      <td>1195502</td>\n",
       "      <td>985809</td>\n",
       "      <td>482316</td>\n",
       "      <td>996583</td>\n",
       "      <td>237420</td>\n",
       "      <td>2396114</td>\n",
       "      <td>1487703</td>\n",
       "      <td>954630</td>\n",
       "      <td>777491</td>\n",
       "      <td>703076</td>\n",
       "    </tr>\n",
       "    <tr>\n",
       "      <th>expDate</th>\n",
       "      <td>276072453</td>\n",
       "      <td>192253838</td>\n",
       "      <td>254460584</td>\n",
       "      <td>57044790</td>\n",
       "      <td>254462202</td>\n",
       "      <td>277800203</td>\n",
       "      <td>165286880</td>\n",
       "      <td>219217178</td>\n",
       "      <td>192255814</td>\n",
       "      <td>181896202</td>\n",
       "      <td>...</td>\n",
       "      <td>151308376</td>\n",
       "      <td>125462727</td>\n",
       "      <td>60752445</td>\n",
       "      <td>126855059</td>\n",
       "      <td>28266491</td>\n",
       "      <td>308216066</td>\n",
       "      <td>190706460</td>\n",
       "      <td>120723136</td>\n",
       "      <td>98854581</td>\n",
       "      <td>89538853</td>\n",
       "    </tr>\n",
       "    <tr>\n",
       "      <th>fIDs</th>\n",
       "      <td>1564</td>\n",
       "      <td>1568</td>\n",
       "      <td>1568</td>\n",
       "      <td>1568</td>\n",
       "      <td>1568</td>\n",
       "      <td>1568</td>\n",
       "      <td>1568</td>\n",
       "      <td>1568</td>\n",
       "      <td>1568</td>\n",
       "      <td>1568</td>\n",
       "      <td>...</td>\n",
       "      <td>1220</td>\n",
       "      <td>1220</td>\n",
       "      <td>1220</td>\n",
       "      <td>1220</td>\n",
       "      <td>1220</td>\n",
       "      <td>1220</td>\n",
       "      <td>1220</td>\n",
       "      <td>1220</td>\n",
       "      <td>1220</td>\n",
       "      <td>1220</td>\n",
       "    </tr>\n",
       "    <tr>\n",
       "      <th>Chips</th>\n",
       "      <td>R:2,1 S:0,2</td>\n",
       "      <td>R:2,1 S:2,2</td>\n",
       "      <td>R:0,2 S:0,0</td>\n",
       "      <td>R:1,0 S:1,2</td>\n",
       "      <td>R:0,1 S:1,0</td>\n",
       "      <td>R:1,4 S:0,0</td>\n",
       "      <td>R:0,1 S:1,2</td>\n",
       "      <td>R:1,3 S:1,1</td>\n",
       "      <td>R:2,1 S:2,2</td>\n",
       "      <td>R:2,4 S:2,1</td>\n",
       "      <td>...</td>\n",
       "      <td>R:0,3 S:2,2</td>\n",
       "      <td>R:3,3 S:1,1</td>\n",
       "      <td>R:3,4 S:0,2</td>\n",
       "      <td>R:0,1 S:2,2</td>\n",
       "      <td>R:3,4 S:1,0</td>\n",
       "      <td>R:1,4 S:1,1</td>\n",
       "      <td>R:2,0 S:1,1</td>\n",
       "      <td>R:1,4 S:0,1</td>\n",
       "      <td>R:2,1 S:1,2</td>\n",
       "      <td>R:4,1 S:1,2</td>\n",
       "    </tr>\n",
       "  </tbody>\n",
       "</table>\n",
       "<p>4 rows × 660355 columns</p>\n",
       "</div>"
      ],
      "text/plain": [
       "                0            1            2            3            4       \\\n",
       "obsHistID      2168708      1499774      1993954       456925      1993992   \n",
       "expDate      276072453    192253838    254460584     57044790    254462202   \n",
       "fIDs              1564         1568         1568         1568         1568   \n",
       "Chips      R:2,1 S:0,2  R:2,1 S:2,2  R:0,2 S:0,0  R:1,0 S:1,2  R:0,1 S:1,0   \n",
       "\n",
       "                5            6            7            8            9       \\\n",
       "obsHistID      2182701      1299264      1700145      1499816      1422764   \n",
       "expDate      277800203    165286880    219217178    192255814    181896202   \n",
       "fIDs              1568         1568         1568         1568         1568   \n",
       "Chips      R:1,4 S:0,0  R:0,1 S:1,2  R:1,3 S:1,1  R:2,1 S:2,2  R:2,4 S:2,1   \n",
       "\n",
       "              ...            660345       660346       660347       660348  \\\n",
       "obsHistID     ...           1195502       985809       482316       996583   \n",
       "expDate       ...         151308376    125462727     60752445    126855059   \n",
       "fIDs          ...              1220         1220         1220         1220   \n",
       "Chips         ...       R:0,3 S:2,2  R:3,3 S:1,1  R:3,4 S:0,2  R:0,1 S:2,2   \n",
       "\n",
       "                660349       660350       660351       660352       660353  \\\n",
       "obsHistID       237420      2396114      1487703       954630       777491   \n",
       "expDate       28266491    308216066    190706460    120723136     98854581   \n",
       "fIDs              1220         1220         1220         1220         1220   \n",
       "Chips      R:3,4 S:1,0  R:1,4 S:1,1  R:2,0 S:1,1  R:1,4 S:0,1  R:2,1 S:1,2   \n",
       "\n",
       "                660354  \n",
       "obsHistID       703076  \n",
       "expDate       89538853  \n",
       "fIDs              1220  \n",
       "Chips      R:4,1 S:1,2  \n",
       "\n",
       "[4 rows x 660355 columns]"
      ]
     },
     "execution_count": 7,
     "metadata": {},
     "output_type": "execute_result"
    }
   ],
   "source": [
    "pd.DataFrame([obsIDs, expDates, fIDs, chipNames], ['obsHistID', 'expDate', 'fIDs', 'Chips'])"
   ]
  },
  {
   "cell_type": "code",
   "execution_count": 8,
   "metadata": {
    "collapsed": false
   },
   "outputs": [
    {
     "name": "stdout",
     "output_type": "stream",
     "text": [
      "660355\n",
      "205\n",
      "2779\n",
      "2779\n"
     ]
    }
   ],
   "source": [
    "print len(chipNames)\n",
    "print len(np.unique(chipNames))\n",
    "print len(np.unique(expDates))\n",
    "print len(np.unique(obsIDs))"
   ]
  },
  {
   "cell_type": "code",
   "execution_count": 9,
   "metadata": {
    "collapsed": false
   },
   "outputs": [],
   "source": [
    "obsIDsList, expDatesList, fIDsList, chipNamesList= [], [], [], []\n",
    "\n",
    "for obs in np.unique(obsIDs):\n",
    "    obsIDsList.append(obs)\n",
    "    ind= np.where(obsIDs==obs)[0]\n",
    "    \n",
    "    expDatesList.append(np.unique(expDates[ind]))\n",
    "    \n",
    "    fIDsList.append(np.unique(fIDs[ind]))\n",
    "    chipNamesList.append(np.unique(chipNames[ind]))"
   ]
  },
  {
   "cell_type": "code",
   "execution_count": 10,
   "metadata": {
    "collapsed": false
   },
   "outputs": [
    {
     "data": {
      "text/plain": [
       "2779"
      ]
     },
     "execution_count": 10,
     "metadata": {},
     "output_type": "execute_result"
    }
   ],
   "source": [
    "len(obsIDsList)"
   ]
  },
  {
   "cell_type": "code",
   "execution_count": 11,
   "metadata": {
    "collapsed": false
   },
   "outputs": [
    {
     "data": {
      "text/html": [
       "<div>\n",
       "<table border=\"1\" class=\"dataframe\">\n",
       "  <thead>\n",
       "    <tr style=\"text-align: right;\">\n",
       "      <th></th>\n",
       "      <th>0</th>\n",
       "      <th>1</th>\n",
       "      <th>2</th>\n",
       "      <th>3</th>\n",
       "      <th>4</th>\n",
       "      <th>5</th>\n",
       "      <th>6</th>\n",
       "      <th>7</th>\n",
       "      <th>8</th>\n",
       "      <th>9</th>\n",
       "      <th>...</th>\n",
       "      <th>2769</th>\n",
       "      <th>2770</th>\n",
       "      <th>2771</th>\n",
       "      <th>2772</th>\n",
       "      <th>2773</th>\n",
       "      <th>2774</th>\n",
       "      <th>2775</th>\n",
       "      <th>2776</th>\n",
       "      <th>2777</th>\n",
       "      <th>2778</th>\n",
       "    </tr>\n",
       "  </thead>\n",
       "  <tbody>\n",
       "    <tr>\n",
       "      <th>obsHistID</th>\n",
       "      <td>40336</td>\n",
       "      <td>40337</td>\n",
       "      <td>40338</td>\n",
       "      <td>40345</td>\n",
       "      <td>40366</td>\n",
       "      <td>40367</td>\n",
       "      <td>40368</td>\n",
       "      <td>40375</td>\n",
       "      <td>193115</td>\n",
       "      <td>193156</td>\n",
       "      <td>...</td>\n",
       "      <td>2440035</td>\n",
       "      <td>2440067</td>\n",
       "      <td>2440068</td>\n",
       "      <td>2440082</td>\n",
       "      <td>2440083</td>\n",
       "      <td>2440095</td>\n",
       "      <td>2441917</td>\n",
       "      <td>2441931</td>\n",
       "      <td>2441963</td>\n",
       "      <td>2441975</td>\n",
       "    </tr>\n",
       "    <tr>\n",
       "      <th>expDate</th>\n",
       "      <td>[4673449]</td>\n",
       "      <td>[4673487]</td>\n",
       "      <td>[4673526]</td>\n",
       "      <td>[4673806]</td>\n",
       "      <td>[4674632]</td>\n",
       "      <td>[4674670]</td>\n",
       "      <td>[4674709]</td>\n",
       "      <td>[4674986]</td>\n",
       "      <td>[22405149]</td>\n",
       "      <td>[22406794]</td>\n",
       "      <td>...</td>\n",
       "      <td>[314253049]</td>\n",
       "      <td>[314254567]</td>\n",
       "      <td>[314254614]</td>\n",
       "      <td>[314255232]</td>\n",
       "      <td>[314255281]</td>\n",
       "      <td>[314256084]</td>\n",
       "      <td>[314506587]</td>\n",
       "      <td>[314507151]</td>\n",
       "      <td>[314508445]</td>\n",
       "      <td>[314508970]</td>\n",
       "    </tr>\n",
       "    <tr>\n",
       "      <th>fIDs</th>\n",
       "      <td>[1305]</td>\n",
       "      <td>[1323]</td>\n",
       "      <td>[1333]</td>\n",
       "      <td>[1212]</td>\n",
       "      <td>[1305]</td>\n",
       "      <td>[1323]</td>\n",
       "      <td>[1333]</td>\n",
       "      <td>[1212]</td>\n",
       "      <td>[1305]</td>\n",
       "      <td>[1305]</td>\n",
       "      <td>...</td>\n",
       "      <td>[1212]</td>\n",
       "      <td>[1564]</td>\n",
       "      <td>[1568]</td>\n",
       "      <td>[1234]</td>\n",
       "      <td>[1220]</td>\n",
       "      <td>[1212]</td>\n",
       "      <td>[1542]</td>\n",
       "      <td>[1305]</td>\n",
       "      <td>[1542]</td>\n",
       "      <td>[1305]</td>\n",
       "    </tr>\n",
       "    <tr>\n",
       "      <th>Chips</th>\n",
       "      <td>[R:1,1 S:2,1, R:1,1 S:2,2, R:1,2 S:2,0, R:2,1 ...</td>\n",
       "      <td>[R:1,0 S:2,1, R:1,0 S:2,2, R:1,1 S:2,0, R:1,1 ...</td>\n",
       "      <td>[R:1,0 S:2,0, R:1,0 S:2,1, R:1,0 S:2,2, R:1,1 ...</td>\n",
       "      <td>[R:3,3 S:1,0, R:3,3 S:1,1, R:3,3 S:1,2, R:3,3 ...</td>\n",
       "      <td>[R:1,1 S:2,2, R:1,2 S:2,0, R:2,1 S:0,1, R:2,1 ...</td>\n",
       "      <td>[R:1,0 S:2,1, R:1,0 S:2,2, R:1,1 S:2,0, R:1,1 ...</td>\n",
       "      <td>[R:1,0 S:2,1, R:1,0 S:2,2, R:1,1 S:2,0, R:1,1 ...</td>\n",
       "      <td>[R:3,3 S:1,0, R:3,3 S:1,1, R:3,3 S:1,2, R:3,3 ...</td>\n",
       "      <td>[R:0,0 S:2,1, R:1,0 S:0,0, R:1,0 S:0,1, R:1,0 ...</td>\n",
       "      <td>[R:0,0 S:2,1, R:1,0 S:0,0, R:1,0 S:0,1, R:1,0 ...</td>\n",
       "      <td>...</td>\n",
       "      <td>[R:0,1 S:0,1, R:0,1 S:0,2, R:0,1 S:1,1, R:0,1 ...</td>\n",
       "      <td>[R:2,0 S:2,0, R:2,0 S:2,1, R:3,0 S:0,0, R:3,0 ...</td>\n",
       "      <td>[R:3,0 S:0,0, R:3,0 S:0,1, R:3,0 S:1,0, R:3,0 ...</td>\n",
       "      <td>[R:1,3 S:2,0, R:1,3 S:2,1, R:1,3 S:2,2, R:2,1 ...</td>\n",
       "      <td>[R:0,2 S:0,2, R:0,2 S:1,0, R:0,2 S:1,1, R:0,2 ...</td>\n",
       "      <td>[R:2,1 S:1,2, R:2,1 S:2,1, R:2,1 S:2,2, R:2,2 ...</td>\n",
       "      <td>[R:4,3 S:2,2]</td>\n",
       "      <td>[R:1,1 S:0,2, R:1,1 S:1,1, R:1,1 S:1,2, R:1,1 ...</td>\n",
       "      <td>[R:4,3 S:2,2, R:4,4 S:1,0]</td>\n",
       "      <td>[R:0,2 S:2,0, R:1,1 S:0,2, R:1,1 S:1,1, R:1,1 ...</td>\n",
       "    </tr>\n",
       "  </tbody>\n",
       "</table>\n",
       "<p>4 rows × 2779 columns</p>\n",
       "</div>"
      ],
      "text/plain": [
       "                                                        0     \\\n",
       "obsHistID                                              40336   \n",
       "expDate                                            [4673449]   \n",
       "fIDs                                                  [1305]   \n",
       "Chips      [R:1,1 S:2,1, R:1,1 S:2,2, R:1,2 S:2,0, R:2,1 ...   \n",
       "\n",
       "                                                        1     \\\n",
       "obsHistID                                              40337   \n",
       "expDate                                            [4673487]   \n",
       "fIDs                                                  [1323]   \n",
       "Chips      [R:1,0 S:2,1, R:1,0 S:2,2, R:1,1 S:2,0, R:1,1 ...   \n",
       "\n",
       "                                                        2     \\\n",
       "obsHistID                                              40338   \n",
       "expDate                                            [4673526]   \n",
       "fIDs                                                  [1333]   \n",
       "Chips      [R:1,0 S:2,0, R:1,0 S:2,1, R:1,0 S:2,2, R:1,1 ...   \n",
       "\n",
       "                                                        3     \\\n",
       "obsHistID                                              40345   \n",
       "expDate                                            [4673806]   \n",
       "fIDs                                                  [1212]   \n",
       "Chips      [R:3,3 S:1,0, R:3,3 S:1,1, R:3,3 S:1,2, R:3,3 ...   \n",
       "\n",
       "                                                        4     \\\n",
       "obsHistID                                              40366   \n",
       "expDate                                            [4674632]   \n",
       "fIDs                                                  [1305]   \n",
       "Chips      [R:1,1 S:2,2, R:1,2 S:2,0, R:2,1 S:0,1, R:2,1 ...   \n",
       "\n",
       "                                                        5     \\\n",
       "obsHistID                                              40367   \n",
       "expDate                                            [4674670]   \n",
       "fIDs                                                  [1323]   \n",
       "Chips      [R:1,0 S:2,1, R:1,0 S:2,2, R:1,1 S:2,0, R:1,1 ...   \n",
       "\n",
       "                                                        6     \\\n",
       "obsHistID                                              40368   \n",
       "expDate                                            [4674709]   \n",
       "fIDs                                                  [1333]   \n",
       "Chips      [R:1,0 S:2,1, R:1,0 S:2,2, R:1,1 S:2,0, R:1,1 ...   \n",
       "\n",
       "                                                        7     \\\n",
       "obsHistID                                              40375   \n",
       "expDate                                            [4674986]   \n",
       "fIDs                                                  [1212]   \n",
       "Chips      [R:3,3 S:1,0, R:3,3 S:1,1, R:3,3 S:1,2, R:3,3 ...   \n",
       "\n",
       "                                                        8     \\\n",
       "obsHistID                                             193115   \n",
       "expDate                                           [22405149]   \n",
       "fIDs                                                  [1305]   \n",
       "Chips      [R:0,0 S:2,1, R:1,0 S:0,0, R:1,0 S:0,1, R:1,0 ...   \n",
       "\n",
       "                                                        9     \\\n",
       "obsHistID                                             193156   \n",
       "expDate                                           [22406794]   \n",
       "fIDs                                                  [1305]   \n",
       "Chips      [R:0,0 S:2,1, R:1,0 S:0,0, R:1,0 S:0,1, R:1,0 ...   \n",
       "\n",
       "                                 ...                          \\\n",
       "obsHistID                        ...                           \n",
       "expDate                          ...                           \n",
       "fIDs                             ...                           \n",
       "Chips                            ...                           \n",
       "\n",
       "                                                        2769  \\\n",
       "obsHistID                                            2440035   \n",
       "expDate                                          [314253049]   \n",
       "fIDs                                                  [1212]   \n",
       "Chips      [R:0,1 S:0,1, R:0,1 S:0,2, R:0,1 S:1,1, R:0,1 ...   \n",
       "\n",
       "                                                        2770  \\\n",
       "obsHistID                                            2440067   \n",
       "expDate                                          [314254567]   \n",
       "fIDs                                                  [1564]   \n",
       "Chips      [R:2,0 S:2,0, R:2,0 S:2,1, R:3,0 S:0,0, R:3,0 ...   \n",
       "\n",
       "                                                        2771  \\\n",
       "obsHistID                                            2440068   \n",
       "expDate                                          [314254614]   \n",
       "fIDs                                                  [1568]   \n",
       "Chips      [R:3,0 S:0,0, R:3,0 S:0,1, R:3,0 S:1,0, R:3,0 ...   \n",
       "\n",
       "                                                        2772  \\\n",
       "obsHistID                                            2440082   \n",
       "expDate                                          [314255232]   \n",
       "fIDs                                                  [1234]   \n",
       "Chips      [R:1,3 S:2,0, R:1,3 S:2,1, R:1,3 S:2,2, R:2,1 ...   \n",
       "\n",
       "                                                        2773  \\\n",
       "obsHistID                                            2440083   \n",
       "expDate                                          [314255281]   \n",
       "fIDs                                                  [1220]   \n",
       "Chips      [R:0,2 S:0,2, R:0,2 S:1,0, R:0,2 S:1,1, R:0,2 ...   \n",
       "\n",
       "                                                        2774           2775  \\\n",
       "obsHistID                                            2440095        2441917   \n",
       "expDate                                          [314256084]    [314506587]   \n",
       "fIDs                                                  [1212]         [1542]   \n",
       "Chips      [R:2,1 S:1,2, R:2,1 S:2,1, R:2,1 S:2,2, R:2,2 ...  [R:4,3 S:2,2]   \n",
       "\n",
       "                                                        2776  \\\n",
       "obsHistID                                            2441931   \n",
       "expDate                                          [314507151]   \n",
       "fIDs                                                  [1305]   \n",
       "Chips      [R:1,1 S:0,2, R:1,1 S:1,1, R:1,1 S:1,2, R:1,1 ...   \n",
       "\n",
       "                                 2777  \\\n",
       "obsHistID                     2441963   \n",
       "expDate                   [314508445]   \n",
       "fIDs                           [1542]   \n",
       "Chips      [R:4,3 S:2,2, R:4,4 S:1,0]   \n",
       "\n",
       "                                                        2778  \n",
       "obsHistID                                            2441975  \n",
       "expDate                                          [314508970]  \n",
       "fIDs                                                  [1305]  \n",
       "Chips      [R:0,2 S:2,0, R:1,1 S:0,2, R:1,1 S:1,1, R:1,1 ...  \n",
       "\n",
       "[4 rows x 2779 columns]"
      ]
     },
     "execution_count": 11,
     "metadata": {},
     "output_type": "execute_result"
    }
   ],
   "source": [
    "pd.DataFrame([obsIDsList, expDatesList, fIDsList, chipNamesList], ['obsHistID', 'expDate', 'fIDs', 'Chips'])"
   ]
  },
  {
   "cell_type": "code",
   "execution_count": 12,
   "metadata": {
    "collapsed": true
   },
   "outputs": [],
   "source": [
    "import pickle\n",
    "\n",
    "dataToSave = {'obsHistID': obsIDsList, 'expDate': expDatesList, 'fIDs': fIDsList, 'chipNames': chipNamesList}\n",
    "\n",
    "with open('chipPerVisitData.pickle', 'wb') as handle:\n",
    "    pickle.dump(dataToSave, handle, protocol=pickle.HIGHEST_PROTOCOL)"
   ]
  },
  {
   "cell_type": "code",
   "execution_count": 13,
   "metadata": {
    "collapsed": true
   },
   "outputs": [],
   "source": [
    "#with open('chipPerVisitData.pickle', 'rb') as handle:\n",
    "#      savedData= pickle.load(handle)\n"
   ]
  },
  {
   "cell_type": "code",
   "execution_count": 15,
   "metadata": {
    "collapsed": false
   },
   "outputs": [
    {
     "data": {
      "text/html": [
       "<div>\n",
       "<table border=\"1\" class=\"dataframe\">\n",
       "  <thead>\n",
       "    <tr style=\"text-align: right;\">\n",
       "      <th></th>\n",
       "      <th>0</th>\n",
       "      <th>1</th>\n",
       "      <th>2</th>\n",
       "    </tr>\n",
       "  </thead>\n",
       "  <tbody>\n",
       "    <tr>\n",
       "      <th>obsHistID</th>\n",
       "      <td>40336</td>\n",
       "      <td>40337</td>\n",
       "      <td>40338</td>\n",
       "    </tr>\n",
       "    <tr>\n",
       "      <th>expDate</th>\n",
       "      <td>[4673449]</td>\n",
       "      <td>[4673487]</td>\n",
       "      <td>[4673526]</td>\n",
       "    </tr>\n",
       "    <tr>\n",
       "      <th>fIDs</th>\n",
       "      <td>[1305]</td>\n",
       "      <td>[1323]</td>\n",
       "      <td>[1333]</td>\n",
       "    </tr>\n",
       "    <tr>\n",
       "      <th>Chips</th>\n",
       "      <td>[R:1,1 S:2,1, R:1,1 S:2,2, R:1,2 S:2,0, R:2,1 ...</td>\n",
       "      <td>[R:1,0 S:2,1, R:1,0 S:2,2, R:1,1 S:2,0, R:1,1 ...</td>\n",
       "      <td>[R:1,0 S:2,0, R:1,0 S:2,1, R:1,0 S:2,2, R:1,1 ...</td>\n",
       "    </tr>\n",
       "  </tbody>\n",
       "</table>\n",
       "</div>"
      ],
      "text/plain": [
       "                                                           0  \\\n",
       "obsHistID                                              40336   \n",
       "expDate                                            [4673449]   \n",
       "fIDs                                                  [1305]   \n",
       "Chips      [R:1,1 S:2,1, R:1,1 S:2,2, R:1,2 S:2,0, R:2,1 ...   \n",
       "\n",
       "                                                           1  \\\n",
       "obsHistID                                              40337   \n",
       "expDate                                            [4673487]   \n",
       "fIDs                                                  [1323]   \n",
       "Chips      [R:1,0 S:2,1, R:1,0 S:2,2, R:1,1 S:2,0, R:1,1 ...   \n",
       "\n",
       "                                                           2  \n",
       "obsHistID                                              40338  \n",
       "expDate                                            [4673526]  \n",
       "fIDs                                                  [1333]  \n",
       "Chips      [R:1,0 S:2,0, R:1,0 S:2,1, R:1,0 S:2,2, R:1,1 ...  "
      ]
     },
     "execution_count": 15,
     "metadata": {},
     "output_type": "execute_result"
    }
   ],
   "source": [
    "minInd, maxInd= 0, 3\n",
    "pd.DataFrame([obsIDsList[minInd:maxInd], expDatesList[minInd:maxInd], \n",
    "              fIDsList[minInd:maxInd], chipNamesList[minInd:maxInd]], ['obsHistID', 'expDate', 'fIDs', 'Chips'])"
   ]
  },
  {
   "cell_type": "code",
   "execution_count": 17,
   "metadata": {
    "collapsed": false
   },
   "outputs": [
    {
     "data": {
      "text/plain": [
       "72"
      ]
     },
     "execution_count": 17,
     "metadata": {},
     "output_type": "execute_result"
    }
   ],
   "source": [
    "len(chipNamesList[0])"
   ]
  },
  {
   "cell_type": "code",
   "execution_count": 19,
   "metadata": {
    "collapsed": false
   },
   "outputs": [
    {
     "data": {
      "text/plain": [
       "72"
      ]
     },
     "execution_count": 19,
     "metadata": {},
     "output_type": "execute_result"
    }
   ],
   "source": [
    "len(np.unique(chipNamesList[0]))"
   ]
  },
  {
   "cell_type": "code",
   "execution_count": null,
   "metadata": {
    "collapsed": true
   },
   "outputs": [],
   "source": []
  }
 ],
 "metadata": {
  "kernelspec": {
   "display_name": "Python 2",
   "language": "python",
   "name": "python2"
  },
  "language_info": {
   "codemirror_mode": {
    "name": "ipython",
    "version": 2
   },
   "file_extension": ".py",
   "mimetype": "text/x-python",
   "name": "python",
   "nbconvert_exporter": "python",
   "pygments_lexer": "ipython2",
   "version": "2.7.12"
  }
 },
 "nbformat": 4,
 "nbformat_minor": 0
}
